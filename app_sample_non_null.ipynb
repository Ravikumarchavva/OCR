{
 "cells": [
  {
   "cell_type": "markdown",
   "metadata": {},
   "source": [
    "# Table of contents\n",
    "1. [Introduction](#introduction)\n",
    "2. [Data Ingestion](#data-ingestion)\n",
    "3. [Data Extraction](#data-extraction)\n",
    "4. [Display the output](#display-the-output)\n",
    "5. [Display the output in a table](#display-the-output-in-a-table)\n",
    "6. [Conclusion](#conclusion)"
   ]
  },
  {
   "cell_type": "markdown",
   "metadata": {},
   "source": [
    "## Introduction\n",
    "In this notebook, we will be extracting the data from the given PDF and display the output in a table format. We will be using the Gemini API to extract the data from the PDF."
   ]
  },
  {
   "cell_type": "markdown",
   "metadata": {},
   "source": [
    "## Data Ingestion\n",
    "We will upload the PDF file to the notebook and then transform the pdf into base64 utf-8 format."
   ]
  },
  {
   "cell_type": "code",
   "execution_count": 5,
   "metadata": {},
   "outputs": [
    {
     "name": "stdout",
     "output_type": "stream",
     "text": [
      "c:\\Users\\ravi.kumar\\github\\OCR\\data\\invoices\\crViewer - 2023-08-08T091520.889.pdf\n"
     ]
    }
   ],
   "source": [
    "from components.data_ingestion import DataIngestion\n",
    "from configs import ROOT_DIR, EMPTY_RETURN_PROMPT\n",
    "import os\n",
    "\n",
    "invoice_dir = ROOT_DIR / 'data' / 'invoices'\n",
    "invoice_files = os.listdir(invoice_dir)\n",
    "\n",
    "file_path = invoice_dir / invoice_files[5]\n",
    "print(file_path)\n",
    "data_ingestion = DataIngestion()\n",
    "data = data_ingestion.transform(file_path)"
   ]
  },
  {
   "cell_type": "markdown",
   "metadata": {},
   "source": [
    "## Data Extraction\n",
    "We will use the Gemini API to extract the data from the PDF."
   ]
  },
  {
   "cell_type": "code",
   "execution_count": 6,
   "metadata": {},
   "outputs": [],
   "source": [
    "from components.model import OCR_Model\n",
    "ocr_model = OCR_Model(model=\"gemini-1.5-flash-8b\", prompt=EMPTY_RETURN_PROMPT)\n",
    "invoice = ocr_model.extract(data)"
   ]
  },
  {
   "cell_type": "markdown",
   "metadata": {},
   "source": [
    "## Display the output\n",
    "We will display the extracted data in the form of JSON."
   ]
  },
  {
   "cell_type": "code",
   "execution_count": 7,
   "metadata": {},
   "outputs": [
    {
     "data": {
      "text/plain": [
       "{'line_items': [{'ItemPosition': 1,\n",
       "   'ProductCode': '',\n",
       "   'Description': 'Non Contract Charges covering all vehicles laid down in Appendix 2 of the operations manual James Hall & Co Ltd',\n",
       "   'Quantity': 1,\n",
       "   'UnitPrice': 169.6,\n",
       "   'ItemVatRate': 20,\n",
       "   'TotalAmount': 169.6}],\n",
       " 'headers': {'suppName': 'Vaculug Limited',\n",
       "  'invNo': '109948',\n",
       "  'invDate': '2023-06-08',\n",
       "  'dueDate': 'string',\n",
       "  'orderNo': '500389',\n",
       "  'custName': 'James Hall & Co Ltd',\n",
       "  'custAddress': 'Hoghton chambers Houghton Street southport Lancashire PR9 OTB',\n",
       "  'amountNet': 169.6,\n",
       "  'amountVat': 33.92,\n",
       "  'amountTotal': 203.52,\n",
       "  'currency': '£'}}"
      ]
     },
     "metadata": {},
     "output_type": "display_data"
    }
   ],
   "source": [
    "ocr_model.display(invoice)"
   ]
  },
  {
   "cell_type": "markdown",
   "metadata": {},
   "source": [
    "## Display the output in a table\n",
    "We will display the extracted data in the form of a table."
   ]
  },
  {
   "cell_type": "code",
   "execution_count": 8,
   "metadata": {},
   "outputs": [
    {
     "data": {
      "text/html": [
       "<table border=\"1\"><tr><th>line_items</th><td><table border=\"1\"><thead><tr><th>ItemPosition</th><th>ProductCode</th><th>Description</th><th>Quantity</th><th>UnitPrice</th><th>ItemVatRate</th><th>TotalAmount</th></tr></thead><tbody><tr><td>1</td><td></td><td>Non Contract Charges covering all vehicles laid down in Appendix 2 of the operations manual James Hall &amp; Co Ltd</td><td>1</td><td>169.6</td><td>20</td><td>169.6</td></tr></tbody></table></td></tr><tr><th>headers</th><td><table border=\"1\"><tr><th>suppName</th><td>Vaculug Limited</td></tr><tr><th>invNo</th><td>109948</td></tr><tr><th>invDate</th><td>2023-06-08</td></tr><tr><th>dueDate</th><td>string</td></tr><tr><th>orderNo</th><td>500389</td></tr><tr><th>custName</th><td>James Hall &amp; Co Ltd</td></tr><tr><th>custAddress</th><td>Hoghton chambers Houghton Street southport Lancashire PR9 OTB</td></tr><tr><th>amountNet</th><td>169.6</td></tr><tr><th>amountVat</th><td>33.92</td></tr><tr><th>amountTotal</th><td>203.52</td></tr><tr><th>currency</th><td>£</td></tr></table></td></tr></table>"
      ],
      "text/plain": [
       "<IPython.core.display.HTML object>"
      ]
     },
     "metadata": {},
     "output_type": "display_data"
    }
   ],
   "source": [
    "ocr_model.display(invoice, html=True)"
   ]
  },
  {
   "cell_type": "markdown",
   "metadata": {},
   "source": [
    "## Conclusion\n",
    "We have successfully extracted the data from the PDF and displayed the output in a table format."
   ]
  }
 ],
 "metadata": {
  "kernelspec": {
   "display_name": "gemini",
   "language": "python",
   "name": "python3"
  },
  "language_info": {
   "codemirror_mode": {
    "name": "ipython",
    "version": 3
   },
   "file_extension": ".py",
   "mimetype": "text/x-python",
   "name": "python",
   "nbconvert_exporter": "python",
   "pygments_lexer": "ipython3",
   "version": "3.9.21"
  }
 },
 "nbformat": 4,
 "nbformat_minor": 2
}
