{
 "cells": [
  {
   "cell_type": "code",
   "execution_count": 1,
   "metadata": {},
   "outputs": [
    {
     "data": {
      "text/plain": [
       "WindowsPath('d:/github/OCR/notebooks/openai/../../data/mark/Fw__Examples_of_QC_reports_for_setting_up_templates_in_Leadtools/DPS9 PO 177768 - 221234 Summary Report.pdf')"
      ]
     },
     "execution_count": 1,
     "metadata": {},
     "output_type": "execute_result"
    }
   ],
   "source": [
    "import sys\n",
    "sys.path.append('../..')\n",
    "from config.configs import ROOT_DIR\n",
    "\n",
    "file_path = ROOT_DIR / 'data' / 'mark' / 'Fw__Examples_of_QC_reports_for_setting_up_templates_in_Leadtools' / 'DPS9 PO 177768 - 221234 Summary Report.pdf'\n",
    "file_path"
   ]
  },
  {
   "cell_type": "code",
   "execution_count": 2,
   "metadata": {},
   "outputs": [],
   "source": [
    "from openai import OpenAI\n",
    "\n",
    "# Create a client\n",
    "client = OpenAI()\n",
    "\n",
    "vector_store = client.beta.vector_stores.create(name=\"Report Summaries\")\n",
    "\n",
    "file_streams = [open(file_path, \"rb\")]\n",
    "\n",
    "file_batch = client.beta.vector_stores.file_batches.upload_and_poll(\n",
    "    vector_store_id=vector_store.id,\n",
    "    files=file_streams,\n",
    ")"
   ]
  },
  {
   "cell_type": "code",
   "execution_count": 3,
   "metadata": {},
   "outputs": [],
   "source": [
    "assistant = client.beta.assistants.create(\n",
    "    name=\"PDF reporter\",\n",
    "    description=\"You are adept at summarizing PDF reports. You analyze data present in .pdf files, understand trends, and provide concise summaries.\",\n",
    "    model=\"gpt-4o\",\n",
    "    tools=[{\"type\": \"file_search\"}],\n",
    "        tool_resources={\"file_search\": {\"vector_store_ids\": [vector_store.id]}}\n",
    ")"
   ]
  },
  {
   "cell_type": "code",
   "execution_count": 4,
   "metadata": {},
   "outputs": [],
   "source": [
    "thread = client.beta.threads.create()\n",
    "\n",
    "text = \"Extract the all the items important content from the report table (Probably present in first 1 or 2 pages) in the PDF file and return as a dataframe.\"\n",
    "messages = client.beta.threads.messages.create(\n",
    "    thread_id=thread.id,\n",
    "    role=\"user\",\n",
    "    content=text,\n",
    ")\n",
    "\n",
    "run = client.beta.threads.runs.create_and_poll(\n",
    "    thread_id=thread.id, assistant_id=assistant.id\n",
    ")"
   ]
  },
  {
   "cell_type": "code",
   "execution_count": 5,
   "metadata": {},
   "outputs": [
    {
     "name": "stdout",
     "output_type": "stream",
     "text": [
      "Based on the content review of the specified pages in the PDF, here is the important item information extracted in the form of a dataframe:\n",
      "\n",
      "| Column Name | Data |\n",
      "|-------------|------|\n",
      "| Customer    | DPS9 PO 177768 / ISS PO 221234 |\n",
      "| Received Date | 20/01/2025 08:12:44 |\n",
      "| Supplier    | INTERTERRA agromedina |\n",
      "| Country of Origin | Spain |\n",
      "| Pallet ID   | Supplier: 6187903, Customer: 6187903 |\n",
      "| Product     | Persimon 15x3 Cell |\n",
      "| Harvest Date | 09/11/2024 |\n",
      "| Expected Quantity | 145 |\n",
      "| Received Quantity | 145 |\n",
      "| Estimated Yield | 100% |\n",
      "| Defects Total | 3.70% |\n",
      "| Minor Defects | Poor Colour: 2.22%, Scarring: 1.48% |\n",
      "| Inspection | Conducted by: Bobby.Murphy |\n",
      "| Lot Number | 551839 |\n",
      "| Brand      | STND |\n",
      "| End Customer | Marks & Spencer |\n",
      "| Box/Pack Weights | Avg 371g, Min 355g, Max 403g |\n",
      "| Sugar Brix | Avg 17.36%, Min 15.80%, Max 18.90% |\n",
      "| Pressure   | Avg 3.78, Min 1.95, Max 5.32 |\n",
      "| Comments   | Scarring and poor colour noted. |\n",
      "\n",
      "This generalization follows the results seen for multiple entries within the inspected report portions【4:0†DPS9 PO 177768 - 221234 Summary Report.pdf】.\n"
     ]
    }
   ],
   "source": [
    "messages = client.beta.threads.messages.list(thread_id=thread.id, run_id=run.id)\n",
    "message_content = messages.data[0].content[0].text\n",
    "print(message_content.value)"
   ]
  },
  {
   "cell_type": "code",
   "execution_count": 6,
   "metadata": {},
   "outputs": [
    {
     "data": {
      "text/plain": [
       "SyncCursorPage[Message](data=[Message(id='msg_lC8QMLbo61BZN5Wp2LaW36Ut', assistant_id='asst_KSclhP7d7JPL9YLzVXzilPz1', attachments=[], completed_at=None, content=[TextContentBlock(text=Text(annotations=[FileCitationAnnotation(end_index=1108, file_citation=FileCitation(file_id='file-Ks81euNg4UJZJTFE6hVfJr'), start_index=1060, text='【4:0†DPS9 PO 177768 - 221234 Summary Report.pdf】', type='file_citation')], value='Based on the content review of the specified pages in the PDF, here is the important item information extracted in the form of a dataframe:\\n\\n| Column Name | Data |\\n|-------------|------|\\n| Customer    | DPS9 PO 177768 / ISS PO 221234 |\\n| Received Date | 20/01/2025 08:12:44 |\\n| Supplier    | INTERTERRA agromedina |\\n| Country of Origin | Spain |\\n| Pallet ID   | Supplier: 6187903, Customer: 6187903 |\\n| Product     | Persimon 15x3 Cell |\\n| Harvest Date | 09/11/2024 |\\n| Expected Quantity | 145 |\\n| Received Quantity | 145 |\\n| Estimated Yield | 100% |\\n| Defects Total | 3.70% |\\n| Minor Defects | Poor Colour: 2.22%, Scarring: 1.48% |\\n| Inspection | Conducted by: Bobby.Murphy |\\n| Lot Number | 551839 |\\n| Brand      | STND |\\n| End Customer | Marks & Spencer |\\n| Box/Pack Weights | Avg 371g, Min 355g, Max 403g |\\n| Sugar Brix | Avg 17.36%, Min 15.80%, Max 18.90% |\\n| Pressure   | Avg 3.78, Min 1.95, Max 5.32 |\\n| Comments   | Scarring and poor colour noted. |\\n\\nThis generalization follows the results seen for multiple entries within the inspected report portions【4:0†DPS9 PO 177768 - 221234 Summary Report.pdf】.'), type='text')], created_at=1738862032, incomplete_at=None, incomplete_details=None, metadata={}, object='thread.message', role='assistant', run_id='run_D795Unrj5DpPwKRMxDNvxYVT', status=None, thread_id='thread_DK0LO5axntEurS43Q0QL5w8c')], object='list', first_id='msg_lC8QMLbo61BZN5Wp2LaW36Ut', last_id='msg_lC8QMLbo61BZN5Wp2LaW36Ut', has_more=False)"
      ]
     },
     "execution_count": 6,
     "metadata": {},
     "output_type": "execute_result"
    }
   ],
   "source": [
    "messages"
   ]
  },
  {
   "cell_type": "code",
   "execution_count": null,
   "metadata": {},
   "outputs": [],
   "source": []
  }
 ],
 "metadata": {
  "kernelspec": {
   "display_name": "gemini",
   "language": "python",
   "name": "python3"
  },
  "language_info": {
   "codemirror_mode": {
    "name": "ipython",
    "version": 3
   },
   "file_extension": ".py",
   "mimetype": "text/x-python",
   "name": "python",
   "nbconvert_exporter": "python",
   "pygments_lexer": "ipython3",
   "version": "3.11.10"
  }
 },
 "nbformat": 4,
 "nbformat_minor": 2
}
