{
 "cells": [
  {
   "cell_type": "code",
   "execution_count": 1,
   "metadata": {},
   "outputs": [
    {
     "name": "stdout",
     "output_type": "stream",
     "text": []
    }
   ],
   "source": [
    "import sys\n",
    "sys.path.append('..')\n",
    "from configs import ROOT_DIR\n",
    "import os\n",
    "\n",
    "import polars as pl\n",
    "BENCHMARKS_DIR = ROOT_DIR / 'benchmarks'\n",
    "BENCHMARKS_DIR.mkdir(exist_ok=True)\n",
    "os.listdir(BENCHMARKS_DIR)"
   ]
  },
  {
   "cell_type": "code",
   "execution_count": 2,
   "metadata": {},
   "outputs": [],
   "source": [
    "from components.data_ingestion import DataIngestion\n",
    "from components.model import OCR_Model\n",
    "\n",
    "pdf_path = BENCHMARKS_DIR / 'invoices'\n",
    "json_path = BENCHMARKS_DIR / 'groundtruths'\n",
    "data_ingestion = DataIngestion()\n",
    "invoice_pdf = data_ingestion.transform(pdf_path/ os.listdir(pdf_path)[1])"
   ]
  },
  {
   "cell_type": "code",
   "execution_count": 3,
   "metadata": {},
   "outputs": [],
   "source": [
    "from configs import EMPTY_RETURN_PROMPT\n",
    "model = OCR_Model(prompt=EMPTY_RETURN_PROMPT)\n",
    "invoice_response = model.extract(invoice_pdf)"
   ]
  },
  {
   "cell_type": "code",
   "execution_count": 39,
   "metadata": {},
   "outputs": [],
   "source": [
    "import json\n",
    "with open(json_path/ os.listdir(json_path)[1], 'r') as f:\n",
    "    groundtruth = json.load(f)"
   ]
  },
  {
   "cell_type": "code",
   "execution_count": 40,
   "metadata": {},
   "outputs": [],
   "source": [
    "gt_headers = groundtruth['headers']\n",
    "gt_headers.pop(\"filename\")\n",
    "pred_headers = invoice_response['headers']\n",
    "\n",
    "gt_items = groundtruth['line_items']\n",
    "pred_items = invoice_response['line_items']"
   ]
  },
  {
   "cell_type": "code",
   "execution_count": 41,
   "metadata": {},
   "outputs": [
    {
     "name": "stdout",
     "output_type": "stream",
     "text": [
      "Groundtruth Headers\n"
     ]
    },
    {
     "data": {
      "text/html": [
       "<table border=\"1\"><tr><th>invNo</th><td>90633842</td></tr><tr><th>invDate</th><td>2024-03-02</td></tr><tr><th>orderNo</th><td>996991</td></tr><tr><th>amountNet</th><td>375</td></tr><tr><th>amountVat</th><td>0.0</td></tr><tr><th>amountTotal</th><td>375.0</td></tr><tr><th>suppName</th><td>PORK FARMS QUEENS DRIVE</td></tr></table>"
      ],
      "text/plain": [
       "<IPython.core.display.HTML object>"
      ]
     },
     "metadata": {},
     "output_type": "display_data"
    },
    {
     "name": "stdout",
     "output_type": "stream",
     "text": [
      "Predicted Headers\n"
     ]
    },
    {
     "data": {
      "text/html": [
       "<table border=\"1\"><tr><th>invNo</th><td>090633842</td></tr><tr><th>invDate</th><td>2024-02-03</td></tr><tr><th>orderNo</th><td>996991/0</td></tr><tr><th>amountNet</th><td>375.0</td></tr><tr><th>amountVat</th><td>0.0</td></tr><tr><th>amountTotal</th><td>375.0</td></tr><tr><th>suppName</th><td>Pork Farms Ltd</td></tr></table>"
      ],
      "text/plain": [
       "<IPython.core.display.HTML object>"
      ]
     },
     "metadata": {},
     "output_type": "display_data"
    },
    {
     "name": "stdout",
     "output_type": "stream",
     "text": [
      "Groundtruth Line Items\n"
     ]
    },
    {
     "data": {
      "text/html": [
       "<table border=\"1\"><thead><tr><th>ItemPosition</th><th>ProductCode</th><th>Description</th><th>Quantity</th><th>UnitPrice</th><th>ItemVatRate</th><th>TotalAmount</th></tr></thead><tbody><tr><td>1</td><td>268843</td><td>P/FARMS CRISPY BACON   50G    8</td><td>30.0</td><td>12.5</td><td>0.0</td><td>375.0</td></tr></tbody></table>"
      ],
      "text/plain": [
       "<IPython.core.display.HTML object>"
      ]
     },
     "metadata": {},
     "output_type": "display_data"
    },
    {
     "name": "stdout",
     "output_type": "stream",
     "text": [
      "Predicted Line Items\n"
     ]
    },
    {
     "data": {
      "text/html": [
       "<table border=\"1\"><thead><tr><th>ItemPosition</th><th>ProductCode</th><th>Description</th><th>Quantity</th><th>UnitPrice</th><th>ItemVatRate</th><th>TotalAmount</th></tr></thead><tbody><tr><td>1</td><td>6030847</td><td>PF 50G MAPLE BACON STRIPS X8</td><td>30.0</td><td>12.5</td><td>0.0</td><td>375.0</td></tr></tbody></table>"
      ],
      "text/plain": [
       "<IPython.core.display.HTML object>"
      ]
     },
     "metadata": {},
     "output_type": "display_data"
    }
   ],
   "source": [
    "from IPython.display import display, HTML\n",
    "import json2html\n",
    "print(\"Groundtruth Headers\")\n",
    "display(HTML(json2html.json2html.convert(json = gt_headers)))\n",
    "print(\"Predicted Headers\")\n",
    "display(HTML(json2html.json2html.convert(json = pred_headers)))\n",
    "print(\"Groundtruth Line Items\")\n",
    "display(HTML(json2html.json2html.convert(json = gt_items)))\n",
    "print(\"Predicted Line Items\")\n",
    "display(HTML(json2html.json2html.convert(json = pred_items)))"
   ]
  },
  {
   "cell_type": "code",
   "execution_count": 42,
   "metadata": {},
   "outputs": [
    {
     "name": "stdout",
     "output_type": "stream",
     "text": [
      "Header Accuracy: 79.57%\n"
     ]
    }
   ],
   "source": [
    "from fuzzywuzzy import fuzz\n",
    "\n",
    "correct = 0\n",
    "total = len(gt_headers)\n",
    "\n",
    "for key in gt_headers:\n",
    "    if key in pred_headers:\n",
    "        if isinstance(gt_headers[key], str):\n",
    "            similarity = fuzz.ratio(gt_headers[key], str(pred_headers[key])) / 100\n",
    "            correct += similarity\n",
    "        else:\n",
    "            try:\n",
    "                correct += 1 if float(gt_headers[key]) == float(pred_headers[key]) else 0\n",
    "            except ValueError:\n",
    "                similarity = fuzz.ratio(str(gt_headers[key]), str(pred_headers[key])) / 100\n",
    "                correct += similarity\n",
    "\n",
    "header_accuracy = (correct / total) * 100\n",
    "print(f\"Header Accuracy: {header_accuracy:.2f}%\")"
   ]
  },
  {
   "cell_type": "code",
   "execution_count": 43,
   "metadata": {},
   "outputs": [
    {
     "name": "stdout",
     "output_type": "stream",
     "text": [
      "Line Item Accuracy: 88.80%\n"
     ]
    }
   ],
   "source": [
    "correct_items = 0\n",
    "total_items = len(gt_items)\n",
    "\n",
    "for gt, pred in zip(gt_items, pred_items):\n",
    "    desc_score = fuzz.ratio(gt[\"Description\"], pred[\"Description\"]) / 100\n",
    "    qty_match = 1 if gt[\"Quantity\"] == pred[\"Quantity\"] else 0\n",
    "    price_match = 1 if gt[\"UnitPrice\"] == pred[\"UnitPrice\"] else 0\n",
    "    vat_match = 1 if abs(gt[\"ItemVatRate\"] - pred[\"ItemVatRate\"]) <= 3 else 0  # Allow small variation\n",
    "    total_match = 1 if gt[\"TotalAmount\"] == pred[\"TotalAmount\"] else 0\n",
    "\n",
    "    item_score = (desc_score + qty_match + price_match + vat_match + total_match) / 5\n",
    "    correct_items += item_score\n",
    "\n",
    "line_item_accuracy = (correct_items / total_items) * 100\n",
    "print(f\"Line Item Accuracy: {line_item_accuracy:.2f}%\")"
   ]
  }
 ],
 "metadata": {
  "kernelspec": {
   "display_name": "gemini",
   "language": "python",
   "name": "python3"
  },
  "language_info": {
   "codemirror_mode": {
    "name": "ipython",
    "version": 3
   },
   "file_extension": ".py",
   "mimetype": "text/x-python",
   "name": "python",
   "nbconvert_exporter": "python",
   "pygments_lexer": "ipython3",
   "version": "3.9.21"
  }
 },
 "nbformat": 4,
 "nbformat_minor": 2
}
