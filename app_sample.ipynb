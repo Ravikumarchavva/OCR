{
 "cells": [
  {
   "cell_type": "markdown",
   "metadata": {},
   "source": [
    "# Table of contents\n",
    "1. [Introduction](#introduction)\n",
    "2. [Data Ingestion](#data-ingestion)\n",
    "3. [Data Extraction](#data-extraction)\n",
    "4. [Display the output](#display-the-output)\n",
    "5. [Display the output in a table](#display-the-output-in-a-table)\n",
    "6. [Conclusion](#conclusion)"
   ]
  },
  {
   "cell_type": "markdown",
   "metadata": {},
   "source": [
    "## Introduction\n",
    "In this notebook, we will be extracting the data from the given PDF and display the output in a table format. We will be using the Gemini API to extract the data from the PDF."
   ]
  },
  {
   "cell_type": "markdown",
   "metadata": {},
   "source": [
    "## Data Ingestion\n",
    "We will upload the PDF file to the notebook and then transform the pdf into base64 utf-8 format."
   ]
  },
  {
   "cell_type": "code",
   "execution_count": 1,
   "metadata": {},
   "outputs": [
    {
     "name": "stdout",
     "output_type": "stream",
     "text": [
      "c:\\Users\\ravi.kumar\\github\\OCR\\data\\invoices\\Crowshall Invoice 50568.pdf\n"
     ]
    }
   ],
   "source": [
    "from components.data_ingestion import DataIngestion\n",
    "from configs import ROOT_DIR\n",
    "import os\n",
    "\n",
    "invoice_dir = ROOT_DIR / 'data' / 'invoices'\n",
    "invoice_files = os.listdir(invoice_dir)\n",
    "\n",
    "file_path = invoice_dir / invoice_files[5]\n",
    "print(file_path)\n",
    "data_ingestion = DataIngestion()\n",
    "data = data_ingestion.transform(file_path)"
   ]
  },
  {
   "cell_type": "markdown",
   "metadata": {},
   "source": [
    "## Data Extraction\n",
    "We will use the Gemini API to extract the data from the PDF."
   ]
  },
  {
   "cell_type": "code",
   "execution_count": 2,
   "metadata": {},
   "outputs": [],
   "source": [
    "from components.model import OCR_Model\n",
    "ocr_model = OCR_Model(model=\"gemini-2.0-flash-thinking-exp\")\n",
    "invoice = ocr_model._predict(data)"
   ]
  },
  {
   "cell_type": "code",
   "execution_count": 4,
   "metadata": {},
   "outputs": [],
   "source": [
    "from components.extractor import InvoiceExtractor\n",
    "extractor = InvoiceExtractor()\n",
    "response = extractor.extract(invoice)"
   ]
  },
  {
   "cell_type": "markdown",
   "metadata": {},
   "source": [
    "## Display the output\n",
    "We will display the extracted data in the form of JSON."
   ]
  },
  {
   "cell_type": "code",
   "execution_count": null,
   "metadata": {},
   "outputs": [
    {
     "data": {
      "text/plain": [
       "{'line_items': [{'ItemPosition': 1,\n",
       "   'ProductCode': 'null',\n",
       "   'Description': 'MS H (1000d) (-80C Storage) + EYEDROPPERS 04/05/2020 21178 Belchford New',\n",
       "   'Quantity': 35.0,\n",
       "   'UnitPrice': 100.52,\n",
       "   'ItemVatRate': 20.0,\n",
       "   'TotalAmount': 3518.2}],\n",
       " 'headers': {'suppName': 'CROWSHALL VETERINARY SERVICES LLP',\n",
       "  'invNo': '50564',\n",
       "  'invDate': '2020-05-31',\n",
       "  'dueDate': '2020-06-30',\n",
       "  'orderNo': 'null',\n",
       "  'custName': 'L J Fairburn & Son',\n",
       "  'custAddress': 'Ivy House\\nFarm Office\\nFarlesthorpe Road\\nLincolnshire\\nLN13 9PL',\n",
       "  'amountNet': 3518.2,\n",
       "  'amountVat': 703.64,\n",
       "  'amountTotal': 4221.84,\n",
       "  'currency': '£'}}"
      ]
     },
     "metadata": {},
     "output_type": "display_data"
    }
   ],
   "source": [
    "ocr_model.display(invoice)"
   ]
  },
  {
   "cell_type": "markdown",
   "metadata": {},
   "source": [
    "## Display the output in a table\n",
    "We will display the extracted data in the form of a table."
   ]
  },
  {
   "cell_type": "code",
   "execution_count": 5,
   "metadata": {},
   "outputs": [
    {
     "data": {
      "text/html": [
       "<table border=\"1\"><tr><th>line_items</th><td><table border=\"1\"><thead><tr><th>ItemPosition</th><th>ProductCode</th><th>Description</th><th>Quantity</th><th>UnitPrice</th><th>TotalAmount</th><th>ItemVatRate</th></tr></thead><tbody><tr><td>1</td><td>None</td><td>Retainer fee</td><td>1.0</td><td>1600.00</td><td>1,600.00</td><td>20.0</td></tr><tr><td>2</td><td>None</td><td>Paracox 8 (1000 doses) 0650A\n",
       "22/05/2020 73310</td><td>1.0</td><td>103.16</td><td>103.16</td><td>20.0</td></tr><tr><td>3</td><td>None</td><td>Denagard (1 litre) 22575\n",
       "05/05/2020 72961</td><td>9.0</td><td>43.72</td><td>393.48</td><td>20.0</td></tr><tr><td>4</td><td>None</td><td>Salmonella Test - Gauze swabs (10) (MSRV)\n",
       "11/05/2020 S0358320</td><td>2.0</td><td>11.33</td><td>22.66</td><td>20.0</td></tr><tr><td>5</td><td>None</td><td>SpecDelSat1pm-Citramox\n",
       "07/05/2020</td><td>1.0</td><td>15.00</td><td>15.00</td><td>20.0</td></tr><tr><td>6</td><td>None</td><td>Poulvac IB Primer (5000 doses) 386290\n",
       "12/05/2020 73048</td><td>5.0</td><td>20.79</td><td>103.95</td><td>20.0</td></tr><tr><td>7</td><td>None</td><td>Gallimune 407 (1000 doses) 1471202\n",
       "26/05/2020 73357</td><td>25.0</td><td>60.73</td><td>1,518.25</td><td>20.0</td></tr><tr><td>8</td><td>None</td><td>Poulvac HB1 (5000 doses) 316856-322730\n",
       "04/05/2020 72918</td><td>12.0</td><td>7.50</td><td>90.00</td><td>20.0</td></tr><tr><td>9</td><td>None</td><td>Poulvac ILT (1000 doses) 381717\n",
       "12/05/2020 73050</td><td>60.0</td><td>10.78</td><td>646.80</td><td>20.0</td></tr><tr><td>10</td><td>None</td><td>Poulvac ILT (1000 doses) 40188\n",
       "12/05/2020 73051</td><td>27.0</td><td>10.78</td><td>291.06</td><td>20.0</td></tr><tr><td>11</td><td>None</td><td>CEVAC MASS L (5000d) 0710h2l1kla\n",
       "26/05/2020 73360</td><td>6.0</td><td>11.00</td><td>66.00</td><td>20.0</td></tr><tr><td>12</td><td>None</td><td>iBird (1000d) 1107h2d1kga\n",
       "26/05/2020 73362</td><td>2.0</td><td>3.25</td><td>6.50</td><td>20.0</td></tr><tr><td>13</td><td>None</td><td>iBird (5000d) 1710h4u1kla\n",
       "26/05/2020 73363</td><td>5.0</td><td>16.25</td><td>81.25</td><td>20.0</td></tr><tr><td>14</td><td>None</td><td>Evalon (5000d) 18K42L\n",
       "04/05/2020 72935</td><td>8.0</td><td>420.75</td><td>3,366.00</td><td>20.0</td></tr><tr><td>15</td><td>None</td><td>Amproline 40% (1 litre) 3049024A\n",
       "22/05/2020 73313</td><td>3.0</td><td>79.99</td><td>239.97</td><td>20.0</td></tr><tr><td>16</td><td>None</td><td>Post Mortem\n",
       "13/05/2020 MAY027520</td><td>1.0</td><td>48.59</td><td>48.59</td><td>20.0</td></tr><tr><td>17</td><td>None</td><td>Amproline 40% (1 litre) 3049024a\n",
       "14/05/2020 73153</td><td>8.0</td><td>79.99</td><td>639.92</td><td>20.0</td></tr><tr><td>18</td><td>None</td><td>Salmonella Test - Dust (50g)- (MSRV)\n",
       "13/05/2020 S0371820</td><td>1.0</td><td>11.33</td><td>11.33</td><td>20.0</td></tr><tr><td>19</td><td>None</td><td>Salmonella Test - Bootswabs (2 Pairs)- (MSRV)\n",
       "13/05/2020 S0369320</td><td>1.0</td><td>11.33</td><td>11.33</td><td>20.0</td></tr><tr><td>20</td><td>None</td><td>Post Mortem\n",
       "27/05/2020 MAY061420</td><td>1.0</td><td>48.59</td><td>48.59</td><td>20.0</td></tr><tr><td>21</td><td>None</td><td>Citramox (200g) 190371997\n",
       "07/05/2020 73009</td><td>3.0</td><td>31.50</td><td>94.50</td><td>20.0</td></tr><tr><td>22</td><td>None</td><td>Bacteriology/Sensitivity Testing MAY061420\n",
       "Non Haemolytic E.coli</td><td>1.0</td><td>7.50</td><td>7.50</td><td>20.0</td></tr><tr><td>23</td><td>None</td><td>Bacteriology/Sensitivity Testing MAY061420\n",
       "Non Haemolytic Staphylococcus spp</td><td>1.0</td><td>7.50</td><td>7.50</td><td>20.0</td></tr><tr><td>24</td><td>None</td><td>1stClassLet-Sample HL\n",
       "06/05/2020 MAY0116</td><td>1.0</td><td>5.20</td><td>5.20</td><td>20.0</td></tr><tr><td>25</td><td>None</td><td>Crowshall Optishell (1 Litre) 201003\n",
       "27/05/2020 73415</td><td>7.0</td><td>10.75</td><td>75.25</td><td>0.0</td></tr><tr><td>26</td><td>None</td><td>Salmonella Test - Bootswabs (5 Pairs)- (MSRV)\n",
       "20/05/2020 S0388920</td><td>6.0</td><td>9.27</td><td>55.62</td><td>20.0</td></tr><tr><td>27</td><td>None</td><td>Salmonella Test - Bootswabs (2 Pairs)- (MSRV)\n",
       "06/05/2020 S0348020</td><td>1.0</td><td>11.33</td><td>11.33</td><td>20.0</td></tr><tr><td>28</td><td>None</td><td>Avian Encephalomyelitis (AE) ELISA (Crowshall)\n",
       "06/05/2020 MAY011520</td><td>10.0</td><td>3.90</td><td>39.00</td><td>20.0</td></tr><tr><td>29</td><td>None</td><td>Newcastle Disease (NDV) ELISA\n",
       "06/05/2020 MAY011520</td><td>10.0</td><td>2.60</td><td>26.00</td><td>20.0</td></tr><tr><td>30</td><td>None</td><td>Infectious Bronchitis (IB) ELISA\n",
       "06/05/2020 MAY011520</td><td>10.0</td><td>2.52</td><td>25.20</td><td>20.0</td></tr><tr><td>31</td><td>None</td><td>Salmonella Test - Bootswabs (2 Pairs)- (MSRV)\n",
       "20/05/2020 S0389220</td><td>1.0</td><td>11.33</td><td>11.33</td><td>20.0</td></tr><tr><td>32</td><td>None</td><td>PCR Package of 3 at Anicon\n",
       "06/05/2020 MAY011620</td><td>1.0</td><td>52.64</td><td>52.64</td><td>20.0</td></tr><tr><td>33</td><td>None</td><td>Post Mortem\n",
       "06/05/2020 MAY011620</td><td>1.0</td><td>48.59</td><td>48.59</td><td>20.0</td></tr><tr><td>34</td><td>None</td><td>Bacterial Isolation\n",
       "20/05/2020 MAY047620</td><td>1.0</td><td>21.42</td><td>21.42</td><td>20.0</td></tr><tr><td>35</td><td>None</td><td>Salmonella Test - Layer Multi-tier Composite\n",
       "27/05/2020 S0409220</td><td>2.0</td><td>11.85</td><td>23.70</td><td>20.0</td></tr><tr><td>36</td><td>None</td><td>Denagard (1 litre) 22577\n",
       "27/05/2020 73406</td><td>32.0</td><td>43.72</td><td>1,399.04</td><td>20.0</td></tr><tr><td>37</td><td>None</td><td>Bacteriology/Sensitivity Testing MAY047620\n",
       "Non Haemolytic Staphylococcus spp</td><td>1.0</td><td>7.50</td><td>7.50</td><td>20.0</td></tr><tr><td>38</td><td>None</td><td>Bacteriology/Sensitivity Testing MAY047620\n",
       "Other</td><td>1.0</td><td>7.50</td><td>7.50</td><td>20.0</td></tr><tr><td>39</td><td>None</td><td>Bacteriology/Sensitivity Testing MAY047620\n",
       "Pasteurella haemolytica</td><td>1.0</td><td>7.50</td><td>7.50</td><td>20.0</td></tr><tr><td>40</td><td>None</td><td>Bacterial Isolation\n",
       "20/05/2020 MAY047720</td><td>1.0</td><td>21.42</td><td>21.42</td><td>20.0</td></tr><tr><td>41</td><td>None</td><td>Post Mortem\n",
       "06/05/2020 MAY014120</td><td>1.0</td><td>48.59</td><td>48.59</td><td>20.0</td></tr><tr><td>42</td><td>None</td><td>Salmonella Test - Bootswabs (2 Pairs)- (MSRV)\n",
       "06/05/2020 S0348320</td><td>6.0</td><td>11.33</td><td>67.98</td><td>20.0</td></tr><tr><td>43</td><td>None</td><td>Salmonella Test - Dust (50g)- (MSRV)\n",
       "06/05/2020 S0351520</td><td>6.0</td><td>11.33</td><td>67.98</td><td>20.0</td></tr><tr><td>44</td><td>None</td><td>Newcastle Disease (NDV) ELISA\n",
       "20/05/2020 MAY045620</td><td>10.0</td><td>2.60</td><td>26.00</td><td>20.0</td></tr><tr><td>45</td><td>None</td><td>Avian Encephalomyelitis (AE) ELISA (Crowshall)\n",
       "20/05/2020 MAY045620</td><td>10.0</td><td>3.90</td><td>39.00</td><td>20.0</td></tr><tr><td>46</td><td>None</td><td>Infectious Bronchitis (IB) ELISA\n",
       "20/05/2020 MAY045620</td><td>10.0</td><td>2.52</td><td>25.20</td><td>20.0</td></tr><tr><td>47</td><td>None</td><td>Salmonella Test - Layer Multi-tier Composite\n",
       "06/05/2020 S0347620</td><td>2.0</td><td>11.85</td><td>23.70</td><td>20.0</td></tr><tr><td>48</td><td>None</td><td>Bacteriology/Sensitivity Testing MAY047720\n",
       "Non Haemolytic E.coli</td><td>1.0</td><td>7.50</td><td>7.50</td><td>20.0</td></tr><tr><td>49</td><td>None</td><td>Evalon (1000d) 14d71c-19v61e\n",
       "12/05/2020 73057</td><td>2.0</td><td>84.32</td><td>168.64</td><td>20.0</td></tr><tr><td>50</td><td>None</td><td>Evalon (5000d) 19v62i\n",
       "12/05/2020 73058</td><td>4.0</td><td>420.75</td><td>1,683.00</td><td>20.0</td></tr><tr><td>51</td><td>None</td><td>Evalon (5000d) 19v62i\n",
       "19/05/2020 73197</td><td>4.0</td><td>420.75</td><td>1,683.00</td><td>20.0</td></tr><tr><td>52</td><td>None</td><td>iBird (1000d) 1107h2d1kga\n",
       "26/05/2020 73364</td><td>2.0</td><td>3.25</td><td>6.50</td><td>20.0</td></tr><tr><td>53</td><td>None</td><td>iBird (5000d) 1710h4u1kla\n",
       "26/05/2020 73365</td><td>8.0</td><td>16.25</td><td>130.00</td><td>20.0</td></tr><tr><td>54</td><td>None</td><td>Salmonella Test - Gauze Swabs (7) (MSRV)\n",
       "13/05/2020 S0369720</td><td>4.0</td><td>11.33</td><td>45.32</td><td>20.0</td></tr><tr><td>55</td><td>None</td><td>Salmonella Test - Day Old Hatcher Tray Liners (10g)- (MS\n",
       "16/05/2020 S0379020</td><td>1.0</td><td>11.33</td><td>11.33</td><td>20.0</td></tr><tr><td>56</td><td>None</td><td>Salmonella Test - Dust (50g)- (MSRV)\n",
       "27/05/2020 S0410020</td><td>5.0</td><td>11.33</td><td>56.65</td><td>20.0</td></tr><tr><td>57</td><td>None</td><td>Nemovac (1000 doses) 1475296\n",
       "12/05/2020 73053</td><td>34.0</td><td>7.11</td><td>241.74</td><td>20.0</td></tr><tr><td>58</td><td>None</td><td>Poulvac IB Primer (5000 doses) 386290\n",
       "26/05/2020 73373</td><td>7.0</td><td>20.79</td><td>145.53</td><td>20.0</td></tr><tr><td>59</td><td>None</td><td>Salmonella Test - Bootswabs (2 Pairs)- (MSRV)\n",
       "27/05/2020 S0409120</td><td>5.0</td><td>11.33</td><td>56.65</td><td>20.0</td></tr><tr><td>60</td><td>None</td><td>Courier-DPD-Aspidyn T\n",
       "21/05/2020 73273</td><td>1.0</td><td>32.16</td><td>32.16</td><td>20.0</td></tr><tr><td>61</td><td>None</td><td>Aspidyn T (5 litres) 002924\n",
       "21/05/2020 73273</td><td>4.0</td><td>48.69</td><td>194.76</td><td>0.0</td></tr><tr><td>62</td><td>None</td><td>1stClassSmParc-Sample IL\n",
       "21/05/2020 MAY0474</td><td>1.0</td><td>5.20</td><td>5.20</td><td>20.0</td></tr><tr><td>63</td><td>None</td><td>Phenocillin (1kg) 099083\n",
       "12/05/2020 73093</td><td>5.0</td><td>115.50</td><td>577.50</td><td>20.0</td></tr><tr><td>64</td><td>None</td><td>Salmonella Test - Bootswabs (2 Pairs)- (MSRV)\n",
       "20/05/2020 S0389120</td><td>2.0</td><td>11.33</td><td>22.66</td><td>20.0</td></tr><tr><td>65</td><td>None</td><td>Salmonella Test - Bootswabs (2 Pairs)- (MSRV)\n",
       "06/05/2020 S0348220</td><td>2.0</td><td>11.33</td><td>22.66</td><td>20.0</td></tr><tr><td>66</td><td>None</td><td>Post Mortem\n",
       "06/05/2020 MAY013620</td><td>1.0</td><td>48.59</td><td>48.59</td><td>20.0</td></tr><tr><td>67</td><td>None</td><td>Post Mortem\n",
       "06/05/2020 MAY013420</td><td>1.0</td><td>48.59</td><td>48.59</td><td>20.0</td></tr><tr><td>68</td><td>None</td><td>Salmonella Test - Layer Multi-tier Composite\n",
       "27/05/2020 S0409320</td><td>1.0</td><td>11.85</td><td>11.85</td><td>20.0</td></tr><tr><td>69</td><td>None</td><td>Avian Encephalomyelitis (AE) ELISA (Crowshall)\n",
       "13/05/2020 MAY027120</td><td>10.0</td><td>3.90</td><td>39.00</td><td>20.0</td></tr><tr><td>70</td><td>None</td><td>Newcastle Disease (NDV) ELISA\n",
       "13/05/2020 MAY027120</td><td>10.0</td><td>2.60</td><td>26.00</td><td>20.0</td></tr><tr><td>71</td><td>None</td><td>Infectious Bronchitis (IB) ELISA\n",
       "13/05/2020 MAY027120</td><td>10.0</td><td>2.52</td><td>25.20</td><td>20.0</td></tr><tr><td>72</td><td>None</td><td>Salmonella Test - Bootswabs (2 Pairs)- (MSRV)\n",
       "06/05/2020 S0348120</td><td>1.0</td><td>11.33</td><td>11.33</td><td>20.0</td></tr><tr><td>73</td><td>None</td><td>Infectious Bronchitis PCR at Anicon\n",
       "20/05/2020 MAY047420</td><td>1.0</td><td>31.90</td><td>31.90</td><td>20.0</td></tr><tr><td>74</td><td>None</td><td>Bacteriology/Sensitivity Testing MAY013420\n",
       "Non Haemolytic E.coli</td><td>1.0</td><td>7.50</td><td>7.50</td><td>20.0</td></tr><tr><td>75</td><td>None</td><td>Bacteriology/Sensitivity Testing MAY013420\n",
       "Ornithobacter rhinotracheale</td><td>1.0</td><td>7.50</td><td>7.50</td><td>20.0</td></tr><tr><td>76</td><td>None</td><td>Bacteriology/Sensitivity Testing MAY013420\n",
       "Pasteurella haemolytica</td><td>1.0</td><td>7.50</td><td>7.50</td><td>20.0</td></tr><tr><td>77</td><td>None</td><td>Post Mortem\n",
       "27/05/2020 MAY060020</td><td>1.0</td><td>48.59</td><td>48.59</td><td>20.0</td></tr><tr><td>78</td><td>None</td><td>PCR Combination MG+MS at Anicon\n",
       "27/05/2020 MAY060120</td><td>1.0</td><td>27.50</td><td>27.50</td><td>20.0</td></tr><tr><td>79</td><td>None</td><td>Post Mortem\n",
       "27/05/2020 MAY060120</td><td>2.0</td><td>48.59</td><td>97.18</td><td>20.0</td></tr><tr><td>80</td><td>None</td><td>Nobilis MG6/85 (2000 doses) 2408257K01\n",
       "04/05/2020 72930</td><td>13.0</td><td>87.43</td><td>1,136.59</td><td>20.0</td></tr><tr><td>81</td><td>None</td><td>Gallimune 407 (1000 doses) 1470259-1471202\n",
       "12/05/2020 73062</td><td>26.0</td><td>60.73</td><td>1,578.98</td><td>20.0</td></tr><tr><td>82</td><td>None</td><td>Nobilis RT+IBmulti+ND+EDS(1000 doses) F886A01\n",
       "12/05/2020 73090</td><td>22.0</td><td>89.12</td><td>1,960.64</td><td>20.0</td></tr><tr><td>83</td><td>None</td><td>Nobilis MG6/85 (1000 doses) 2408257K01\n",
       "04/05/2020 72931</td><td>11.0</td><td>43.71</td><td>480.81</td><td>20.0</td></tr><tr><td>84</td><td>None</td><td>Gallimune 407 (1000 doses) L470251471202\n",
       "12/05/2020 73063</td><td>11.0</td><td>60.73</td><td>668.03</td><td>20.0</td></tr><tr><td>85</td><td>None</td><td>Salmonella Test - Bootswabs (2 Pairs)- (MSRV)\n",
       "20/05/2020 S0389320</td><td>1.0</td><td>11.33</td><td>11.33</td><td>20.0</td></tr><tr><td>86</td><td>None</td><td>Avian Encephalomyelitis (AE) ELISA (Crowshall)\n",
       "20/05/2020 MAY045320</td><td>20.0</td><td>3.90</td><td>78.00</td><td>20.0</td></tr><tr><td>87</td><td>None</td><td>Infectious Bronchitis (IB) ELISA\n",
       "20/05/2020 MAY045320</td><td>20.0</td><td>2.52</td><td>50.40</td><td>20.0</td></tr><tr><td>88</td><td>None</td><td>Newcastle Disease (NDV) ELISA\n",
       "20/05/2020 MAY045320</td><td>20.0</td><td>2.60</td><td>52.00</td><td>20.0</td></tr><tr><td>89</td><td>None</td><td>Salmonella Test - Composite Faeces (2 x 150g)- (MSRV)\n",
       "20/05/2020 S0388620</td><td>1.0</td><td>11.33</td><td>11.33</td><td>20.0</td></tr><tr><td>90</td><td>None</td><td>Avian Encephalomyelitis (AE) ELISA (Crowshall)\n",
       "06/05/2020 MAY011420</td><td>10.0</td><td>3.90</td><td>39.00</td><td>20.0</td></tr><tr><td>91</td><td>None</td><td>Infectious Bronchitis (IB) ELISA\n",
       "06/05/2020 MAY011420</td><td>10.0</td><td>2.52</td><td>25.20</td><td>20.0</td></tr><tr><td>92</td><td>None</td><td>Newcastle Disease (NDV) ELISA\n",
       "06/05/2020 MAY011420</td><td>10.0</td><td>2.60</td><td>26.00</td><td>20.0</td></tr><tr><td>93</td><td>None</td><td>Salmonella Test - Bootswabs (2 Pairs)- (MSRV)\n",
       "20/05/2020 S0388820</td><td>2.0</td><td>11.33</td><td>22.66</td><td>20.0</td></tr><tr><td>94</td><td>None</td><td>Post Mortem\n",
       "06/05/2020 MAY013220</td><td>1.0</td><td>48.59</td><td>48.59</td><td>20.0</td></tr><tr><td>95</td><td>None</td><td>Infectious Bronchitis PCR at Anicon\n",
       "22/04/2020 APR045720</td><td>1.0</td><td>31.90</td><td>31.90</td><td>20.0</td></tr><tr><td>96</td><td>None</td><td>Newcastle Disease (NDV) ELISA\n",
       "13/05/2020 MAY027320</td><td>20.0</td><td>2.60</td><td>52.00</td><td>20.0</td></tr><tr><td>97</td><td>None</td><td>Avian Encephalomyelitis (AE) ELISA (Crowshall)\n",
       "13/05/2020 MAY027320</td><td>20.0</td><td>3.90</td><td>78.00</td><td>20.0</td></tr><tr><td>98</td><td>None</td><td>Infectious Bronchitis (IB) ELISA\n",
       "13/05/2020 MAY027320</td><td>20.0</td><td>2.52</td><td>50.40</td><td>20.0</td></tr><tr><td>99</td><td>None</td><td>Bacteriology/Sensitivity Testing MAY060120\n",
       "Lactobacillus</td><td>1.0</td><td>7.50</td><td>7.50</td><td>20.0</td></tr><tr><td>100</td><td>None</td><td>Bacteriology/Sensitivity Testing MAY060020\n",
       "Non Haemolytic E.coli</td><td>1.0</td><td>7.50</td><td>7.50</td><td>20.0</td></tr><tr><td>101</td><td>None</td><td>Bacteriology/Sensitivity Testing MAY013220\n",
       "Non Haemolytic E.coli</td><td>1.0</td><td>7.50</td><td>7.50</td><td>20.0</td></tr><tr><td>102</td><td>None</td><td>Bacteriology/Sensitivity Testing MAY013220\n",
       "Other</td><td>1.0</td><td>7.50</td><td>7.50</td><td>20.0</td></tr><tr><td>103</td><td>None</td><td>Bacteriology/Sensitivity Testing MAY013220\n",
       "Other</td><td>1.0</td><td>7.50</td><td>7.50</td><td>20.0</td></tr><tr><td>104</td><td>None</td><td>Bacteriology/Sensitivity Testing MAY013220\n",
       "Streptococcus spp</td><td>1.0</td><td>7.50</td><td>7.50</td><td>20.0</td></tr><tr><td>105</td><td>None</td><td>Salmonella Test - Layer Multi-tier Composite\n",
       "27/05/2020 S0409520</td><td>2.0</td><td>11.85</td><td>23.70</td><td>20.0</td></tr><tr><td>106</td><td>None</td><td>Salmonella Test - Layer Multi-tier Composite\n",
       "27/05/2020 S0409620</td><td>2.0</td><td>11.85</td><td>23.70</td><td>20.0</td></tr><tr><td>107</td><td>None</td><td>SpecDelSat1pm-Meds/Vaccines\n",
       "22/05/2020</td><td>1.0</td><td>36.50</td><td>36.50</td><td>20.0</td></tr><tr><td>108</td><td>None</td><td>1 x Health Plan-Vaccine and testing program\n",
       "22/05/2020</td><td>0.0</td><td>40.00</td><td>0.00</td><td>20.0</td></tr><tr><td>109</td><td>None</td><td>Poulvac IB Primer (5000 doses) 381704\n",
       "22/05/2020 73309</td><td>1.0</td><td>20.79</td><td>20.79</td><td>20.0</td></tr><tr><td>110</td><td>None</td><td>Salmonella Test - hatcher debris\n",
       "30/05/2020 S0418320</td><td>4.0</td><td>11.33</td><td>45.32</td><td>20.0</td></tr><tr><td>111</td><td>None</td><td>Poulvac Marek MD Vac (2000 doses)+50% diluent 391001\n",
       "22/05/2020 73308</td><td>1.0</td><td>25.39</td><td>25.39</td><td>20.0</td></tr><tr><td>112</td><td>None</td><td>Salmonella Test - Day Old Hatcher Tray Liners (10g)- (MS\n",
       "30/05/2020 S0418420</td><td>1.0</td><td>11.33</td><td>11.33</td><td>20.0</td></tr><tr><td>113</td><td>None</td><td>Salmonella Test - Gauze swabs (10) (MSRV)\n",
       "27/05/2020 S0407420</td><td>2.0</td><td>11.33</td><td>22.66</td><td>20.0</td></tr><tr><td>114</td><td>None</td><td>1stClassSmParc-Sample Lab\n",
       "05/05/2020 MAY0044</td><td>1.0</td><td>5.20</td><td>5.20</td><td>20.0</td></tr><tr><td>115</td><td>None</td><td>MG -Mycoplasma gallisepticum (MG) RSA\n",
       "04/05/2020 MAY004420</td><td>60.0</td><td>0.91</td><td>54.60</td><td>20.0</td></tr><tr><td>116</td><td>None</td><td>Avian Encephalomyelitis (AE) ELISA (Crowshall)\n",
       "04/05/2020 MAY004420</td><td>20.0</td><td>3.90</td><td>78.00</td><td>20.0</td></tr><tr><td>117</td><td>None</td><td>Infectious Bronchitis Pack (793B, D274, D1466,IT02)\n",
       "04/05/2020 MAY004420</td><td>5.0</td><td>13.00</td><td>65.00</td><td>20.0</td></tr><tr><td>118</td><td>None</td><td>Newcastle Disease (NDV) ELISA\n",
       "04/05/2020 MAY004420</td><td>20.0</td><td>2.60</td><td>52.00</td><td>20.0</td></tr><tr><td>119</td><td>None</td><td>Avian Rhinotracheitis (TRT)(ART) ELISA\n",
       "04/05/2020 MAY004420</td><td>20.0</td><td>3.51</td><td>70.20</td><td>20.0</td></tr><tr><td>120</td><td>None</td><td>Reovirus (REO) ELISA\n",
       "04/05/2020 MAY004420</td><td>20.0</td><td>3.32</td><td>66.40</td><td>20.0</td></tr><tr><td>121</td><td>None</td><td>MS- Mycoplasma synoviae (MS) RSA\n",
       "04/05/2020 MAY004420</td><td>60.0</td><td>1.16</td><td>69.60</td><td>20.0</td></tr><tr><td>122</td><td>None</td><td>Chick Anaemia Virus (CAV) ELISA\n",
       "04/05/2020 MAY004420</td><td>20.0</td><td>3.51</td><td>70.20</td><td>20.0</td></tr><tr><td>123</td><td>None</td><td>Salmonella Test - Bootswabs (5 Pairs)- (MSRV)\n",
       "22/05/2020 S0394920</td><td>1.0</td><td>9.27</td><td>9.27</td><td>20.0</td></tr><tr><td>124</td><td>None</td><td>Salmonella Test - Bootswabs (5 Pairs)- (MSRV)\n",
       "27/05/2020 S0407320</td><td>1.0</td><td>9.27</td><td>9.27</td><td>20.0</td></tr><tr><td>125</td><td>None</td><td>Salmonella Test - Bootswabs (5 Pairs)- (MSRV)\n",
       "27/05/2020 S0407220</td><td>1.0</td><td>9.27</td><td>9.27</td><td>20.0</td></tr><tr><td>126</td><td>None</td><td>SpecDel1pm-Amproline\n",
       "14/05/2020</td><td>1.0</td><td>30.00</td><td>30.00</td><td>20.0</td></tr><tr><td>127</td><td>None</td><td>4 x Travel (hr)-shared travel\n",
       "20/05/2020</td><td>0.0</td><td>40.00</td><td>0.00</td><td>20.0</td></tr><tr><td>128</td><td>None</td><td>0.5 x Consultancy (hr)-Visit summary\n",
       "20/05/2020</td><td>0.0</td><td>120.00</td><td>0.00</td><td>20.0</td></tr><tr><td>129</td><td>None</td><td>6 x Consultancy (hr)-Routine visit\n",
       "20/05/2020</td><td>0.0</td><td>120.00</td><td>0.00</td><td>20.0</td></tr><tr><td>130</td><td>None</td><td>1 x Consultancy (hr)-Telcon re Breeders with NB\n",
       "24/04/2020</td><td>0.0</td><td>120.00</td><td>0.00</td><td>20.0</td></tr><tr><td>131</td><td>None</td><td>Courier-DPD-OPTISHELL AND DENAGARD\n",
       "27/05/2020 73406</td><td>1.0</td><td>48.64</td><td>48.64</td><td>20.0</td></tr><tr><td>132</td><td>None</td><td>1stClassLet-Sample HL\n",
       "27/05/2020 MAY0601</td><td>1.0</td><td>5.20</td><td>5.20</td><td>20.0</td></tr><tr><td>133</td><td>None</td><td>0.5 x Consultancy (hr)-Visit summary\n",
       "29/04/2020</td><td>0.0</td><td>120.00</td><td>0.00</td><td>20.0</td></tr><tr><td>134</td><td>None</td><td>4 x Consultancy (hr)-Swabbing of pc and rountine visits\n",
       "29/04/2020</td><td>0.0</td><td>120.00</td><td>0.00</td><td>20.0</td></tr><tr><td>135</td><td>None</td><td>5 x Travel (hr)-Travel to and from farms and pakcing centr\n",
       "29/04/2020</td><td>0.0</td><td>40.00</td><td>0.00</td><td>20.0</td></tr><tr><td>136</td><td>None</td><td>1 x Consultancy (hr)-Telecon with OFF re organics\n",
       "30/04/2020</td><td>0.0</td><td>120.00</td><td>0.00</td><td>20.0</td></tr><tr><td>137</td><td>None</td><td>iBird (1000d) 1107h2d1kga\n",
       "12/05/2020 73060</td><td>2.0</td><td>3.25</td><td>6.50</td><td>20.0</td></tr><tr><td>138</td><td>None</td><td>iBird (5000d) 1710h4u1kla\n",
       "12/05/2020 73061</td><td>6.0</td><td>16.25</td><td>97.50</td><td>20.0</td></tr><tr><td>139</td><td>None</td><td>Poulvac HB1 (5000 doses) 322730-316856\n",
       "26/05/2020 73366</td><td>7.0</td><td>7.50</td><td>52.50</td><td>20.0</td></tr><tr><td>140</td><td>None</td><td>iBird (1000d) 1107H2D1KGA\n",
       "04/05/2020 72932</td><td>16.0</td><td>3.25</td><td>52.00</td><td>20.0</td></tr><tr><td>141</td><td>None</td><td>Poulvac HB1 (5000 doses) 316856\n",
       "19/05/2020 73203</td><td>4.0</td><td>7.50</td><td>30.00</td><td>20.0</td></tr><tr><td>142</td><td>None</td><td>Poulvac HB1 (5000 doses) 316856-322730\n",
       "04/05/2020 72919</td><td>16.0</td><td>7.50</td><td>120.00</td><td>20.0</td></tr><tr><td>143</td><td>None</td><td>Poulvac ILT (1000 doses) 381717\n",
       "19/05/2020 73202</td><td>81.0</td><td>10.78</td><td>873.18</td><td>20.0</td></tr><tr><td>144</td><td>None</td><td>Nemovac (1000 doses) L475296\n",
       "12/05/2020 73059</td><td>16.0</td><td>7.11</td><td>113.76</td><td>20.0</td></tr><tr><td>145</td><td>None</td><td>Poulvac AE (1000 doses) 400474\n",
       "19/05/2020 73227</td><td>16.0</td><td>8.35</td><td>133.60</td><td>20.0</td></tr><tr><td>146</td><td>None</td><td>Poulvac IB Primer (5000 doses) 381704\n",
       "26/05/2020 73370</td><td>4.0</td><td>20.79</td><td>83.16</td><td>20.0</td></tr><tr><td>147</td><td>None</td><td>Salmonella Test - Day Old Hatcher Tray Liners (10g)- (MS\n",
       "06/05/2020 S0348420</td><td>1.0</td><td>11.33</td><td>11.33</td><td>20.0</td></tr><tr><td>148</td><td>None</td><td>Salmonella Test - Layer Multi-tier Composite\n",
       "27/05/2020 S0409420</td><td>1.0</td><td>11.85</td><td>11.85</td><td>20.0</td></tr><tr><td>149</td><td>None</td><td>Salmonella Test - Dust (50g)- (MSRV)\n",
       "27/05/2020 S0409920</td><td>1.0</td><td>11.33</td><td>11.33</td><td>20.0</td></tr><tr><td>150</td><td>None</td><td>Salmonella Test - Layer Multi-tier Composite\n",
       "13/05/2020 S0369620</td><td>2.0</td><td>11.85</td><td>23.70</td><td>20.0</td></tr><tr><td>151</td><td>None</td><td>Salmonella Test - Lion Code Shell eggs (20 eggs INT/EXT\n",
       "06/05/2020 S0349720</td><td>1.0</td><td>25.75</td><td>25.75</td><td>20.0</td></tr><tr><td>152</td><td>None</td><td>Salmonella Test - Lion Code Shell eggs (20 eggs INT/EXT\n",
       "06/05/2020 S0349820</td><td>6.0</td><td>25.75</td><td>154.50</td><td>20.0</td></tr><tr><td>153</td><td>None</td><td>Salmonella Test - Lion Code Shell eggs (20 eggs INT/EXT\n",
       "06/05/2020 S0349920</td><td>6.0</td><td>25.75</td><td>154.50</td><td>20.0</td></tr><tr><td>154</td><td>None</td><td>Salmonella Test - Lion Code Shell eggs (20 eggs INT/EXT\n",
       "13/05/2020 S0372220</td><td>1.0</td><td>25.75</td><td>25.75</td><td>20.0</td></tr><tr><td>155</td><td>None</td><td>Salmonella Test - Lion Code Shell eggs (20 eggs INT/EXT\n",
       "13/05/2020 S0372320</td><td>3.0</td><td>25.75</td><td>77.25</td><td>20.0</td></tr><tr><td>156</td><td>None</td><td>Salmonella Test - Lion Code Shell eggs (20 eggs INT/EXT\n",
       "13/05/2020 S0372420</td><td>3.0</td><td>25.75</td><td>77.25</td><td>20.0</td></tr><tr><td>157</td><td>None</td><td>Salmonella Test - Lion Code Shell eggs (20 eggs INT/EXT\n",
       "13/05/2020 S0372520</td><td>6.0</td><td>25.75</td><td>154.50</td><td>20.0</td></tr><tr><td>158</td><td>None</td><td>Salmonella Test - Lion Code Shell eggs (20 eggs INT/EXT\n",
       "13/05/2020 S0372620</td><td>6.0</td><td>25.75</td><td>154.50</td><td>20.0</td></tr><tr><td>159</td><td>None</td><td>Salmonella Test - Lion Code Shell eggs (20 eggs INT/EXT\n",
       "13/05/2020 S0372720</td><td>6.0</td><td>25.75</td><td>154.50</td><td>20.0</td></tr><tr><td>160</td><td>None</td><td>Salmonella Test - Lion Code Shell eggs (20 eggs INT/EXT\n",
       "20/05/2020 S0389920</td><td>6.0</td><td>25.75</td><td>154.50</td><td>20.0</td></tr><tr><td>161</td><td>None</td><td>Salmonella Test - Lion Code Shell eggs (20 eggs INT/EXT\n",
       "20/05/2020 S0390020</td><td>6.0</td><td>25.75</td><td>154.50</td><td>20.0</td></tr><tr><td>162</td><td>None</td><td>Salmonella Test - Lion Code Shell eggs (20 eggs INT/EXT\n",
       "20/05/2020 S0390120</td><td>3.0</td><td>25.75</td><td>77.25</td><td>20.0</td></tr><tr><td>163</td><td>None</td><td>Salmonella Test - Lion Code Shell eggs (20 eggs INT/EXT\n",
       "20/05/2020 S0390220</td><td>6.0</td><td>25.75</td><td>154.50</td><td>20.0</td></tr><tr><td>164</td><td>None</td><td>Salmonella Test - Lion Code Shell eggs (20 eggs INT/EXT\n",
       "20/05/2020 S0390320</td><td>6.0</td><td>25.75</td><td>154.50</td><td>20.0</td></tr><tr><td>165</td><td>None</td><td>Salmonella Test - Lion Code Shell eggs (20 eggs INT/EXT\n",
       "20/05/2020 S0390420</td><td>6.0</td><td>25.75</td><td>154.50</td><td>20.0</td></tr><tr><td>166</td><td>None</td><td>Salmonella Test - Lion Code Shell eggs (20 eggs INT/EXT\n",
       "28/05/2020 S0410120</td><td>6.0</td><td>25.75</td><td>154.50</td><td>20.0</td></tr><tr><td>167</td><td>None</td><td>Salmonella Test - Environmental Swabs (MSRV)\n",
       "15/05/2020 S0377220</td><td>6.0</td><td>11.33</td><td>67.98</td><td>20.0</td></tr><tr><td>168</td><td>None</td><td>TVC/Enterococcus\n",
       "20/05/2020 MAY046120</td><td>5.0</td><td>13.70</td><td>68.50</td><td>20.0</td></tr><tr><td>169</td><td>None</td><td>TVC/Enterococcus\n",
       "20/05/2020 MAY046220</td><td>5.0</td><td>13.70</td><td>68.50</td><td>20.0</td></tr><tr><td>170</td><td>None</td><td>TVC/Enterococcus\n",
       "20/05/2020 MAY047220</td><td>5.0</td><td>13.70</td><td>68.50</td><td>20.0</td></tr><tr><td>171</td><td>None</td><td>TVC/Enterococcus\n",
       "20/05/2020 MAY047320</td><td>5.0</td><td>13.70</td><td>68.50</td><td>20.0</td></tr><tr><td>172</td><td>None</td><td>Salmonella Test - Environmental Swabs (MSRV)\n",
       "13/05/2020 S0371520</td><td>7.0</td><td>11.33</td><td>79.31</td><td>20.0</td></tr><tr><td>173</td><td>None</td><td>Salmonella Test - Environmental Swabs (MSRV)\n",
       "13/05/2020 S0371620</td><td>7.0</td><td>11.33</td><td>79.31</td><td>20.0</td></tr><tr><td>174</td><td>None</td><td>Salmonella Test - Environmental Swabs (MSRV)\n",
       "15/05/2020 S0377420</td><td>15.0</td><td>11.33</td><td>169.95</td><td>20.0</td></tr><tr><td>175</td><td>None</td><td>Salmonella Test - Environmental Swabs (MSRV)\n",
       "15/05/2020 S0377320</td><td>16.0</td><td>11.33</td><td>181.28</td><td>20.0</td></tr><tr><td>176</td><td>None</td><td>Salmonella Test - Bootswabs (2 Pairs)- (MSRV)\n",
       "20/05/2020 S0388720</td><td>2.0</td><td>11.33</td><td>22.66</td><td>20.0</td></tr><tr><td>177</td><td>None</td><td>Newcastle Disease (NDV) ELISA\n",
       "13/05/2020 MAY027220</td><td>20.0</td><td>2.60</td><td>52.00</td><td>20.0</td></tr><tr><td>178</td><td>None</td><td>Avian Encephalomyelitis (AE) ELISA (Crowshall)\n",
       "13/05/2020 MAY027220</td><td>20.0</td><td>3.90</td><td>78.00</td><td>20.0</td></tr><tr><td>179</td><td>None</td><td>Infectious Bronchitis (IB) ELISA\n",
       "13/05/2020 MAY027220</td><td>20.0</td><td>2.52</td><td>50.40</td><td>20.0</td></tr><tr><td>180</td><td>None</td><td>Poulvac IB Primer (5000 doses) 386290\n",
       "12/05/2020 73054</td><td>4.0</td><td>20.79</td><td>83.16</td><td>20.0</td></tr><tr><td>181</td><td>None</td><td>Nobilis MG6/85 (1000 doses) 2408258j01\n",
       "19/05/2020 73204</td><td>1.0</td><td>43.71</td><td>43.71</td><td>20.0</td></tr><tr><td>182</td><td>None</td><td>Nobilis MG6/85 (2000 doses) 2408257k01\n",
       "19/05/2020 73205</td><td>8.0</td><td>87.43</td><td>699.44</td><td>20.0</td></tr><tr><td>183</td><td>None</td><td>Gallimune 407 (1000 doses) 1471202\n",
       "26/05/2020 73376</td><td>13.0</td><td>60.73</td><td>789.49</td><td>20.0</td></tr><tr><td>184</td><td>None</td><td>Newcastle Disease (NDV) ELISA\n",
       "27/05/2020 MAY060220</td><td>10.0</td><td>2.60</td><td>26.00</td><td>20.0</td></tr><tr><td>185</td><td>None</td><td>Infectious Bronchitis (IB) ELISA\n",
       "27/05/2020 MAY060220</td><td>10.0</td><td>2.52</td><td>25.20</td><td>20.0</td></tr><tr><td>186</td><td>None</td><td>Avian Encephalomyelitis (AE) ELISA (Crowshall)\n",
       "27/05/2020 MAY060220</td><td>10.0</td><td>3.90</td><td>39.00</td><td>20.0</td></tr><tr><td>187</td><td>None</td><td>Salmonella Test - Dust (50g)- (MSRV)\n",
       "13/05/2020 S0371720</td><td>1.0</td><td>11.33</td><td>11.33</td><td>20.0</td></tr><tr><td>188</td><td>None</td><td>Salmonella Test - Bootswabs (2 Pairs)- (MSRV)\n",
       "13/05/2020 S0369420</td><td>1.0</td><td>11.33</td><td>11.33</td><td>20.0</td></tr><tr><td>189</td><td>None</td><td>Salmonella Test - Layer Multi-tier Composite\n",
       "06/05/2020 S0347720</td><td>4.0</td><td>11.85</td><td>47.40</td><td>20.0</td></tr><tr><td>190</td><td>None</td><td>Salmonella Test - Bootswabs (2 Pairs)- (MSRV)\n",
       "06/05/2020 S0347920</td><td>2.0</td><td>11.33</td><td>22.66</td><td>20.0</td></tr><tr><td>191</td><td>None</td><td>Salmonella Test - Bootswabs (2 Pairs)- (MSRV)\n",
       "20/05/2020 S0389020</td><td>2.0</td><td>11.33</td><td>22.66</td><td>20.0</td></tr><tr><td>192</td><td>None</td><td>Salmonella Test - Bootswabs (2 Pairs)- (MSRV)\n",
       "04/05/2020 S0339820</td><td>1.0</td><td>11.33</td><td>11.33</td><td>20.0</td></tr><tr><td>193</td><td>None</td><td>Avian Encephalomyelitis (AE) ELISA (Crowshall)\n",
       "20/05/2020 MAY045420</td><td>10.0</td><td>3.90</td><td>39.00</td><td>20.0</td></tr><tr><td>194</td><td>None</td><td>Newcastle Disease (NDV) ELISA\n",
       "20/05/2020 MAY045420</td><td>10.0</td><td>2.60</td><td>26.00</td><td>20.0</td></tr><tr><td>195</td><td>None</td><td>Infectious Bronchitis (IB) ELISA\n",
       "20/05/2020 MAY045420</td><td>10.0</td><td>2.52</td><td>25.20</td><td>20.0</td></tr></tbody></table></td></tr><tr><th>header</th><td><table border=\"1\"><tr><th>suppName</th><td>CROWSHALL VETERINARY SERVICES LLP</td></tr><tr><th>invNo</th><td>50568</td></tr><tr><th>invDate</th><td>2020-05-31</td></tr><tr><th>due_date</th><td>2020-06-30</td></tr><tr><th>orderNo</th><td>None</td></tr><tr><th>custName</th><td>L J Fairburn &amp; Son</td></tr><tr><th>custAddress</th><td>Ivy House\n",
       "Farm Office\n",
       "Farlesthorpe Road\n",
       "Lincolnshire\n",
       "LN13 9PL</td></tr><tr><th>amountNet</th><td>30,959.12</td></tr><tr><th>amountVat</th><td>6,137.88</td></tr><tr><th>amountTotal</th><td>37,097.00</td></tr><tr><th>currency</th><td>£</td></tr></table></td></tr></table>"
      ],
      "text/plain": [
       "<IPython.core.display.HTML object>"
      ]
     },
     "metadata": {},
     "output_type": "display_data"
    }
   ],
   "source": [
    "ocr_model.display(response, html=True)"
   ]
  },
  {
   "cell_type": "markdown",
   "metadata": {},
   "source": [
    "## Conclusion\n",
    "We have successfully extracted the data from the PDF and displayed the output in a table format."
   ]
  }
 ],
 "metadata": {
  "kernelspec": {
   "display_name": "gemini",
   "language": "python",
   "name": "python3"
  },
  "language_info": {
   "codemirror_mode": {
    "name": "ipython",
    "version": 3
   },
   "file_extension": ".py",
   "mimetype": "text/x-python",
   "name": "python",
   "nbconvert_exporter": "python",
   "pygments_lexer": "ipython3",
   "version": "3.9.21"
  }
 },
 "nbformat": 4,
 "nbformat_minor": 2
}
