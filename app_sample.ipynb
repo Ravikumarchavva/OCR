{
 "cells": [
  {
   "cell_type": "markdown",
   "metadata": {},
   "source": [
    "# Table of contents\n",
    "1. [Introduction](#introduction)\n",
    "2. [Data Ingestion](#data-ingestion)\n",
    "3. [Data Extraction](#data-extraction)\n",
    "4. [Display the output](#display-the-output)\n",
    "5. [Display the output in a table](#display-the-output-in-a-table)\n",
    "6. [Conclusion](#conclusion)"
   ]
  },
  {
   "cell_type": "markdown",
   "metadata": {},
   "source": [
    "## Introduction\n",
    "In this notebook, we will be extracting the data from the given PDF and display the output in a table format. We will be using the Gemini API to extract the data from the PDF."
   ]
  },
  {
   "cell_type": "markdown",
   "metadata": {},
   "source": [
    "## Data Ingestion\n",
    "We will upload the PDF file to the notebook and then transform the pdf into base64 utf-8 format."
   ]
  },
  {
   "cell_type": "code",
   "execution_count": 1,
   "metadata": {},
   "outputs": [
    {
     "name": "stdout",
     "output_type": "stream",
     "text": [
      "c:\\Users\\ravi.kumar\\github\\OCR\\data\\invoices\\skonica3-4.pdf\n"
     ]
    }
   ],
   "source": [
    "from components.data_ingestion import DataIngestion\n",
    "from configs import ROOT_DIR\n",
    "import os\n",
    "\n",
    "invoice_dir = ROOT_DIR / 'data' / 'invoices'\n",
    "invoice_files = os.listdir(invoice_dir)\n",
    "\n",
    "file_path = invoice_dir / invoice_files[-5]\n",
    "print(file_path)\n",
    "data_ingestion = DataIngestion()\n",
    "data = data_ingestion.transform(file_path)"
   ]
  },
  {
   "cell_type": "markdown",
   "metadata": {},
   "source": [
    "## Data Extraction\n",
    "We will use the Gemini API to extract the data from the PDF."
   ]
  },
  {
   "cell_type": "code",
   "execution_count": 2,
   "metadata": {},
   "outputs": [],
   "source": [
    "from components.model import OCR_Model\n",
    "ocr_model = OCR_Model()\n",
    "invoice = ocr_model.extract(data)"
   ]
  },
  {
   "cell_type": "markdown",
   "metadata": {},
   "source": [
    "## Display the output\n",
    "We will display the extracted data in the form of JSON."
   ]
  },
  {
   "cell_type": "code",
   "execution_count": 3,
   "metadata": {},
   "outputs": [
    {
     "data": {
      "text/plain": [
       "{'line_items': [{'ItemPosition': 1,\n",
       "   'ProductCode': '11001533',\n",
       "   'Description': 'RASPBERRY FRA CAR 18X250 GEN VD DES K62H40 NG PAP',\n",
       "   'Quantity': 5886.0,\n",
       "   'UnitPrice': 12.5,\n",
       "   'ItemVatRate': 0.0,\n",
       "   'TotalAmount': 18393.75},\n",
       "  {'ItemPosition': 2,\n",
       "   'ProductCode': '11001533',\n",
       "   'Description': 'RASPBERRY FRA CAR 18X250 GEN VD DES K62H40 NG PAP',\n",
       "   'Quantity': 2340.0,\n",
       "   'UnitPrice': 12.5,\n",
       "   'ItemVatRate': 0.0,\n",
       "   'TotalAmount': 7312.5},\n",
       "  {'ItemPosition': 3,\n",
       "   'ProductCode': '11001533',\n",
       "   'Description': 'RASPBERRY FRA CAR 18X250 GEN VD DES K62H40 NG PAP',\n",
       "   'Quantity': 3060.0,\n",
       "   'UnitPrice': 12.5,\n",
       "   'ItemVatRate': 0.0,\n",
       "   'TotalAmount': 9562.5},\n",
       "  {'ItemPosition': 4,\n",
       "   'ProductCode': '11001533',\n",
       "   'Description': 'RASPBERRY FRA CAR 18X250 GEN VD DES K62H40 NG PAP',\n",
       "   'Quantity': 3564.0,\n",
       "   'UnitPrice': 12.5,\n",
       "   'ItemVatRate': 0.0,\n",
       "   'TotalAmount': 11137.5},\n",
       "  {'ItemPosition': 5,\n",
       "   'ProductCode': '11001533',\n",
       "   'Description': 'RASPBERRY FRA CAR 18X250 GEN VD DES K62H40 NG PAP',\n",
       "   'Quantity': 7146.0,\n",
       "   'UnitPrice': 12.5,\n",
       "   'ItemVatRate': 0.0,\n",
       "   'TotalAmount': 22331.25},\n",
       "  {'ItemPosition': 6,\n",
       "   'ProductCode': '11001533',\n",
       "   'Description': 'RASPBERRY FRA CAR 18X250 GEN VD DES K62H40 NG PAP',\n",
       "   'Quantity': 1224.0,\n",
       "   'UnitPrice': 12.5,\n",
       "   'ItemVatRate': 0.0,\n",
       "   'TotalAmount': 3825.0},\n",
       "  {'ItemPosition': 7,\n",
       "   'ProductCode': '11001533',\n",
       "   'Description': 'RASPBERRY FRA CAR 18X250 GEN VD DES K62H40 NG PAP',\n",
       "   'Quantity': 6120.0,\n",
       "   'UnitPrice': 12.5,\n",
       "   'ItemVatRate': 0.0,\n",
       "   'TotalAmount': 19125.0},\n",
       "  {'ItemPosition': 8,\n",
       "   'ProductCode': '11001533',\n",
       "   'Description': 'RASPBERRY FRA CAR 18X250 GEN VD DES K62H40 NG PAP',\n",
       "   'Quantity': 6120.0,\n",
       "   'UnitPrice': 12.5,\n",
       "   'ItemVatRate': 0.0,\n",
       "   'TotalAmount': 19125.0},\n",
       "  {'ItemPosition': 9,\n",
       "   'ProductCode': '11001533',\n",
       "   'Description': 'RASPBERRY FRA CAR 18X250 GEN VD DES K62H40 NG PAP',\n",
       "   'Quantity': 3060.0,\n",
       "   'UnitPrice': 12.5,\n",
       "   'ItemVatRate': 0.0,\n",
       "   'TotalAmount': 9562.5},\n",
       "  {'ItemPosition': 10,\n",
       "   'ProductCode': '11001533',\n",
       "   'Description': 'RASPBERRY FRA CAR 18X250 GEN VD DES K62H40 NG PAP',\n",
       "   'Quantity': 1530.0,\n",
       "   'UnitPrice': 12.5,\n",
       "   'ItemVatRate': 0.0,\n",
       "   'TotalAmount': 4781.25},\n",
       "  {'ItemPosition': 11,\n",
       "   'ProductCode': '11001533',\n",
       "   'Description': 'RASPBERRY FRA CAR 18X250 GEN VD DES K62H40 NG PAP',\n",
       "   'Quantity': 10710.0,\n",
       "   'UnitPrice': 12.5,\n",
       "   'ItemVatRate': 0.0,\n",
       "   'TotalAmount': 33468.75},\n",
       "  {'ItemPosition': 12,\n",
       "   'ProductCode': '11001533',\n",
       "   'Description': 'RASPBERRY FRA CAR 18X250 GEN VD DES K62H40 NG PAP',\n",
       "   'Quantity': 3060.0,\n",
       "   'UnitPrice': 12.5,\n",
       "   'ItemVatRate': 0.0,\n",
       "   'TotalAmount': 9562.5},\n",
       "  {'ItemPosition': 13,\n",
       "   'ProductCode': '11001533',\n",
       "   'Description': 'RASPBERRY FRA CAR 18X250 GEN VD DES K62H40 NG PAP',\n",
       "   'Quantity': 3924.0,\n",
       "   'UnitPrice': 12.5,\n",
       "   'ItemVatRate': 0.0,\n",
       "   'TotalAmount': 12262.5},\n",
       "  {'ItemPosition': 14,\n",
       "   'ProductCode': '11001533',\n",
       "   'Description': 'RASPBERRY FRA CAR 18X250 GEN VD DES K62H40 NG PAP',\n",
       "   'Quantity': 7650.0,\n",
       "   'UnitPrice': 12.5,\n",
       "   'ItemVatRate': 0.0,\n",
       "   'TotalAmount': 23906.25},\n",
       "  {'ItemPosition': 15,\n",
       "   'ProductCode': '11001533',\n",
       "   'Description': 'RASPBERRY FRA CAR 18X250 GEN VD DES K62H40 NG PAP',\n",
       "   'Quantity': 4590.0,\n",
       "   'UnitPrice': 12.5,\n",
       "   'ItemVatRate': 0.0,\n",
       "   'TotalAmount': 14343.75},\n",
       "  {'ItemPosition': 16,\n",
       "   'ProductCode': '11001533',\n",
       "   'Description': 'RASPBERRY FRA CAR 18X250 GEN VD DES K62H40 NG PAP',\n",
       "   'Quantity': 1530.0,\n",
       "   'UnitPrice': 12.5,\n",
       "   'ItemVatRate': 0.0,\n",
       "   'TotalAmount': 4781.25}],\n",
       " 'header': {'suppName': 'Surexport UK LTD',\n",
       "  'invNo': '500019353',\n",
       "  'invDate': '2023-09-11',\n",
       "  'orderNo': '141800 141801 141802 141803 141804 141805 141799 141966 141974 142010 141929 142097 142198 142200',\n",
       "  'custName': 'DPSLTD',\n",
       "  'custAddress': '57-63 CHURCH ROAD SW19 5SB WIMBLEDON United Kingdom',\n",
       "  'amountNet': 223481.25,\n",
       "  'amountVat': 0.0,\n",
       "  'amountTotal': 223481.25,\n",
       "  'currency': 'EUR'}}"
      ]
     },
     "metadata": {},
     "output_type": "display_data"
    }
   ],
   "source": [
    "ocr_model.display(invoice)"
   ]
  },
  {
   "cell_type": "markdown",
   "metadata": {},
   "source": [
    "## Display the output in a table\n",
    "We will display the extracted data in the form of a table."
   ]
  },
  {
   "cell_type": "code",
   "execution_count": 4,
   "metadata": {},
   "outputs": [
    {
     "data": {
      "text/html": [
       "<table border=\"1\"><tr><th>line_items</th><td><table border=\"1\"><thead><tr><th>ItemPosition</th><th>ProductCode</th><th>Description</th><th>Quantity</th><th>UnitPrice</th><th>ItemVatRate</th><th>TotalAmount</th></tr></thead><tbody><tr><td>1</td><td>11001533</td><td>RASPBERRY FRA CAR 18X250 GEN VD DES K62H40 NG PAP</td><td>5886.0</td><td>12.5</td><td>0.0</td><td>18393.75</td></tr><tr><td>2</td><td>11001533</td><td>RASPBERRY FRA CAR 18X250 GEN VD DES K62H40 NG PAP</td><td>2340.0</td><td>12.5</td><td>0.0</td><td>7312.5</td></tr><tr><td>3</td><td>11001533</td><td>RASPBERRY FRA CAR 18X250 GEN VD DES K62H40 NG PAP</td><td>3060.0</td><td>12.5</td><td>0.0</td><td>9562.5</td></tr><tr><td>4</td><td>11001533</td><td>RASPBERRY FRA CAR 18X250 GEN VD DES K62H40 NG PAP</td><td>3564.0</td><td>12.5</td><td>0.0</td><td>11137.5</td></tr><tr><td>5</td><td>11001533</td><td>RASPBERRY FRA CAR 18X250 GEN VD DES K62H40 NG PAP</td><td>7146.0</td><td>12.5</td><td>0.0</td><td>22331.25</td></tr><tr><td>6</td><td>11001533</td><td>RASPBERRY FRA CAR 18X250 GEN VD DES K62H40 NG PAP</td><td>1224.0</td><td>12.5</td><td>0.0</td><td>3825.0</td></tr><tr><td>7</td><td>11001533</td><td>RASPBERRY FRA CAR 18X250 GEN VD DES K62H40 NG PAP</td><td>6120.0</td><td>12.5</td><td>0.0</td><td>19125.0</td></tr><tr><td>8</td><td>11001533</td><td>RASPBERRY FRA CAR 18X250 GEN VD DES K62H40 NG PAP</td><td>6120.0</td><td>12.5</td><td>0.0</td><td>19125.0</td></tr><tr><td>9</td><td>11001533</td><td>RASPBERRY FRA CAR 18X250 GEN VD DES K62H40 NG PAP</td><td>3060.0</td><td>12.5</td><td>0.0</td><td>9562.5</td></tr><tr><td>10</td><td>11001533</td><td>RASPBERRY FRA CAR 18X250 GEN VD DES K62H40 NG PAP</td><td>1530.0</td><td>12.5</td><td>0.0</td><td>4781.25</td></tr><tr><td>11</td><td>11001533</td><td>RASPBERRY FRA CAR 18X250 GEN VD DES K62H40 NG PAP</td><td>10710.0</td><td>12.5</td><td>0.0</td><td>33468.75</td></tr><tr><td>12</td><td>11001533</td><td>RASPBERRY FRA CAR 18X250 GEN VD DES K62H40 NG PAP</td><td>3060.0</td><td>12.5</td><td>0.0</td><td>9562.5</td></tr><tr><td>13</td><td>11001533</td><td>RASPBERRY FRA CAR 18X250 GEN VD DES K62H40 NG PAP</td><td>3924.0</td><td>12.5</td><td>0.0</td><td>12262.5</td></tr><tr><td>14</td><td>11001533</td><td>RASPBERRY FRA CAR 18X250 GEN VD DES K62H40 NG PAP</td><td>7650.0</td><td>12.5</td><td>0.0</td><td>23906.25</td></tr><tr><td>15</td><td>11001533</td><td>RASPBERRY FRA CAR 18X250 GEN VD DES K62H40 NG PAP</td><td>4590.0</td><td>12.5</td><td>0.0</td><td>14343.75</td></tr><tr><td>16</td><td>11001533</td><td>RASPBERRY FRA CAR 18X250 GEN VD DES K62H40 NG PAP</td><td>1530.0</td><td>12.5</td><td>0.0</td><td>4781.25</td></tr></tbody></table></td></tr><tr><th>header</th><td><table border=\"1\"><tr><th>suppName</th><td>Surexport UK LTD</td></tr><tr><th>invNo</th><td>500019353</td></tr><tr><th>invDate</th><td>2023-09-11</td></tr><tr><th>orderNo</th><td>141800 141801 141802 141803 141804 141805 141799 141966 141974 142010 141929 142097 142198 142200</td></tr><tr><th>custName</th><td>DPSLTD</td></tr><tr><th>custAddress</th><td>57-63 CHURCH ROAD SW19 5SB WIMBLEDON United Kingdom</td></tr><tr><th>amountNet</th><td>223481.25</td></tr><tr><th>amountVat</th><td>0.0</td></tr><tr><th>amountTotal</th><td>223481.25</td></tr><tr><th>currency</th><td>EUR</td></tr></table></td></tr></table>"
      ],
      "text/plain": [
       "<IPython.core.display.HTML object>"
      ]
     },
     "metadata": {},
     "output_type": "display_data"
    }
   ],
   "source": [
    "ocr_model.display(invoice, html=True)"
   ]
  },
  {
   "cell_type": "markdown",
   "metadata": {},
   "source": [
    "## Conclusion\n",
    "We have successfully extracted the data from the PDF and displayed the output in a table format."
   ]
  }
 ],
 "metadata": {
  "kernelspec": {
   "display_name": "gemini",
   "language": "python",
   "name": "python3"
  },
  "language_info": {
   "codemirror_mode": {
    "name": "ipython",
    "version": 3
   },
   "file_extension": ".py",
   "mimetype": "text/x-python",
   "name": "python",
   "nbconvert_exporter": "python",
   "pygments_lexer": "ipython3",
   "version": "3.9.21"
  }
 },
 "nbformat": 4,
 "nbformat_minor": 2
}
