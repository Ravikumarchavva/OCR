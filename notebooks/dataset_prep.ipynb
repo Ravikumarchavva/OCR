{
 "cells": [
  {
   "cell_type": "code",
   "execution_count": 1,
   "metadata": {},
   "outputs": [
    {
     "data": {
      "text/plain": [
       "['groundtruths', 'invoices']"
      ]
     },
     "execution_count": 1,
     "metadata": {},
     "output_type": "execute_result"
    }
   ],
   "source": [
    "import sys\n",
    "sys.path.append('..')\n",
    "from configs import ROOT_DIR\n",
    "import os\n",
    "\n",
    "import polars as pl\n",
    "BENCHMARKS_DIR = ROOT_DIR / 'benchmarks'\n",
    "BENCHMARKS_DIR.mkdir(exist_ok=True)\n",
    "os.listdir(BENCHMARKS_DIR)"
   ]
  },
  {
   "cell_type": "code",
   "execution_count": 3,
   "metadata": {},
   "outputs": [],
   "source": [
    "pdfs = os.listdir(BENCHMARKS_DIR / 'invoices')\n",
    "gts = os.listdir(BENCHMARKS_DIR / 'groundtruths')"
   ]
  },
  {
   "cell_type": "code",
   "execution_count": null,
   "metadata": {},
   "outputs": [],
   "source": []
  }
 ],
 "metadata": {
  "kernelspec": {
   "display_name": "gemini",
   "language": "python",
   "name": "python3"
  },
  "language_info": {
   "codemirror_mode": {
    "name": "ipython",
    "version": 3
   },
   "file_extension": ".py",
   "mimetype": "text/x-python",
   "name": "python",
   "nbconvert_exporter": "python",
   "pygments_lexer": "ipython3",
   "version": "3.9.21"
  }
 },
 "nbformat": 4,
 "nbformat_minor": 2
}
