{
 "cells": [
  {
   "cell_type": "code",
   "execution_count": 1,
   "metadata": {},
   "outputs": [],
   "source": [
    "from components.data_ingestion import DataIngestion\n",
    "from configs import ROOT_DIR\n",
    "\n",
    "file_path = ROOT_DIR / 'data' / 'invoices' / 'invoice.pdf'\n",
    "data_ingestion = DataIngestion()\n",
    "data = data_ingestion.transform(file_path)"
   ]
  },
  {
   "cell_type": "code",
   "execution_count": 4,
   "metadata": {},
   "outputs": [],
   "source": [
    "from components.model import OCR_Model\n",
    "ocr_model = OCR_Model(model= 'gemini-2.0-flash-exp')\n",
    "invoice = ocr_model.extract(data)"
   ]
  },
  {
   "cell_type": "code",
   "execution_count": 7,
   "metadata": {},
   "outputs": [
    {
     "data": {
      "text/plain": [
       "{'line_items': [{'product_code': '13.0802HK',\n",
       "   'description': 'RHP Legro Blackberry/Raspberry\\nOptima PLUS',\n",
       "   'quantity': '111,80',\n",
       "   'price_per_unit': '57,75',\n",
       "   'vat_percent': None,\n",
       "   'total_price': '6.456,45'},\n",
       "  {'product_code': '19.1001N',\n",
       "   'description': 'Pack up in big-bale',\n",
       "   'quantity': '26',\n",
       "   'price_per_unit': '18,00',\n",
       "   'vat_percent': None,\n",
       "   'total_price': '468,00'},\n",
       "  {'product_code': '48.3000',\n",
       "   'description': 'Pallet 100x120 HT Export',\n",
       "   'quantity': '26',\n",
       "   'price_per_unit': '11,00',\n",
       "   'vat_percent': None,\n",
       "   'total_price': '286,00'},\n",
       "  {'product_code': '19.2002',\n",
       "   'description': 'Customs charges',\n",
       "   'quantity': '1',\n",
       "   'price_per_unit': '54,00',\n",
       "   'vat_percent': None,\n",
       "   'total_price': '54,00'},\n",
       "  {'product_code': '19.2015',\n",
       "   'description': 'Transportcost Pallets FTL',\n",
       "   'quantity': '1',\n",
       "   'price_per_unit': '1.973,60',\n",
       "   'vat_percent': None,\n",
       "   'total_price': '1.973,60'}],\n",
       " 'total_amount': {'total_items': 5,\n",
       "  'total_tax': '0,00',\n",
       "  'total_price': '9.238,05'},\n",
       " 'due_date': None,\n",
       " 'payment_date': None,\n",
       " 'invoice_date': '2023-11-09',\n",
       " 'invoice_number': 'S2312132',\n",
       " 'purchase_order': '3247',\n",
       " 'reference_numbers': ['MK 7006'],\n",
       " 'locale': None,\n",
       " 'country': 'United Kingdom',\n",
       " 'currency': 'EUR',\n",
       " 'payment_details': {'iban': 'NL48 INGB 00016905 45',\n",
       "  'swift': None,\n",
       "  'bic': 'INGBNL2A',\n",
       "  'account_number': None},\n",
       " 'vat_number': 'GB125476511',\n",
       " 'supplier_name': 'LEGRO',\n",
       " 'taxes_details': [{'rate': '0,00', 'amount': '0,00'}],\n",
       " 'total_amount_including_taxes': '9.238,05',\n",
       " 'total_net_amount_excluding_taxes': '9.238,05',\n",
       " 'customer_address': '4 Conqueror Court, Water mark\\nME10 5BH Sittingbourne\\nUnited Kingdom',\n",
       " 'shipping_address': 'The Glasshouse Wicks Farm Ford Lane\\nBN18 ODF ARUNDEL (WEST SUSSEX)\\nUnited Kingdom',\n",
       " 'billing_address': None,\n",
       " 'customer_company_registrations': {'vat_number': None},\n",
       " 'customer_name': 'Berry Farming Ltd.',\n",
       " 'supplier_address': 'P.O. Box 93\\nGerstdijk 20\\n5720 AB Asten\\n5704 RG Helmond\\nThe Netherlands'}"
      ]
     },
     "execution_count": 7,
     "metadata": {},
     "output_type": "execute_result"
    }
   ],
   "source": [
    "invoice.data"
   ]
  },
  {
   "cell_type": "code",
   "execution_count": null,
   "metadata": {},
   "outputs": [],
   "source": []
  }
 ],
 "metadata": {
  "kernelspec": {
   "display_name": "gemini",
   "language": "python",
   "name": "python3"
  },
  "language_info": {
   "codemirror_mode": {
    "name": "ipython",
    "version": 3
   },
   "file_extension": ".py",
   "mimetype": "text/x-python",
   "name": "python",
   "nbconvert_exporter": "python",
   "pygments_lexer": "ipython3",
   "version": "3.11.10"
  }
 },
 "nbformat": 4,
 "nbformat_minor": 2
}
