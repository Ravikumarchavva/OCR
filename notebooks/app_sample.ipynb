{
 "cells": [
  {
   "cell_type": "markdown",
   "metadata": {},
   "source": [
    "# Table of contents\n",
    "1. [Introduction](#introduction)\n",
    "2. [Data Ingestion](#data-ingestion)\n",
    "3. [Data Extraction](#data-extraction)\n",
    "4. [Display the output](#display-the-output)\n",
    "5. [Display the output in a table](#display-the-output-in-a-table)\n",
    "6. [Conclusion](#conclusion)"
   ]
  },
  {
   "cell_type": "markdown",
   "metadata": {},
   "source": [
    "## Introduction\n",
    "In this notebook, we will be extracting the data from the given PDF and display the output in a table format. We will be using the Gemini API to extract the data from the PDF."
   ]
  },
  {
   "cell_type": "markdown",
   "metadata": {},
   "source": [
    "## Data Ingestion\n",
    "We will upload the PDF file to the notebook and then transform the pdf into base64 utf-8 format."
   ]
  },
  {
   "cell_type": "code",
   "execution_count": 3,
   "metadata": {},
   "outputs": [],
   "source": [
    "import sys\n",
    "sys.path.append('..')\n",
    "from src.gemini_ocr.components.data_ingestion import DataIngestion\n",
    "from config.configs import ROOT_DIR\n",
    "import os\n",
    "\n",
    "file_dir = ROOT_DIR / 'data' / 'invoices'\n",
    "files = os.listdir(file_dir)\n",
    "file_path = file_dir / files[2]\n",
    "data_ingestion = DataIngestion()\n",
    "data = data_ingestion.transform(file_path)"
   ]
  },
  {
   "cell_type": "code",
   "execution_count": 4,
   "metadata": {},
   "outputs": [
    {
     "data": {
      "text/plain": [
       "WindowsPath('d:/github/OCR/notebooks/../data/invoices/NEWFO-INV-7478.pdf')"
      ]
     },
     "execution_count": 4,
     "metadata": {},
     "output_type": "execute_result"
    }
   ],
   "source": [
    "file_path"
   ]
  },
  {
   "cell_type": "markdown",
   "metadata": {},
   "source": [
    "## Data Extraction\n",
    "We will use the Gemini API to extract the data from the PDF."
   ]
  },
  {
   "cell_type": "code",
   "execution_count": 5,
   "metadata": {},
   "outputs": [],
   "source": [
    "from src.gemini_ocr.components.model import OCR_Model\n",
    "from  config.configs import MODEL\n",
    "ocr_model = OCR_Model(model= MODEL)\n",
    "invoice = ocr_model.extract(data)"
   ]
  },
  {
   "cell_type": "markdown",
   "metadata": {},
   "source": [
    "## Display the output\n",
    "We will display the extracted data in the form of JSON."
   ]
  },
  {
   "cell_type": "code",
   "execution_count": 6,
   "metadata": {},
   "outputs": [
    {
     "data": {
      "text/plain": [
       "{'line_items': [{'product_code': None,\n",
       "   'description': 'Orange Strapping Tape 19MMX66M',\n",
       "   'quantity': '384.00',\n",
       "   'price_per_unit': '1.06',\n",
       "   'vat_percent': '20%',\n",
       "   'total_price': '407.04'},\n",
       "  {'product_code': None,\n",
       "   'description': '12mm Blue Vinyl Tape',\n",
       "   'quantity': '240.00',\n",
       "   'price_per_unit': '1.06',\n",
       "   'vat_percent': '20%',\n",
       "   'total_price': '254.40'}],\n",
       " 'total_amount': {'total_items': 2,\n",
       "  'total_tax': '132.29',\n",
       "  'total_price': '793.73'},\n",
       " 'due_date': '2023-11-25',\n",
       " 'payment_date': None,\n",
       " 'invoice_date': '2023-10-13',\n",
       " 'invoice_number': 'INV-7478',\n",
       " 'purchase_order': '3106',\n",
       " 'reference_numbers': ['MP38'],\n",
       " 'locale': 'en-GB',\n",
       " 'country': 'GBR',\n",
       " 'currency': 'GBP',\n",
       " 'payment_details': {'iban': None,\n",
       "  'swift': None,\n",
       "  'bic': None,\n",
       "  'account_number': '19745860'},\n",
       " 'vat_number': '188505042',\n",
       " 'supplier_name': 'New Forest Growers Ltd',\n",
       " 'taxes_details': [{'rate': '20%', 'amount': '132.29'}],\n",
       " 'total_amount_including_taxes': '793.73',\n",
       " 'total_net_amount_excluding_taxes': '661.44',\n",
       " 'customer_address': 'The Glasshouse\\nWicks Farm\\nFord Lane, Arundel\\nWest Sussex\\nBN18 0DQ\\nUNITED KINGDOM',\n",
       " 'shipping_address': None,\n",
       " 'billing_address': 'The Glasshouse\\nWicks Farm\\nFord Lane, Arundel\\nWest Sussex\\nBN18 0DQ\\nUNITED KINGDOM',\n",
       " 'customer_company_registrations': {'vat_number': 'GB125476511'},\n",
       " 'customer_name': 'Berry Farming Ltd',\n",
       " 'supplier_address': 'New Forest Growers\\nPitmore Lane\\nSway\\nLymington\\nHampshire\\nSO41 6BX\\nGBR'}"
      ]
     },
     "metadata": {},
     "output_type": "display_data"
    }
   ],
   "source": [
    "ocr_model.display(invoice)"
   ]
  },
  {
   "cell_type": "markdown",
   "metadata": {},
   "source": [
    "## Display the output in a table\n",
    "We will display the extracted data in the form of a table."
   ]
  },
  {
   "cell_type": "code",
   "execution_count": 7,
   "metadata": {},
   "outputs": [
    {
     "data": {
      "text/html": [
       "<table border=\"1\"><tr><th>line_items</th><td><table border=\"1\"><thead><tr><th>product_code</th><th>description</th><th>quantity</th><th>price_per_unit</th><th>vat_percent</th><th>total_price</th></tr></thead><tbody><tr><td>None</td><td>Orange Strapping Tape 19MMX66M</td><td>384.00</td><td>1.06</td><td>20%</td><td>407.04</td></tr><tr><td>None</td><td>12mm Blue Vinyl Tape</td><td>240.00</td><td>1.06</td><td>20%</td><td>254.40</td></tr></tbody></table></td></tr><tr><th>total_amount</th><td><table border=\"1\"><tr><th>total_items</th><td>2</td></tr><tr><th>total_tax</th><td>132.29</td></tr><tr><th>total_price</th><td>793.73</td></tr></table></td></tr><tr><th>due_date</th><td>2023-11-25</td></tr><tr><th>payment_date</th><td>None</td></tr><tr><th>invoice_date</th><td>2023-10-13</td></tr><tr><th>invoice_number</th><td>INV-7478</td></tr><tr><th>purchase_order</th><td>3106</td></tr><tr><th>reference_numbers</th><td><ul><li>MP38</li></ul></td></tr><tr><th>locale</th><td>en-GB</td></tr><tr><th>country</th><td>GBR</td></tr><tr><th>currency</th><td>GBP</td></tr><tr><th>payment_details</th><td><table border=\"1\"><tr><th>iban</th><td>None</td></tr><tr><th>swift</th><td>None</td></tr><tr><th>bic</th><td>None</td></tr><tr><th>account_number</th><td>19745860</td></tr></table></td></tr><tr><th>vat_number</th><td>188505042</td></tr><tr><th>supplier_name</th><td>New Forest Growers Ltd</td></tr><tr><th>taxes_details</th><td><table border=\"1\"><thead><tr><th>rate</th><th>amount</th></tr></thead><tbody><tr><td>20%</td><td>132.29</td></tr></tbody></table></td></tr><tr><th>total_amount_including_taxes</th><td>793.73</td></tr><tr><th>total_net_amount_excluding_taxes</th><td>661.44</td></tr><tr><th>customer_address</th><td>The Glasshouse\n",
       "Wicks Farm\n",
       "Ford Lane, Arundel\n",
       "West Sussex\n",
       "BN18 0DQ\n",
       "UNITED KINGDOM</td></tr><tr><th>shipping_address</th><td>None</td></tr><tr><th>billing_address</th><td>The Glasshouse\n",
       "Wicks Farm\n",
       "Ford Lane, Arundel\n",
       "West Sussex\n",
       "BN18 0DQ\n",
       "UNITED KINGDOM</td></tr><tr><th>customer_company_registrations</th><td><table border=\"1\"><tr><th>vat_number</th><td>GB125476511</td></tr></table></td></tr><tr><th>customer_name</th><td>Berry Farming Ltd</td></tr><tr><th>supplier_address</th><td>New Forest Growers\n",
       "Pitmore Lane\n",
       "Sway\n",
       "Lymington\n",
       "Hampshire\n",
       "SO41 6BX\n",
       "GBR</td></tr></table>"
      ],
      "text/plain": [
       "<IPython.core.display.HTML object>"
      ]
     },
     "metadata": {},
     "output_type": "display_data"
    }
   ],
   "source": [
    "ocr_model.display(invoice, html=True)"
   ]
  },
  {
   "cell_type": "markdown",
   "metadata": {},
   "source": [
    "## Conclusion\n",
    "We have successfully extracted the data from the PDF and displayed the output in a table format."
   ]
  }
 ],
 "metadata": {
  "kernelspec": {
   "display_name": "gemini",
   "language": "python",
   "name": "python3"
  },
  "language_info": {
   "codemirror_mode": {
    "name": "ipython",
    "version": 3
   },
   "file_extension": ".py",
   "mimetype": "text/x-python",
   "name": "python",
   "nbconvert_exporter": "python",
   "pygments_lexer": "ipython3",
   "version": "3.11.10"
  }
 },
 "nbformat": 4,
 "nbformat_minor": 2
}
