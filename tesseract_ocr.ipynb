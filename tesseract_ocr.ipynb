{
 "cells": [
  {
   "cell_type": "code",
   "execution_count": 1,
   "metadata": {},
   "outputs": [
    {
     "data": {
      "text/plain": [
       "['PO# 3106\\n', 'CHECKED 13/10/2023\\n', 'ENTERED 13/10/2023\\n', '\\x0c']"
      ]
     },
     "execution_count": 1,
     "metadata": {},
     "output_type": "execute_result"
    }
   ],
   "source": [
    "import os\n",
    "\n",
    "def pdf2text(pdf_file):\n",
    "    # convert pdf to text\n",
    "    text_file = pdf_file.replace('.pdf', '.txt')\n",
    "    cmd = 'pdftotext -layout %s %s' % (pdf_file, text_file)\n",
    "    os.system(cmd)\n",
    "    return text_file\n",
    "\n",
    "def text2lines(text_file):\n",
    "    # read text file and return lines\n",
    "    with open(text_file, 'r') as f:\n",
    "        lines = f.readlines()\n",
    "    return lines\n",
    "\n",
    "# main\n",
    "pdf_file = r'D:\\github\\OCR\\data\\invoices\\NEWFO-INV-7478.pdf'\n",
    "text_file = pdf2text(pdf_file)\n",
    "lines = text2lines(text_file)\n",
    "os.remove(text_file)\n",
    "lines"
   ]
  },
  {
   "cell_type": "code",
   "execution_count": 3,
   "metadata": {},
   "outputs": [
    {
     "name": "stdout",
     "output_type": "stream",
     "text": [
      "TAX INVOICE\n",
      "\n",
      "Berry Farming Ltd\n",
      "\n",
      "The Glasshouse\n",
      "\n",
      "Wicks Farm\n",
      "\n",
      "Ford Lane, Arundel\n",
      "\n",
      "West Sussex\n",
      "\n",
      "BN18 0DQ\n",
      "\n",
      "UNITED KINGDOM\n",
      "\n",
      "VAT Number: GB125476511\n",
      "\n",
      "Description\n",
      "Orange Strapping Tape 19MMX66M\n",
      "12mm Blue Vinyl Tape\n",
      "\n",
      "Due Date: 25 Nov 2023\n",
      "\n",
      "BACS payment Bank Details\n",
      "\n",
      "Account Name: New Forest Growers Ltd\n",
      "Account Number: 19745860\n",
      "\n",
      "Sot Cade: 30-80-89\n",
      "\n",
      "Bank: Lloyds Bank\n",
      "\n",
      "View and pay online now\n",
      "\n",
      "PO# 3106\n",
      "CHECKED 13/10/2023\n",
      "ENTERED 13/10/2023\n",
      "\n",
      "M.Kamara\n",
      "\n",
      "?o\n",
      "\n",
      "Invoice Date New Forest Growers Ltd\n",
      "13 Oct 2023 New Forest Growers\n",
      "Account Number Pitmore Lane\n",
      "BERRY Sway\n",
      "Invoice Number Lymington\n",
      "INV-7478 Hampshire\n",
      "ral 6BX\n",
      "MP38\n",
      "Tel: 01590683737\n",
      "VAT Number\n",
      "188505042\n",
      "Quantity Unit Price VAT Amount GBP\n",
      "384.00 1.06 20% 407.04\n",
      "240.00 1.06 20% 254.40\n",
      "Subtotal 661.44\n",
      "TOTAL VAT 20% 132.29\n",
      "TOTAL GBP 793.73\n",
      "is\n",
      "}\n",
      "ie\n",
      "\n",
      "Company Registration No: IP15891R. Registered Office: New Forest Growers, Pitmore Lane, Sway, Lymington, Hampshire, SO41 6BX, GBR.\n",
      "\n"
     ]
    }
   ],
   "source": [
    "import pytesseract\n",
    "from pdf2image import convert_from_path\n",
    "\n",
    "# Specify the path to the Tesseract executable\n",
    "pytesseract.pytesseract.tesseract_cmd = r'C:\\Program Files\\Tesseract-OCR\\tesseract.exe'\n",
    "\n",
    "def pdf2text_ocr(pdf_file):\n",
    "    # convert pdf to text using OCR\n",
    "    images = convert_from_path(pdf_file)\n",
    "    text = ''\n",
    "    for image in images:\n",
    "        text += pytesseract.image_to_string(image)\n",
    "    return text\n",
    "\n",
    "# main\n",
    "pdf_file = r'D:\\github\\OCR\\data\\invoices\\NEWFO-INV-7478.pdf'\n",
    "text = pdf2text_ocr(pdf_file)\n",
    "print(text)"
   ]
  },
  {
   "cell_type": "code",
   "execution_count": null,
   "metadata": {},
   "outputs": [],
   "source": []
  }
 ],
 "metadata": {
  "kernelspec": {
   "display_name": "gemini",
   "language": "python",
   "name": "python3"
  },
  "language_info": {
   "codemirror_mode": {
    "name": "ipython",
    "version": 3
   },
   "file_extension": ".py",
   "mimetype": "text/x-python",
   "name": "python",
   "nbconvert_exporter": "python",
   "pygments_lexer": "ipython3",
   "version": "3.11.10"
  }
 },
 "nbformat": 4,
 "nbformat_minor": 2
}
