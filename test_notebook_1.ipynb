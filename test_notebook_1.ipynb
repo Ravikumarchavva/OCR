{
 "cells": [
  {
   "cell_type": "code",
   "execution_count": 1,
   "metadata": {},
   "outputs": [],
   "source": [
    "import google.generativeai as genai\n",
    "import os\n",
    "from dotenv import load_dotenv\n",
    "load_dotenv()\n",
    "\n",
    "GCP_KEY = os.getenv(\"GCP_KEY\")\n",
    "\n",
    "genai.configure(api_key=GCP_KEY)\n",
    "model = genai.GenerativeModel(\"gemini-2.0-flash-exp\")"
   ]
  },
  {
   "cell_type": "code",
   "execution_count": 4,
   "metadata": {},
   "outputs": [
    {
     "data": {
      "application/vnd.jupyter.widget-view+json": {
       "model_id": "c5bd0b3ef24f435a9ecc3f936b3f0aba",
       "version_major": 2,
       "version_minor": 0
      },
      "text/plain": [
       "  0%|          | 0/7 [00:00<?, ?it/s]"
      ]
     },
     "metadata": {},
     "output_type": "display_data"
    }
   ],
   "source": [
    "from main_logic import InvoiceExtractor\n",
    "from pathlib import Path\n",
    "project_root = Path().resolve()\n",
    "extractor = InvoiceExtractor(model)\n",
    "invoices = extractor.extract_all(project_root / 'test_data')"
   ]
  },
  {
   "cell_type": "code",
   "execution_count": 5,
   "metadata": {},
   "outputs": [
    {
     "data": {
      "text/html": [
       "<table border=\"1\"><tr><th>line_items</th><td><table border=\"1\"><thead><tr><th>description</th><th>quantity</th><th>price_per_unit</th><th>vat_percent</th><th>total_price</th></tr></thead><tbody><tr><td>RHP Legro Blackberry/Raspberry Optima PLUS</td><td>111,80</td><td>57,75</td><td>None</td><td>6.456,45</td></tr><tr><td>Pack up in big-bale</td><td>76</td><td>18,00</td><td>None</td><td>468,00</td></tr><tr><td>Pallet 100x120 HT Export</td><td>26</td><td>11,00</td><td>None</td><td>286,00</td></tr><tr><td>Customs charges</td><td>1</td><td>54,00</td><td>None</td><td>54,00</td></tr><tr><td>Transportcost Pallets FTL</td><td>1</td><td>1.973,60</td><td>None</td><td>1.973,60</td></tr></tbody></table></td></tr><tr><th>total_amount</th><td><table border=\"1\"><tr><th>total_items</th><td>5</td></tr><tr><th>total_tax</th><td>0,00</td></tr><tr><th>total_price</th><td>9.238,05</td></tr></table></td></tr><tr><th>due_date</th><td>None</td></tr><tr><th>payment_date</th><td>None</td></tr><tr><th>invoice_date</th><td>2023-11-09</td></tr><tr><th>invoice_number</th><td>S2312132</td></tr><tr><th>purchase_order</th><td>3247</td></tr><tr><th>reference_numbers</th><td><ul><li>MK 7006</li></ul></td></tr><tr><th>locale</th><td>None</td></tr><tr><th>country</th><td>United Kingdom</td></tr><tr><th>currency</th><td>EUR</td></tr><tr><th>payment_details</th><td><table border=\"1\"><tr><th>iban</th><td>NL48 INGB 00016905 45</td></tr><tr><th>swift</th><td>None</td></tr><tr><th>bic</th><td>INGBNL2A</td></tr><tr><th>account_number</th><td>None</td></tr></table></td></tr><tr><th>supplier_company_registrations</th><td><table border=\"1\"><tr><th>siret</th><td>None</td></tr><tr><th>ein</th><td>None</td></tr><tr><th>vat_number</th><td>NL008000542B01</td></tr></table></td></tr><tr><th>supplier_name</th><td>LEGRO</td></tr><tr><th>total_tax</th><td>0,00</td></tr><tr><th>taxes_details</th><td><table border=\"1\"><thead><tr><th>rate</th><th>amount</th></tr></thead><tbody><tr><td>0,00</td><td>0,00</td></tr></tbody></table></td></tr><tr><th>total_amount_including_taxes</th><td>9.238,05</td></tr><tr><th>total_net_amount_excluding_taxes</th><td>9.238,05</td></tr><tr><th>customer_address</th><td>4 Conqueror Court, Water mark\n",
       "ME10 5BH Sittingbourne\n",
       "United Kingdom</td></tr><tr><th>shipping_address</th><td>The Glasshouse Wicks Farm Ford Lane\n",
       "BN18 ODF ARUNDEL (WEST SUSSEX)\n",
       "United Kingdom</td></tr><tr><th>billing_address</th><td>None</td></tr><tr><th>customer_company_registrations</th><td><table border=\"1\"><tr><th>vat_number</th><td>GB125476511</td></tr></table></td></tr><tr><th>customer_name</th><td>Berry Farming Ltd.</td></tr><tr><th>supplier_address</th><td>P.O. Box 93\n",
       "Gerstdijk 20\n",
       "5720 AB Asten\n",
       "5704 RG Helmond\n",
       "The Netherlands</td></tr></table>"
      ],
      "text/plain": [
       "<IPython.core.display.HTML object>"
      ]
     },
     "metadata": {},
     "output_type": "display_data"
    },
    {
     "name": "stdout",
     "output_type": "stream",
     "text": [
      "\n",
      "\n"
     ]
    },
    {
     "data": {
      "text/html": [
       "<table border=\"1\"><tr><th>line_items</th><td><table border=\"1\"><thead><tr><th>description</th><th>quantity</th><th>price_per_unit</th><th>vat_percent</th><th>total_price</th></tr></thead><tbody><tr><td>ISS SP - Picking: 12/11/2023 - 18/11/2023 Teynham</td><td>178,082</td><td>0.090</td><td>None</td><td>10,641.96</td></tr><tr><td>ISS SP - Picking: 12/11/2023 - 18/11/2023 Linton</td><td>105,084</td><td>0.090</td><td>None</td><td>2,856.15</td></tr><tr><td>ISS SP - Picking: 12/11/2023 - 18/11/2023 Sittingbourne</td><td>36,065</td><td>0.090</td><td>None</td><td>1,762.74</td></tr></tbody></table></td></tr><tr><th>total_amount</th><td><table border=\"1\"><tr><th>total_items</th><td>3</td></tr><tr><th>total_tax</th><td>3,052.17</td></tr><tr><th>total_price</th><td>18,313.02</td></tr></table></td></tr><tr><th>due_date</th><td>None</td></tr><tr><th>payment_date</th><td>None</td></tr><tr><th>invoice_date</th><td>2023-11-22</td></tr><tr><th>invoice_number</th><td>22806</td></tr><tr><th>purchase_order</th><td>None</td></tr><tr><th>reference_numbers</th><td></td></tr><tr><th>locale</th><td>None</td></tr><tr><th>country</th><td>None</td></tr><tr><th>currency</th><td>£</td></tr><tr><th>payment_details</th><td><table border=\"1\"><tr><th>iban</th><td>None</td></tr><tr><th>swift</th><td>None</td></tr><tr><th>bic</th><td>None</td></tr><tr><th>account_number</th><td>2236 6789</td></tr></table></td></tr><tr><th>supplier_company_registrations</th><td><table border=\"1\"><tr><th>siret</th><td>None</td></tr><tr><th>ein</th><td>None</td></tr><tr><th>vat_number</th><td>184 6959 49</td></tr></table></td></tr><tr><th>supplier_name</th><td>INTEGRATED SERVICE SOLUTIONS</td></tr><tr><th>total_tax</th><td>3,052.17</td></tr><tr><th>taxes_details</th><td><table border=\"1\"><thead><tr><th>rate</th><th>amount</th></tr></thead><tbody><tr><td>None</td><td>3,052.17</td></tr></tbody></table></td></tr><tr><th>total_amount_including_taxes</th><td>18,313.02</td></tr><tr><th>total_net_amount_excluding_taxes</th><td>15,260.85</td></tr><tr><th>customer_address</th><td>57-63 Church Street\n",
       "Wimbledon\n",
       "SW19 5DQ</td></tr><tr><th>shipping_address</th><td>None</td></tr><tr><th>billing_address</th><td>None</td></tr><tr><th>customer_company_registrations</th><td><table border=\"1\"><tr><th>vat_number</th><td>None</td></tr></table></td></tr><tr><th>customer_name</th><td>Direct Produce Supplies LTD</td></tr><tr><th>supplier_address</th><td>C/O Fowler Welch, London Road, Teynham, Sittingbourne, ME9 9PR</td></tr></table>"
      ],
      "text/plain": [
       "<IPython.core.display.HTML object>"
      ]
     },
     "metadata": {},
     "output_type": "display_data"
    },
    {
     "name": "stdout",
     "output_type": "stream",
     "text": [
      "\n",
      "\n"
     ]
    },
    {
     "data": {
      "text/html": [
       "<table border=\"1\"><tr><th>line_items</th><td><table border=\"1\"><thead><tr><th>description</th><th>quantity</th><th>price_per_unit</th><th>vat_percent</th><th>total_price</th></tr></thead><tbody><tr><td>Orange Strapping Tape 19MMX66M</td><td>384.00</td><td>1.06</td><td>20%</td><td>407.04</td></tr><tr><td>12mm Blue Vinyl Tape</td><td>240.00</td><td>1.06</td><td>20%</td><td>254.40</td></tr></tbody></table></td></tr><tr><th>total_amount</th><td><table border=\"1\"><tr><th>total_items</th><td>2</td></tr><tr><th>total_tax</th><td>132.29</td></tr><tr><th>total_price</th><td>793.73</td></tr></table></td></tr><tr><th>due_date</th><td>2023-11-25</td></tr><tr><th>payment_date</th><td>None</td></tr><tr><th>invoice_date</th><td>2023-10-13</td></tr><tr><th>invoice_number</th><td>INV-7478</td></tr><tr><th>purchase_order</th><td>3106</td></tr><tr><th>reference_numbers</th><td><ul><li>MP38</li></ul></td></tr><tr><th>locale</th><td>None</td></tr><tr><th>country</th><td>GBR</td></tr><tr><th>currency</th><td>GBP</td></tr><tr><th>payment_details</th><td><table border=\"1\"><tr><th>iban</th><td>None</td></tr><tr><th>swift</th><td>None</td></tr><tr><th>bic</th><td>None</td></tr><tr><th>account_number</th><td>19745860</td></tr></table></td></tr><tr><th>supplier_company_registrations</th><td><table border=\"1\"><tr><th>siret</th><td>None</td></tr><tr><th>ein</th><td>None</td></tr><tr><th>vat_number</th><td>188505042</td></tr></table></td></tr><tr><th>supplier_name</th><td>New Forest Growers Ltd</td></tr><tr><th>total_tax</th><td>132.29</td></tr><tr><th>taxes_details</th><td><table border=\"1\"><thead><tr><th>rate</th><th>amount</th></tr></thead><tbody><tr><td>20%</td><td>132.29</td></tr></tbody></table></td></tr><tr><th>total_amount_including_taxes</th><td>793.73</td></tr><tr><th>total_net_amount_excluding_taxes</th><td>661.44</td></tr><tr><th>customer_address</th><td>The Glasshouse\n",
       "Wicks Farm\n",
       "Ford Lane, Arundel\n",
       "West Sussex\n",
       "BN18 0DQ\n",
       "UNITED KINGDOM</td></tr><tr><th>shipping_address</th><td>None</td></tr><tr><th>billing_address</th><td>None</td></tr><tr><th>customer_company_registrations</th><td><table border=\"1\"><tr><th>vat_number</th><td>GB125476511</td></tr></table></td></tr><tr><th>customer_name</th><td>Berry Farming Ltd</td></tr><tr><th>supplier_address</th><td>New Forest Growers\n",
       "Pitmore Lane\n",
       "Sway\n",
       "Lymington\n",
       "Hampshire\n",
       "SO41 6BX\n",
       "GBR</td></tr></table>"
      ],
      "text/plain": [
       "<IPython.core.display.HTML object>"
      ]
     },
     "metadata": {},
     "output_type": "display_data"
    },
    {
     "name": "stdout",
     "output_type": "stream",
     "text": [
      "\n",
      "\n"
     ]
    },
    {
     "data": {
      "text/html": [
       "<table border=\"1\"><tr><th>line_items</th><td><table border=\"1\"><thead><tr><th>description</th><th>quantity</th><th>price_per_unit</th><th>vat_percent</th><th>total_price</th></tr></thead><tbody><tr><td>K37F/40mm Punnets + &quot;100% PAPER&quot; Black Soak Pad x 950\n",
       "pcs w2\n",
       "DDT 82303766 - 13/06/23 x 192 ctns\n",
       "DDT 82305223 - 02/08/23 x 96 ctns</td><td>288.00</td><td>45.39</td><td>20.00</td><td>13,072.32</td></tr></tbody></table></td></tr><tr><th>total_amount</th><td><table border=\"1\"><tr><th>total_items</th><td>1</td></tr><tr><th>total_tax</th><td>2,614.46</td></tr><tr><th>total_price</th><td>15,686.78</td></tr></table></td></tr><tr><th>due_date</th><td>None</td></tr><tr><th>payment_date</th><td>None</td></tr><tr><th>invoice_date</th><td>2023-08-30</td></tr><tr><th>invoice_number</th><td>1025991</td></tr><tr><th>purchase_order</th><td>12183</td></tr><tr><th>reference_numbers</th><td><ul><li>MK69</li><li>BERRY004</li></ul></td></tr><tr><th>locale</th><td>None</td></tr><tr><th>country</th><td>England</td></tr><tr><th>currency</th><td>£</td></tr><tr><th>payment_details</th><td><table border=\"1\"><tr><th>iban</th><td>GB20 BARC 2022 7550 7848 34</td></tr><tr><th>swift</th><td>BARCGB22</td></tr><tr><th>bic</th><td>None</td></tr><tr><th>account_number</th><td>50784834</td></tr></table></td></tr><tr><th>supplier_company_registrations</th><td><table border=\"1\"><tr><th>siret</th><td>None</td></tr><tr><th>ein</th><td>None</td></tr><tr><th>vat_number</th><td>700088278</td></tr></table></td></tr><tr><th>supplier_name</th><td>Infia UK Limited</td></tr><tr><th>total_tax</th><td>2,614.46</td></tr><tr><th>taxes_details</th><td><table border=\"1\"><thead><tr><th>rate</th><th>amount</th></tr></thead><tbody><tr><td>20.00</td><td>2,614.46</td></tr></tbody></table></td></tr><tr><th>total_amount_including_taxes</th><td>15,686.78</td></tr><tr><th>total_net_amount_excluding_taxes</th><td>13,072.32</td></tr><tr><th>customer_address</th><td>75A Lockgate Road\n",
       "Sidlesham Common\n",
       "West Sussex\n",
       "PO20 7QQ</td></tr><tr><th>shipping_address</th><td>None</td></tr><tr><th>billing_address</th><td>Unit 4\n",
       "Conqueror Court\n",
       "Sittingbourne\n",
       "Kent\n",
       "ΜΕ10 5BH</td></tr><tr><th>customer_company_registrations</th><td><table border=\"1\"><tr><th>vat_number</th><td>None</td></tr></table></td></tr><tr><th>customer_name</th><td>Berry Farming Ltd</td></tr><tr><th>supplier_address</th><td>Beech Gate\n",
       "Peterborough Road\n",
       "Whittlesey\n",
       "Cambridgeshire\n",
       "PE7 1PD</td></tr></table>"
      ],
      "text/plain": [
       "<IPython.core.display.HTML object>"
      ]
     },
     "metadata": {},
     "output_type": "display_data"
    },
    {
     "name": "stdout",
     "output_type": "stream",
     "text": [
      "\n",
      "\n"
     ]
    },
    {
     "data": {
      "text/html": [
       "<table border=\"1\"><tr><th>line_items</th><td><table border=\"1\"><thead><tr><th>description</th><th>quantity</th><th>price_per_unit</th><th>vat_percent</th><th>total_price</th></tr></thead><tbody><tr><td>FRESH MANGOES</td><td>5,544</td><td>5.25</td><td>None</td><td>29,106.00</td></tr></tbody></table></td></tr><tr><th>total_amount</th><td><table border=\"1\"><tr><th>total_items</th><td>1</td></tr><tr><th>total_tax</th><td>None</td></tr><tr><th>total_price</th><td>29,106.00</td></tr></table></td></tr><tr><th>due_date</th><td>2024-12-31</td></tr><tr><th>payment_date</th><td>None</td></tr><tr><th>invoice_date</th><td>2023-08-20</td></tr><tr><th>invoice_number</th><td>5424</td></tr><tr><th>purchase_order</th><td>PO139090</td></tr><tr><th>reference_numbers</th><td><ul><li>1-3026640-9</li><li>B1600002418</li><li>4049929957572</li></ul></td></tr><tr><th>locale</th><td>None</td></tr><tr><th>country</th><td>República Dominicana</td></tr><tr><th>currency</th><td>US$</td></tr><tr><th>payment_details</th><td><table border=\"1\"><tr><th>iban</th><td>None</td></tr><tr><th>swift</th><td>None</td></tr><tr><th>bic</th><td>None</td></tr><tr><th>account_number</th><td>None</td></tr></table></td></tr><tr><th>supplier_company_registrations</th><td><table border=\"1\"><tr><th>siret</th><td>None</td></tr><tr><th>ein</th><td>None</td></tr><tr><th>vat_number</th><td>None</td></tr></table></td></tr><tr><th>supplier_name</th><td>Dot Fruits, S.R.L.</td></tr><tr><th>total_tax</th><td>None</td></tr><tr><th>taxes_details</th><td></td></tr><tr><th>total_amount_including_taxes</th><td>None</td></tr><tr><th>total_net_amount_excluding_taxes</th><td>None</td></tr><tr><th>customer_address</th><td>None</td></tr><tr><th>shipping_address</th><td>None</td></tr><tr><th>billing_address</th><td>None</td></tr><tr><th>customer_company_registrations</th><td><table border=\"1\"><tr><th>vat_number</th><td>None</td></tr></table></td></tr><tr><th>customer_name</th><td>Direct Produce Supplies LTD</td></tr><tr><th>supplier_address</th><td>Catalina, Baní, República Dominicana</td></tr></table>"
      ],
      "text/plain": [
       "<IPython.core.display.HTML object>"
      ]
     },
     "metadata": {},
     "output_type": "display_data"
    },
    {
     "name": "stdout",
     "output_type": "stream",
     "text": [
      "\n",
      "\n"
     ]
    },
    {
     "data": {
      "text/html": [
       "<table border=\"1\"><tr><th>line_items</th><td><table border=\"1\"><thead><tr><th>description</th><th>quantity</th><th>price_per_unit</th><th>vat_percent</th><th>total_price</th></tr></thead><tbody><tr><td>FRA CAR 18X250 GEN VD DES K62H40 NG PAP</td><td>2.340,00</td><td>32,40</td><td>None</td><td>4.211,58</td></tr><tr><td>FRA CAR 18X250 GEN VD DES K62H40 NG PAP</td><td>5.886,00</td><td>9,60</td><td>None</td><td>3.138,87</td></tr><tr><td>FRA CAR 18X250 GEN VD DES K62H40 NG PAP</td><td>3.564,00</td><td>2,47</td><td>None</td><td>489,1</td></tr><tr><td>FRA CAR 18X250 GEN VD DES K62H40 NG PAP</td><td>7.146,00</td><td>4,44</td><td>None</td><td>1.763,53</td></tr><tr><td>FRA CAR 18X250 GEN VD DES K62H40 NG PAP</td><td>6.120,00</td><td>6,88</td><td>None</td><td>2.339,4</td></tr><tr><td>FRA CAR 18X250 GEN VD DES K62H40 NG PAP</td><td>10.710,00</td><td>7,94</td><td>None</td><td>4.726,77</td></tr><tr><td>FRA CAR 18X250 GEN VD DES K62H40 NG PAP</td><td>7.650,00</td><td>4,25</td><td>None</td><td>1.804,37</td></tr><tr><td>FRA CAR 18X250 GEN VD DES K62H40 NG PAP</td><td>9.180,00</td><td>2,55</td><td>None</td><td>1.299,03</td></tr><tr><td>FRA CAR 18X250 GEN VD DES K62H40 NG PAP</td><td>6.120,00</td><td>2,49</td><td>None</td><td>847,25</td></tr></tbody></table></td></tr><tr><th>total_amount</th><td><table border=\"1\"><tr><th>total_items</th><td>9</td></tr><tr><th>total_tax</th><td>0,00</td></tr><tr><th>total_price</th><td>20.619,90</td></tr></table></td></tr><tr><th>due_date</th><td>None</td></tr><tr><th>payment_date</th><td>None</td></tr><tr><th>invoice_date</th><td>09/11/2023</td></tr><tr><th>invoice_number</th><td>503003382</td></tr><tr><th>purchase_order</th><td>None</td></tr><tr><th>reference_numbers</th><td><ul><li>141800</li><li>141801</li><li>141802</li><li>141803</li><li>141804</li><li>141805</li><li>141799</li><li>142010</li><li>142097</li></ul></td></tr><tr><th>locale</th><td>None</td></tr><tr><th>country</th><td>United Kingdom</td></tr><tr><th>currency</th><td>EUR</td></tr><tr><th>payment_details</th><td><table border=\"1\"><tr><th>iban</th><td>GB68EBUR23122876803326</td></tr><tr><th>swift</th><td>EBURGBA1XXX</td></tr><tr><th>bic</th><td>None</td></tr><tr><th>account_number</th><td>None</td></tr></table></td></tr><tr><th>supplier_company_registrations</th><td><table border=\"1\"><tr><th>siret</th><td>None</td></tr><tr><th>ein</th><td>None</td></tr><tr><th>vat_number</th><td>GB328693957</td></tr></table></td></tr><tr><th>supplier_name</th><td>Surexport UK LTD</td></tr><tr><th>total_tax</th><td>0,00</td></tr><tr><th>taxes_details</th><td><table border=\"1\"><thead><tr><th>rate</th><th>amount</th></tr></thead><tbody><tr><td>0,00%</td><td>0,00</td></tr></tbody></table></td></tr><tr><th>total_amount_including_taxes</th><td>20.619,86</td></tr><tr><th>total_net_amount_excluding_taxes</th><td>20.619,86</td></tr><tr><th>customer_address</th><td>57-63 CHURCH ROAD\n",
       "SW19 5SB WIMBLEDON\n",
       "United Kingdom</td></tr><tr><th>shipping_address</th><td>None</td></tr><tr><th>billing_address</th><td>None</td></tr><tr><th>customer_company_registrations</th><td><table border=\"1\"><tr><th>vat_number</th><td>GB125476511</td></tr></table></td></tr><tr><th>customer_name</th><td>DPS LTD</td></tr><tr><th>supplier_address</th><td>Great Queen Street 16\n",
       "WC2B 5AH London</td></tr></table>"
      ],
      "text/plain": [
       "<IPython.core.display.HTML object>"
      ]
     },
     "metadata": {},
     "output_type": "display_data"
    },
    {
     "name": "stdout",
     "output_type": "stream",
     "text": [
      "\n",
      "\n"
     ]
    },
    {
     "data": {
      "text/html": [
       "<table border=\"1\"><tr><th>line_items</th><td><table border=\"1\"><thead><tr><th>description</th><th>quantity</th><th>price_per_unit</th><th>vat_percent</th><th>total_price</th></tr></thead><tbody><tr><td>AIRLINE HANDLING</td><td>None</td><td>0.28</td><td>0.00</td><td>393.12</td></tr><tr><td>CUSTOMS ENTRY</td><td>None</td><td>35.00</td><td>0.00</td><td>35.00</td></tr><tr><td>FUEL SURCHARGE @ 8%</td><td>None</td><td>8.00</td><td>0.00</td><td>9.12</td></tr><tr><td>DELIVERY</td><td>None</td><td>25.41</td><td>0.00</td><td>50.82</td></tr><tr><td>SUPPLY OF PALLET CHARGE</td><td>None</td><td>4.50</td><td>0.00</td><td>9.00</td></tr><tr><td>PULL BACK</td><td>None</td><td>0.045</td><td>0.00</td><td>63.18</td></tr><tr><td>WAREHOUSE HANDLING CHARGE</td><td>None</td><td>0.04</td><td>0.00</td><td>56.16</td></tr></tbody></table></td></tr><tr><th>total_amount</th><td><table border=\"1\"><tr><th>total_items</th><td>7</td></tr><tr><th>total_tax</th><td>0.00</td></tr><tr><th>total_price</th><td>616.40</td></tr></table></td></tr><tr><th>due_date</th><td>None</td></tr><tr><th>payment_date</th><td>None</td></tr><tr><th>invoice_date</th><td>2023-11-15</td></tr><tr><th>invoice_number</th><td>SI187262</td></tr><tr><th>purchase_order</th><td>None</td></tr><tr><th>reference_numbers</th><td><ul><li>LHAIJ337840</li><li>125-56290566/</li></ul></td></tr><tr><th>locale</th><td>None</td></tr><tr><th>country</th><td>UNITED KINGDOM</td></tr><tr><th>currency</th><td>GBP</td></tr><tr><th>payment_details</th><td><table border=\"1\"><tr><th>iban</th><td>GB30NWBK60084676738132</td></tr><tr><th>swift</th><td>None</td></tr><tr><th>bic</th><td>NWBKGB2L</td></tr><tr><th>account_number</th><td>76738132</td></tr></table></td></tr><tr><th>supplier_company_registrations</th><td><table border=\"1\"><tr><th>siret</th><td>None</td></tr><tr><th>ein</th><td>None</td></tr><tr><th>vat_number</th><td>GB125476511000</td></tr></table></td></tr><tr><th>supplier_name</th><td>PERISHABLE MOVEMENTS LTD</td></tr><tr><th>total_tax</th><td>0.00</td></tr><tr><th>taxes_details</th><td><table border=\"1\"><thead><tr><th>rate</th><th>amount</th></tr></thead><tbody><tr><td>0.00</td><td>0.00</td></tr></tbody></table></td></tr><tr><th>total_amount_including_taxes</th><td>616.40</td></tr><tr><th>total_net_amount_excluding_taxes</th><td>616.40</td></tr><tr><th>customer_address</th><td>FOA: DPS LOGISTICS TEAM 4 CONQUEROR COURT\n",
       "STAPLEHURST ROAD SITTINGBOURNE\n",
       "KENT\n",
       "ΜΕ10 5BH</td></tr><tr><th>shipping_address</th><td>None</td></tr><tr><th>billing_address</th><td>None</td></tr><tr><th>customer_company_registrations</th><td><table border=\"1\"><tr><th>vat_number</th><td>None</td></tr></table></td></tr><tr><th>customer_name</th><td>DIRECT PRODUCE SUPPLIES PLC</td></tr><tr><th>supplier_address</th><td>UNITS 1-6 SKYPORT HEATHROW\n",
       "ARMADALE ROAD FELTHAM\n",
       "MIDDLESEX TW14 0LW\n",
       "UNITED KINGDOM</td></tr></table>"
      ],
      "text/plain": [
       "<IPython.core.display.HTML object>"
      ]
     },
     "metadata": {},
     "output_type": "display_data"
    },
    {
     "name": "stdout",
     "output_type": "stream",
     "text": [
      "\n",
      "\n"
     ]
    }
   ],
   "source": [
    "extractor.display_all(invoices)"
   ]
  },
  {
   "cell_type": "code",
   "execution_count": 3,
   "metadata": {},
   "outputs": [
    {
     "data": {
      "text/html": [
       "<table border=\"1\"><tr><th>invoice_address</th><td><table border=\"1\"><tr><th>company_name</th><td>Berry Farming Ltd.</td></tr><tr><th>street</th><td>4 Conqueror Court, Water mark</td></tr><tr><th>city</th><td>Sittingbourne</td></tr><tr><th>postal_code</th><td>ME10 5BH</td></tr><tr><th>country</th><td>United Kingdom</td></tr></table></td></tr><tr><th>delivery_address</th><td><table border=\"1\"><tr><th>company_name</th><td>Berry Farming Ltd.</td></tr><tr><th>street</th><td>The Glasshouse Wicks Farm Ford Lane</td></tr><tr><th>city</th><td>ARUNDEL (WEST SUSSEX)</td></tr><tr><th>postal_code</th><td>BN18 ODF</td></tr><tr><th>country</th><td>United Kingdom</td></tr></table></td></tr><tr><th>proforma</th><td>S2312132</td></tr><tr><th>proforma_date</th><td>09-11-2023</td></tr><tr><th>due_date</th><td>None</td></tr><tr><th>customer_no</th><td>07822</td></tr><tr><th>vat_number</th><td>GB125476511</td></tr><tr><th>reference</th><td>MK 7006</td></tr><tr><th>items</th><td><table border=\"1\"><thead><tr><th>articleno</th><th>description</th><th>quantity</th><th>unit</th><th>intrastat</th><th>gross_weight</th><th>country_of_origin</th><th>price</th><th>amount</th></tr></thead><tbody><tr><td>13.0802HK</td><td>RHP Legro Blackberry/Raspberry Optima PLUS</td><td>111,80</td><td>ENm3</td><td>14049000</td><td>25.714,00</td><td>NLD</td><td>57,75</td><td>6.456,45</td></tr><tr><td>19.1001N</td><td>Pack up in big-bale</td><td>76</td><td>Pieces</td><td>None</td><td>44,20</td><td>None</td><td>18,00</td><td>468,00</td></tr><tr><td>48.3000</td><td>Pallet 100x120 HT Export</td><td>26</td><td>Pieces</td><td>44152090</td><td>390,00</td><td>NLD</td><td>11,00</td><td>286,00</td></tr><tr><td>19.2002</td><td>Customs charges</td><td>1</td><td>None</td><td>None</td><td>None</td><td>None</td><td>54,00</td><td>54,00</td></tr><tr><td>19.2015</td><td>Transportcost Pallets FTL</td><td>1</td><td>None</td><td>None</td><td>None</td><td>None</td><td>1.973,60</td><td>1.973,60</td></tr></tbody></table></td></tr><tr><th>total_gross_weight</th><td>76.148</td></tr><tr><th>total_net_weight</th><td>75.758</td></tr><tr><th>currency</th><td>EUR</td></tr><tr><th>total_excl_amount</th><td>9.238,05</td></tr><tr><th>vat_percent</th><td>0,00</td></tr><tr><th>vat_amount</th><td>0,00</td></tr><tr><th>total_amount</th><td>9.238,05</td></tr><tr><th>po_number</th><td>3247</td></tr><tr><th>checked_date</th><td>22/11/2023</td></tr><tr><th>entered_date</th><td>22/11/2023</td></tr><tr><th>ex_rate</th><td>1.1497</td></tr><tr><th>terms_of_delivery</th><td>DAP, Delivered At Place</td></tr><tr><th>payment_condition</th><td>Within 30 days of invoice date</td></tr><tr><th>bank_details</th><td><table border=\"1\"><tr><th>iban</th><td>NL48 INGB 00016905 45</td></tr><tr><th>bic</th><td>INGBNL2A</td></tr></table></td></tr><tr><th>mention_with_payment</th><td>S2312132</td></tr></table>"
      ],
      "text/plain": [
       "<IPython.core.display.HTML object>"
      ]
     },
     "metadata": {},
     "output_type": "display_data"
    },
    {
     "name": "stdout",
     "output_type": "stream",
     "text": [
      "\n",
      "\n"
     ]
    }
   ],
   "source": [
    "extractor.display_all(invoices)"
   ]
  },
  {
   "cell_type": "code",
   "execution_count": 4,
   "metadata": {},
   "outputs": [
    {
     "name": "stdout",
     "output_type": "stream",
     "text": [
      "{'line_items': [{'description': 'RHP Legro Blackberry/Raspberry\\nOptima PLUS', 'quantity': 111.8, 'price_per_unit': 57.75, 'vat_percent': None}, {'description': 'Pack up in big-bale', 'quantity': 26, 'price_per_unit': 18.0, 'vat_percent': None}, {'description': 'Pallet 100x120 HT Export', 'quantity': 26, 'price_per_unit': 11.0, 'vat_percent': None}, {'description': 'Transportcost Pallets FTL', 'quantity': 1, 'price_per_unit': 1973.6, 'vat_percent': None}], 'due_date': '2023-11-09', 'payment_date': None, 'invoice_date': '09-11-2023', 'invoice_number': 'S2312132', 'purchase_order': '3247', 'reference_numbers': ['MK 7006'], 'locale': None, 'country': 'United Kingdom', 'currency': 'EUR', 'payment_details': {'iban': 'NL48 INGB 00016905 45', 'swift': 'INGBNL2A', 'bic': 'INGBNL2A', 'account_number': None}, 'supplier_company_registrations': {'siret': None, 'ein': None, 'vat_number': 'GB125476511'}, 'supplier_name': 'LEGRO', 'total_tax': 0.0, 'taxes_details': [], 'total_amount_including_taxes': 9238.05, 'total_net_amount_excluding_taxes': 9238.05, 'customer_address': '4 Conqueror Court, Water mark\\nME10 5BH Sittingbourne\\nUnited Kingdom', 'shipping_address': 'The Glasshouse Wicks Farm Ford Lane\\nBN18 ODF ARUNDEL (WEST SUSSEX)\\nUnited Kingdom', 'billing_address': '4 Conqueror Court, Water mark\\nME10 5BH Sittingbourne\\nUnited Kingdom', 'customer_company_registrations': {'vat_number': None}, 'customer_name': 'Berry Farming Ltd.', 'supplier_address': 'P.O. Box 93\\nGerstdijk 20\\n5720 AB Asten\\n5704 RG Helmond\\nThe Netherlands'}\n",
      "{'line_items': [{'description': 'ISS SP - Picking: 12/11/2023 - 18/11/2023 Teynham', 'quantity': 178082.0, 'price_per_unit': 0.09, 'vat_percent': None}, {'description': 'ISS SP - Picking: 12/11/2023 - 18/11/2023 Linton', 'quantity': 105084.0, 'price_per_unit': 0.09, 'vat_percent': None}, {'description': 'ISS SP - Picking: 12/11/2023 - 18/11/2023 Sittingbourne', 'quantity': 36065.0, 'price_per_unit': 0.09, 'vat_percent': None}], 'due_date': None, 'payment_date': None, 'invoice_date': '22/11/2023', 'invoice_number': '22806', 'purchase_order': None, 'reference_numbers': [], 'locale': None, 'country': None, 'currency': '£', 'payment_details': {'iban': None, 'swift': None, 'bic': None, 'account_number': '2236 6789'}, 'supplier_company_registrations': {'siret': None, 'ein': None, 'vat_number': '184 6959 49'}, 'supplier_name': 'INTEGRATED SERVICE SOLUTIONS', 'total_tax': 3052.17, 'taxes_details': [], 'total_amount_including_taxes': 18313.02, 'total_net_amount_excluding_taxes': 15260.85, 'customer_address': '57-63 Church Street\\nWimbledon\\nSW19 5DQ', 'shipping_address': None, 'billing_address': None, 'customer_company_registrations': {'vat_number': None}, 'customer_name': 'Direct Produce Supplies LTD', 'supplier_address': 'C/O Fowler Welch, London Road, Teynham, Sittingbourne, ME9 9PR'}\n"
     ]
    }
   ],
   "source": [
    "for i in invoices:\n",
    "    print(i.data)"
   ]
  },
  {
   "cell_type": "code",
   "execution_count": null,
   "metadata": {},
   "outputs": [],
   "source": []
  }
 ],
 "metadata": {
  "kernelspec": {
   "display_name": "gemini",
   "language": "python",
   "name": "python3"
  },
  "language_info": {
   "codemirror_mode": {
    "name": "ipython",
    "version": 3
   },
   "file_extension": ".py",
   "mimetype": "text/x-python",
   "name": "python",
   "nbconvert_exporter": "python",
   "pygments_lexer": "ipython3",
   "version": "3.11.10"
  }
 },
 "nbformat": 4,
 "nbformat_minor": 2
}
