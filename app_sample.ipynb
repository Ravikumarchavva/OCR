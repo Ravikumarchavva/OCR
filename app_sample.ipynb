{
 "cells": [
  {
   "cell_type": "markdown",
   "metadata": {},
   "source": [
    "# Table of contents\n",
    "1. [Introduction](#introduction)\n",
    "2. [Data Ingestion](#data-ingestion)\n",
    "3. [Data Extraction](#data-extraction)\n",
    "4. [Display the output](#display-the-output)\n",
    "5. [Display the output in a table](#display-the-output-in-a-table)\n",
    "6. [Conclusion](#conclusion)"
   ]
  },
  {
   "cell_type": "markdown",
   "metadata": {},
   "source": [
    "## Introduction\n",
    "In this notebook, we will be extracting the data from the given PDF and display the output in a table format. We will be using the Gemini API to extract the data from the PDF."
   ]
  },
  {
   "cell_type": "markdown",
   "metadata": {},
   "source": [
    "## Data Ingestion\n",
    "We will upload the PDF file to the notebook and then transform the pdf into base64 utf-8 format."
   ]
  },
  {
   "cell_type": "code",
   "execution_count": 1,
   "metadata": {},
   "outputs": [],
   "source": [
    "from components.data_ingestion import DataIngestion\n",
    "from configs import ROOT_DIR\n",
    "\n",
    "file_path = ROOT_DIR / 'data' / 'invoices' / 'invoice.pdf'\n",
    "data_ingestion = DataIngestion()\n",
    "data = data_ingestion.transform(file_path)"
   ]
  },
  {
   "cell_type": "markdown",
   "metadata": {},
   "source": [
    "## Data Extraction\n",
    "We will use the Gemini API to extract the data from the PDF."
   ]
  },
  {
   "cell_type": "code",
   "execution_count": 2,
   "metadata": {},
   "outputs": [],
   "source": [
    "from components.model import OCR_Model\n",
    "from  configs import MODEL\n",
    "ocr_model = OCR_Model(model= MODEL)\n",
    "invoice = ocr_model.extract(data)"
   ]
  },
  {
   "cell_type": "markdown",
   "metadata": {},
   "source": [
    "## Display the output\n",
    "We will display the extracted data in the form of JSON."
   ]
  },
  {
   "cell_type": "code",
   "execution_count": 3,
   "metadata": {},
   "outputs": [
    {
     "data": {
      "text/plain": [
       "{'line_items': [{'product_code': '13.0802HK',\n",
       "   'description': 'RHP Legro Blackberry/Raspberry\\nOptima PLUS',\n",
       "   'quantity': '111,80 ENm3',\n",
       "   'price_per_unit': '57,75',\n",
       "   'vat_percent': None,\n",
       "   'total_price': '6.456,45'},\n",
       "  {'product_code': '19.1001N',\n",
       "   'description': 'Pack up in big-bale',\n",
       "   'quantity': '26 Pieces',\n",
       "   'price_per_unit': '18,00',\n",
       "   'vat_percent': None,\n",
       "   'total_price': '468,00'},\n",
       "  {'product_code': '48.3000',\n",
       "   'description': 'Pallet 100x120 HT Export',\n",
       "   'quantity': '26 Pieces',\n",
       "   'price_per_unit': '11,00',\n",
       "   'vat_percent': None,\n",
       "   'total_price': '286,00'},\n",
       "  {'product_code': '19.2002',\n",
       "   'description': 'Customs charges',\n",
       "   'quantity': '1',\n",
       "   'price_per_unit': '54,00',\n",
       "   'vat_percent': None,\n",
       "   'total_price': '54,00'},\n",
       "  {'product_code': '19.2015',\n",
       "   'description': 'Transportcost Pallets FTL',\n",
       "   'quantity': '1',\n",
       "   'price_per_unit': '1.973,60',\n",
       "   'vat_percent': None,\n",
       "   'total_price': '1.973,60'}],\n",
       " 'total_amount': {'total_items': 5,\n",
       "  'total_tax': '0,00',\n",
       "  'total_price': '9.238,05'},\n",
       " 'due_date': '2023-12-09',\n",
       " 'payment_date': None,\n",
       " 'invoice_date': '2023-11-09',\n",
       " 'invoice_number': 'S2312132',\n",
       " 'purchase_order': '3247',\n",
       " 'reference_numbers': ['MK 7006'],\n",
       " 'locale': 'en-GB',\n",
       " 'country': 'United Kingdom',\n",
       " 'currency': 'EUR',\n",
       " 'payment_details': {'iban': 'NL48 INGB 0001 6905 45',\n",
       "  'swift': None,\n",
       "  'bic': 'INGBNL2A',\n",
       "  'account_number': None},\n",
       " 'vat_number': 'GB125476511',\n",
       " 'supplier_name': 'Legro',\n",
       " 'taxes_details': [{'rate': '0,00', 'amount': '0,00'}],\n",
       " 'total_amount_including_taxes': '9.238,05',\n",
       " 'total_net_amount_excluding_taxes': '9.238,05',\n",
       " 'customer_address': '4 Conqueror Court, Water mark\\nME10 5BH Sittingbourne\\nUnited Kingdom',\n",
       " 'shipping_address': 'The Glasshouse Wicks Farm Ford Lane\\nBN18 ODF ARUNDEL (WEST SUSSEX)\\nUnited Kingdom',\n",
       " 'billing_address': '4 Conqueror Court, Water mark\\nME10 5BH Sittingbourne\\nUnited Kingdom',\n",
       " 'customer_company_registrations': {'vat_number': 'GB125476511'},\n",
       " 'customer_name': 'Berry Farming Ltd.',\n",
       " 'supplier_address': 'P.O. Box 93\\nGerstdijk 20\\n5720 AB Asten\\n5704 RG Helmond\\nThe Netherlands'}"
      ]
     },
     "metadata": {},
     "output_type": "display_data"
    }
   ],
   "source": [
    "ocr_model.display(invoice)"
   ]
  },
  {
   "cell_type": "markdown",
   "metadata": {},
   "source": [
    "## Display the output in a table\n",
    "We will display the extracted data in the form of a table."
   ]
  },
  {
   "cell_type": "code",
   "execution_count": 4,
   "metadata": {},
   "outputs": [
    {
     "data": {
      "text/html": [
       "<table border=\"1\"><tr><th>line_items</th><td><table border=\"1\"><thead><tr><th>product_code</th><th>description</th><th>quantity</th><th>price_per_unit</th><th>vat_percent</th><th>total_price</th></tr></thead><tbody><tr><td>13.0802HK</td><td>RHP Legro Blackberry/Raspberry\n",
       "Optima PLUS</td><td>111,80 ENm3</td><td>57,75</td><td>None</td><td>6.456,45</td></tr><tr><td>19.1001N</td><td>Pack up in big-bale</td><td>26 Pieces</td><td>18,00</td><td>None</td><td>468,00</td></tr><tr><td>48.3000</td><td>Pallet 100x120 HT Export</td><td>26 Pieces</td><td>11,00</td><td>None</td><td>286,00</td></tr><tr><td>19.2002</td><td>Customs charges</td><td>1</td><td>54,00</td><td>None</td><td>54,00</td></tr><tr><td>19.2015</td><td>Transportcost Pallets FTL</td><td>1</td><td>1.973,60</td><td>None</td><td>1.973,60</td></tr></tbody></table></td></tr><tr><th>total_amount</th><td><table border=\"1\"><tr><th>total_items</th><td>5</td></tr><tr><th>total_tax</th><td>0,00</td></tr><tr><th>total_price</th><td>9.238,05</td></tr></table></td></tr><tr><th>due_date</th><td>2023-12-09</td></tr><tr><th>payment_date</th><td>None</td></tr><tr><th>invoice_date</th><td>2023-11-09</td></tr><tr><th>invoice_number</th><td>S2312132</td></tr><tr><th>purchase_order</th><td>3247</td></tr><tr><th>reference_numbers</th><td><ul><li>MK 7006</li></ul></td></tr><tr><th>locale</th><td>en-GB</td></tr><tr><th>country</th><td>United Kingdom</td></tr><tr><th>currency</th><td>EUR</td></tr><tr><th>payment_details</th><td><table border=\"1\"><tr><th>iban</th><td>NL48 INGB 0001 6905 45</td></tr><tr><th>swift</th><td>None</td></tr><tr><th>bic</th><td>INGBNL2A</td></tr><tr><th>account_number</th><td>None</td></tr></table></td></tr><tr><th>vat_number</th><td>GB125476511</td></tr><tr><th>supplier_name</th><td>Legro</td></tr><tr><th>taxes_details</th><td><table border=\"1\"><thead><tr><th>rate</th><th>amount</th></tr></thead><tbody><tr><td>0,00</td><td>0,00</td></tr></tbody></table></td></tr><tr><th>total_amount_including_taxes</th><td>9.238,05</td></tr><tr><th>total_net_amount_excluding_taxes</th><td>9.238,05</td></tr><tr><th>customer_address</th><td>4 Conqueror Court, Water mark\n",
       "ME10 5BH Sittingbourne\n",
       "United Kingdom</td></tr><tr><th>shipping_address</th><td>The Glasshouse Wicks Farm Ford Lane\n",
       "BN18 ODF ARUNDEL (WEST SUSSEX)\n",
       "United Kingdom</td></tr><tr><th>billing_address</th><td>4 Conqueror Court, Water mark\n",
       "ME10 5BH Sittingbourne\n",
       "United Kingdom</td></tr><tr><th>customer_company_registrations</th><td><table border=\"1\"><tr><th>vat_number</th><td>GB125476511</td></tr></table></td></tr><tr><th>customer_name</th><td>Berry Farming Ltd.</td></tr><tr><th>supplier_address</th><td>P.O. Box 93\n",
       "Gerstdijk 20\n",
       "5720 AB Asten\n",
       "5704 RG Helmond\n",
       "The Netherlands</td></tr></table>"
      ],
      "text/plain": [
       "<IPython.core.display.HTML object>"
      ]
     },
     "metadata": {},
     "output_type": "display_data"
    }
   ],
   "source": [
    "ocr_model.display(invoice, html=True)"
   ]
  },
  {
   "cell_type": "markdown",
   "metadata": {},
   "source": [
    "## Conclusion\n",
    "We have successfully extracted the data from the PDF and displayed the output in a table format."
   ]
  }
 ],
 "metadata": {
  "kernelspec": {
   "display_name": "gemini",
   "language": "python",
   "name": "python3"
  },
  "language_info": {
   "codemirror_mode": {
    "name": "ipython",
    "version": 3
   },
   "file_extension": ".py",
   "mimetype": "text/x-python",
   "name": "python",
   "nbconvert_exporter": "python",
   "pygments_lexer": "ipython3",
   "version": "3.11.10"
  }
 },
 "nbformat": 4,
 "nbformat_minor": 2
}
