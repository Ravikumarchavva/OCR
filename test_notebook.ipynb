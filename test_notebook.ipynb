{
 "cells": [
  {
   "cell_type": "code",
   "execution_count": 1,
   "metadata": {},
   "outputs": [],
   "source": [
    "import google.generativeai as genai\n",
    "import os\n",
    "from dotenv import load_dotenv\n",
    "load_dotenv()\n",
    "\n",
    "GCP_KEY = os.getenv(\"GCP_KEY\")\n",
    "\n",
    "genai.configure(api_key=GCP_KEY)\n",
    "model = genai.GenerativeModel(\"gemini-1.5-flash\")"
   ]
  },
  {
   "cell_type": "code",
   "execution_count": 2,
   "metadata": {},
   "outputs": [
    {
     "data": {
      "application/vnd.jupyter.widget-view+json": {
       "model_id": "e1ea3acdf747487481cd5576a9b29c72",
       "version_major": 2,
       "version_minor": 0
      },
      "text/plain": [
       "  0%|          | 0/7 [00:00<?, ?it/s]"
      ]
     },
     "metadata": {},
     "output_type": "display_data"
    }
   ],
   "source": [
    "from main_logic import InvoiceExtractor\n",
    "from pathlib import Path\n",
    "project_root = Path().resolve()\n",
    "extractor = InvoiceExtractor(model)\n",
    "invoices = extractor.extract_all(project_root / 'test_data')"
   ]
  },
  {
   "cell_type": "code",
   "execution_count": 3,
   "metadata": {},
   "outputs": [
    {
     "data": {
      "text/html": [
       "<table border=\"1\"><tr><th>invoice_number</th><td>S2312132</td></tr><tr><th>invoice_date</th><td>09-11-2023</td></tr><tr><th>due_date</th><td>None</td></tr><tr><th>customer_number</th><td>07822</td></tr><tr><th>vat_number</th><td>GB125476511</td></tr><tr><th>reference</th><td>MK 7006</td></tr><tr><th>invoice_address</th><td><table border=\"1\"><tr><th>name</th><td>Berry Farming Ltd.</td></tr><tr><th>street</th><td>4 Conqueror Court, Water mark</td></tr><tr><th>city</th><td>Sittingbourne</td></tr><tr><th>postcode</th><td>ME10 5BH</td></tr><tr><th>country</th><td>United Kingdom</td></tr></table></td></tr><tr><th>delivery_address</th><td><table border=\"1\"><tr><th>name</th><td>Berry Farming Ltd.</td></tr><tr><th>street</th><td>The Glasshouse Wicks Farm Ford Lane</td></tr><tr><th>city</th><td>ARUNDEL (WEST SUSSEX)</td></tr><tr><th>postcode</th><td>BN18 ODF</td></tr><tr><th>country</th><td>United Kingdom</td></tr></table></td></tr><tr><th>items</th><td><table border=\"1\"><thead><tr><th>article_number</th><th>description</th><th>quantity</th><th>unit</th><th>intrastat</th><th>gross_weight</th><th>country_of_origin</th><th>price</th><th>amount</th></tr></thead><tbody><tr><td>13.0802HK</td><td>RHP Legro Blackberry/Raspberry Optima PLUS</td><td>111,80</td><td>ENm3</td><td>14049000</td><td>25.714,00</td><td>NLD</td><td>57,75</td><td>6.456,45</td></tr><tr><td>19.1001N</td><td>Pack up in big-bale</td><td>26</td><td>Pieces</td><td>None</td><td>44,20</td><td>None</td><td>18,00</td><td>468,00</td></tr><tr><td>48.3000</td><td>Pallet 100x120 HT Export</td><td>26</td><td>Pieces</td><td>44152090</td><td>390,00</td><td>NLD</td><td>11,00</td><td>286,00</td></tr><tr><td>19.2015</td><td>Transportcost Pallets FTL</td><td>1</td><td>None</td><td>None</td><td>None</td><td>None</td><td>1.973,00</td><td>1.973,00</td></tr></tbody></table></td></tr><tr><th>total_gross_weight</th><td>26.148</td></tr><tr><th>total_net_weight</th><td>25.758</td></tr><tr><th>currency</th><td>EUR</td></tr><tr><th>excl_amount</th><td>9.238,05</td></tr><tr><th>vat</th><td>0,00</td></tr><tr><th>total_amount</th><td>9.238,05</td></tr><tr><th>payment_terms</th><td>Within 30 days of invoice date</td></tr><tr><th>bank_details</th><td><table border=\"1\"><tr><th>iban</th><td>NL48 INGB 00016905 45</td></tr><tr><th>bic</th><td>INGBNL2A</td></tr></table></td></tr></table>"
      ],
      "text/plain": [
       "<IPython.core.display.HTML object>"
      ]
     },
     "metadata": {},
     "output_type": "display_data"
    },
    {
     "name": "stdout",
     "output_type": "stream",
     "text": [
      "\n",
      "\n"
     ]
    },
    {
     "data": {
      "text/html": [
       "<table border=\"1\"><tr><th>Invoice No</th><td>22806</td></tr><tr><th>Invoice Date</th><td>22/11/2023</td></tr><tr><th>Invoice To</th><td>Direct Produce Supplies LTD\n",
       "57-63 Church Street\n",
       "Wimbledon\n",
       "SW19 5DQ</td></tr><tr><th>Items</th><td><table border=\"1\"><thead><tr><th>Quantity</th><th>Service Description</th><th>Rate (£)</th><th>Net Value (£)</th></tr></thead><tbody><tr><td>178082</td><td>ISS SP - Picking: 12/11/2023 - 18/11/2023 Teynham</td><td>0.09</td><td>16027.38</td></tr><tr><td>105084</td><td>ISS SP - Picking: 12/11/2023 - 18/11/2023 Linton</td><td>0.09</td><td>9457.56</td></tr><tr><td>36065</td><td>ISS SP - Picking: 12/11/2023 - 18/11/2023 Sittingbourne</td><td>0.09</td><td>3245.74</td></tr></tbody></table></td></tr><tr><th>Net Total (£)</th><td>15260.85</td></tr><tr><th>VAT (£)</th><td>3052.17</td></tr><tr><th>Gross Total (£)</th><td>18313.02</td></tr><tr><th>Bank Details</th><td><table border=\"1\"><tr><th>Bank</th><td>HSBC UK Bank Plc</td></tr><tr><th>Sort Code</th><td>40-03-21</td></tr><tr><th>Account No</th><td>2236 6789</td></tr></table></td></tr><tr><th>Payment Terms</th><td>28 days from invoice date</td></tr><tr><th>Contact</th><td><table border=\"1\"><tr><th>Tel</th><td>01795 523 310</td></tr><tr><th>Email</th><td>accounts@issproduce.co.uk</td></tr><tr><th>Website</th><td>www.issproduce.co.uk</td></tr></table></td></tr><tr><th>Company Registration No</th><td>08332191</td></tr></table>"
      ],
      "text/plain": [
       "<IPython.core.display.HTML object>"
      ]
     },
     "metadata": {},
     "output_type": "display_data"
    },
    {
     "name": "stdout",
     "output_type": "stream",
     "text": [
      "\n",
      "\n"
     ]
    },
    {
     "data": {
      "text/html": [
       "<table border=\"1\"><tr><th>supplier</th><td><table border=\"1\"><tr><th>name</th><td>New Forest Growers Ltd</td></tr><tr><th>address</th><td>Pitmore Lane\n",
       "Sway\n",
       "Lymington\n",
       "Hampshire\n",
       "SO41 6BX\n",
       "GBR</td></tr><tr><th>phone</th><td>01590683737</td></tr><tr><th>vat_number</th><td>188505042</td></tr></table></td></tr><tr><th>customer</th><td><table border=\"1\"><tr><th>name</th><td>Berry Farming Ltd</td></tr><tr><th>address</th><td>The Glasshouse\n",
       "Wicks Farm\n",
       "Ford Lane, Arundel\n",
       "West Sussex\n",
       "BN18 0DQ\n",
       "UNITED KINGDOM</td></tr><tr><th>vat_number</th><td>GB125476511</td></tr></table></td></tr><tr><th>invoice</th><td><table border=\"1\"><tr><th>number</th><td>INV-7478</td></tr><tr><th>date</th><td>13 Oct 2023</td></tr><tr><th>due_date</th><td>25 Nov 2023</td></tr><tr><th>reference</th><td>MP38</td></tr><tr><th>account_number</th><td>BERRY</td></tr><tr><th>items</th><td><table border=\"1\"><thead><tr><th>description</th><th>quantity</th><th>unit_price</th><th>vat</th><th>amount</th></tr></thead><tbody><tr><td>Orange Strapping Tape 19MMX66M</td><td>384.0</td><td>1.06</td><td>20</td><td>407.04</td></tr><tr><td>12mm Blue Vinyl Tape</td><td>240.0</td><td>1.06</td><td>20</td><td>254.4</td></tr></tbody></table></td></tr><tr><th>subtotal</th><td>661.44</td></tr><tr><th>total_vat</th><td>132.29</td></tr><tr><th>total</th><td>793.73</td></tr><tr><th>payment_details</th><td><table border=\"1\"><tr><th>bank</th><td>Lloyds Bank</td></tr><tr><th>account_name</th><td>New Forest Growers Ltd</td></tr><tr><th>account_number</th><td>19745860</td></tr><tr><th>sort_code</th><td>30-80-89</td></tr></table></td></tr><tr><th>po_number</th><td>PO - MP38</td></tr></table></td></tr></table>"
      ],
      "text/plain": [
       "<IPython.core.display.HTML object>"
      ]
     },
     "metadata": {},
     "output_type": "display_data"
    },
    {
     "name": "stdout",
     "output_type": "stream",
     "text": [
      "\n",
      "\n"
     ]
    },
    {
     "data": {
      "text/html": [
       "<table border=\"1\"><tr><th>supplier</th><td>Infia UK Limited</td></tr><tr><th>supplier_address</th><td>Beech Gate\n",
       "Peterborough Road\n",
       "Whittlesey\n",
       "Cambridgeshire\n",
       "PE7 1PD</td></tr><tr><th>supplier_contact</th><td><table border=\"1\"><tr><th>tel</th><td>01733 202088</td></tr><tr><th>email</th><td>Accounts@thegshgroup.com</td></tr><tr><th>website</th><td>www.thegshgroup.com</td></tr><tr><th>vat_reg_no</th><td>700088278</td></tr></table></td></tr><tr><th>customer</th><td>Berry Farming Ltd</td></tr><tr><th>customer_address</th><td>Unit 4\n",
       "Conqueror Court\n",
       "Sittingbourne\n",
       "Kent\n",
       "ME10 5BH</td></tr><tr><th>invoice_no</th><td>1025991</td></tr><tr><th>invoice_date</th><td>30/08/2023</td></tr><tr><th>order_no</th><td>MK69</td></tr><tr><th>account_ref</th><td>BERRY004</td></tr><tr><th>items</th><td><table border=\"1\"><thead><tr><th>quantity</th><th>description</th><th>unit_price</th><th>net_amount</th><th>vat_percent</th><th>vat_amount</th></tr></thead><tbody><tr><td>288.0</td><td>K37F/40mm Punnets + &quot;100% PAPER&quot; Black Soak Pad x 950 pcs w2\n",
       "DDT 82303766 - 13/06/23 x 192 ctns\n",
       "DDT 82305223 - 02/08/23 x 96 ctns</td><td>45.39</td><td>13072.32</td><td>20.0</td><td>2614.46</td></tr></tbody></table></td></tr><tr><th>total_net_amount</th><td>13072.32</td></tr><tr><th>carriage_net</th><td>0.0</td></tr><tr><th>total_vat_amount</th><td>2614.46</td></tr><tr><th>invoice_total</th><td>15686.78</td></tr><tr><th>payment_terms</th><td>30 Days</td></tr><tr><th>bank_details</th><td><table border=\"1\"><tr><th>bank</th><td>Barclay&#x27;s Bank</td></tr><tr><th>address</th><td>9 High Street\n",
       "Colchester\n",
       "CO1 1DD</td></tr><tr><th>sort_code</th><td>20-22-75</td></tr><tr><th>account_no</th><td>50784834</td></tr><tr><th>iban</th><td>GB20 BARC 2022 7550 7848 34</td></tr><tr><th>swift</th><td>BARCGB22</td></tr></table></td></tr><tr><th>delivery_to</th><td><table border=\"1\"><tr><th>name</th><td>Triple Ash Nursery</td></tr><tr><th>address</th><td>75A Lockgate Road\n",
       "Sidlesham Common\n",
       "West Sussex\n",
       "PO20 7QQ</td></tr></table></td></tr><tr><th>despatch_job_no</th><td>45323</td></tr><tr><th>consignment_no</th><td>None</td></tr><tr><th>haulier</th><td>JM Transport</td></tr><tr><th>special_instructions</th><td>Please call 1/2 hour before\n",
       "arrival on 07563 382459</td></tr></table>"
      ],
      "text/plain": [
       "<IPython.core.display.HTML object>"
      ]
     },
     "metadata": {},
     "output_type": "display_data"
    },
    {
     "name": "stdout",
     "output_type": "stream",
     "text": [
      "\n",
      "\n"
     ]
    },
    {
     "data": {
      "text/html": [
       "<table border=\"1\"><tr><th>supplier</th><td>Dot Fruits, S.R.L.</td></tr><tr><th>supplier_address</th><td>Catalina, Baní, República Dominicana</td></tr><tr><th>supplier_phone</th><td>(829)-341-4429/(809)-756-2359</td></tr><tr><th>supplier_email</th><td>Dotfruits@hotmail.com</td></tr><tr><th>supplier_rnc</th><td>1-3026640-9</td></tr><tr><th>invoice_date</th><td>20/08/2023</td></tr><tr><th>customer</th><td>Direct Produce Supplies LTD</td></tr><tr><th>invoice_number</th><td>5424</td></tr><tr><th>export_invoice_number</th><td>B1600002418</td></tr><tr><th>valid_until</th><td>31-12-2024</td></tr><tr><th>shipping_port</th><td>Caucedo</td></tr><tr><th>shipping_agent</th><td>Hapag-Lloyd</td></tr><tr><th>destination</th><td>M&amp;B Felixstowe LTD</td></tr><tr><th>items</th><td><table border=\"1\"><thead><tr><th>description</th><th>quantity</th><th>unit</th><th>total_lbs_gross</th><th>total_kgs_gross</th><th>total_kgs_net</th><th>price</th><th>total_value</th></tr></thead><tbody><tr><td>FRESH MANGOES</td><td>5544</td><td>BOXES</td><td>47787</td><td>24125</td><td>22176</td><td>5.25</td><td>29106.0</td></tr></tbody></table></td></tr><tr><th>container</th><td>HLBU 908214-9</td></tr><tr><th>seal</th><td>DGA-EXP1403247</td></tr><tr><th>temperature</th><td>9°C</td></tr><tr><th>humidity</th><td>90%</td></tr><tr><th>ventilation</th><td>60 CMB/H</td></tr><tr><th>total_value_usd</th><td>29106.0</td></tr></table>"
      ],
      "text/plain": [
       "<IPython.core.display.HTML object>"
      ]
     },
     "metadata": {},
     "output_type": "display_data"
    },
    {
     "name": "stdout",
     "output_type": "stream",
     "text": [
      "\n",
      "\n"
     ]
    },
    {
     "data": {
      "text/html": [
       "<table border=\"1\"><tr><th>supplier</th><td>Surexport UK LTD</td></tr><tr><th>supplier_address</th><td>Great Queen Street 16, WC2B 5AH London</td></tr><tr><th>supplier_vat_no</th><td>GB328693957</td></tr><tr><th>supplier_website</th><td>www.surexport.es</td></tr><tr><th>customer</th><td>DPS LTD</td></tr><tr><th>customer_address</th><td>57-63 CHURCH ROAD, SW19 5SB WIMBLEDON, United Kingdom</td></tr><tr><th>customer_code</th><td>2000318</td></tr><tr><th>customer_vat_no</th><td>GB125476511</td></tr><tr><th>credit_memo_no</th><td>503003382</td></tr><tr><th>credit_memo_date</th><td>09/11/2023</td></tr><tr><th>currency</th><td>EUR</td></tr><tr><th>exchange_rate</th><td>0,87015</td></tr><tr><th>items</th><td><table border=\"1\"><thead><tr><th>order</th><th>item</th><th>orig</th><th>ref_po</th><th>packages</th><th>units</th><th>net_kg</th><th>price</th><th>uom</th><th>amount</th></tr></thead><tbody><tr><td>11001533</td><td>RASPBERRY</td><td>Morocco</td><td>141800</td><td>130.00</td><td>2340.00</td><td>585.00</td><td>32.40</td><td>CRT</td><td>4211.58</td></tr><tr><td>11001533</td><td>RASPBERRY</td><td>Morocco</td><td>141801</td><td>327.00</td><td>5886.00</td><td>1471.50</td><td>9.60</td><td>CRT</td><td>3138.87</td></tr><tr><td>11001533</td><td>RASPBERRY</td><td>Morocco</td><td>141802</td><td>198.00</td><td>3564.00</td><td>891.00</td><td>2.47</td><td>CRT</td><td>489.1</td></tr><tr><td>11001533</td><td>RASPBERRY</td><td>Morocco</td><td>141803</td><td>397.00</td><td>7146.00</td><td>1786.50</td><td>4.44</td><td>CRT</td><td>1763.53</td></tr><tr><td>11001533</td><td>RASPBERRY</td><td>Morocco</td><td>141804</td><td>340.00</td><td>6120.00</td><td>1530.00</td><td>6.88</td><td>CRT</td><td>2339.4</td></tr><tr><td>11001533</td><td>RASPBERRY</td><td>Morocco</td><td>141805</td><td>595.00</td><td>10710.00</td><td>2677.50</td><td>7.94</td><td>CRT</td><td>4726.77</td></tr><tr><td>11001533</td><td>RASPBERRY</td><td>Morocco</td><td>141799</td><td>425.00</td><td>7650.00</td><td>1912.50</td><td>4.25</td><td>CRT</td><td>1804.37</td></tr><tr><td>11001533</td><td>RASPBERRY</td><td>Portugal</td><td>142010</td><td>510.00</td><td>9180.00</td><td>2295.00</td><td>2.55</td><td>CRT</td><td>1299.03</td></tr><tr><td>11001533</td><td>RASPBERRY</td><td>Portugal</td><td>142097</td><td>340.00</td><td>6120.00</td><td>1530.00</td><td>2.49</td><td>CRT</td><td>847.25</td></tr></tbody></table></td></tr><tr><th>sums</th><td><table border=\"1\"><tr><th>packages</th><td>3262.00</td></tr><tr><th>units</th><td>58716.00</td></tr><tr><th>net_kg</th><td>14679.00</td></tr><tr><th>amount</th><td>20619.90</td></tr></table></td></tr><tr><th>credit_note_to</th><td>Daisy Hatsuell</td></tr><tr><th>credit_note_date</th><td>9.11.23</td></tr><tr><th>total_invoice</th><td>20619.86</td></tr><tr><th>tax_base</th><td>20.619.86</td></tr><tr><th>vat</th><td>0.00%</td></tr><tr><th>vat_fee</th><td>0.00</td></tr><tr><th>pound_sterling</th><td>17.942,37</td></tr><tr><th>bank_information</th><td>- IBAN: GB68EBUR23122876803326 - SWIFT: EBURGBA1XXX</td></tr></table>"
      ],
      "text/plain": [
       "<IPython.core.display.HTML object>"
      ]
     },
     "metadata": {},
     "output_type": "display_data"
    },
    {
     "name": "stdout",
     "output_type": "stream",
     "text": [
      "\n",
      "\n"
     ]
    },
    {
     "data": {
      "text/html": [
       "<table border=\"1\"><tr><th>invoice_number</th><td>SI187262</td></tr><tr><th>invoice_date</th><td>15/11/2023</td></tr><tr><th>due_date</th><td>None</td></tr><tr><th>customer_name</th><td>DIRECT PRODUCE SUPPLIES PLC</td></tr><tr><th>customer_address</th><td>FOA: DPS LOGISTICS TEAM 4 CONQUEROR COURT\n",
       "STAPLEHURST ROAD SITTINGBOURNE\n",
       "KENT\n",
       "ME10 5BH</td></tr><tr><th>supplier_name</th><td>PERISHABLE MOVEMENTS LTD</td></tr><tr><th>supplier_address</th><td>UNITS 1-6 SKYPORT HEATHROW\n",
       "ARMADALE ROAD FELTHAM\n",
       "MIDDLESEX TW14 0LW\n",
       "UNITED KINGDOM</td></tr><tr><th>supplier_contact</th><td><table border=\"1\"><tr><th>phone</th><td>0208-8932666</td></tr><tr><th>email</th><td>sales@pml-ltd.com</td></tr><tr><th>web</th><td>www.pml-ltd.com</td></tr></table></td></tr><tr><th>items</th><td><table border=\"1\"><thead><tr><th>description</th><th>quantity</th><th>unit_price</th><th>total_price</th></tr></thead><tbody><tr><td>MANGIFERA</td><td>2</td><td>None</td><td>None</td></tr></tbody></table></td></tr><tr><th>charges</th><td><table border=\"1\"><thead><tr><th>description</th><th>rate</th><th>currency</th><th>vat</th><th>total</th></tr></thead><tbody><tr><td>AIRLINE HANDLING</td><td>35.00</td><td>GBP</td><td>0.00</td><td>393.12</td></tr><tr><td>CUSTOMS ENTRY</td><td>35.00</td><td>GBP</td><td>0.00</td><td>35.00</td></tr><tr><td>FUEL SURCHARGE @ 8%</td><td>8.00</td><td>GBP</td><td>0.00</td><td>9.12</td></tr><tr><td>DELIVERY</td><td>25.41</td><td>GBP</td><td>0.00</td><td>50.82</td></tr><tr><td>SUPPLY OF PALLET CHARGE</td><td>4.50</td><td>GBP</td><td>0.00</td><td>9.00</td></tr><tr><td>PULL BACK</td><td>0.045</td><td>GBP</td><td>0.00</td><td>63.18</td></tr><tr><td>WAREHOUSE HANDLING CHARGE</td><td>0.04</td><td>GBP</td><td>0.00</td><td>56.16</td></tr></tbody></table></td></tr><tr><th>totals</th><td><table border=\"1\"><tr><th>net_value</th><td>616.40</td></tr><tr><th>vat</th><td>0.00</td></tr><tr><th>invoice_value</th><td>616.40</td></tr><tr><th>currency</th><td>GBP</td></tr></table></td></tr><tr><th>payment_terms</th><td>30 DAYS FROM DATE OF INVOICE</td></tr></table>"
      ],
      "text/plain": [
       "<IPython.core.display.HTML object>"
      ]
     },
     "metadata": {},
     "output_type": "display_data"
    },
    {
     "name": "stdout",
     "output_type": "stream",
     "text": [
      "\n",
      "\n"
     ]
    }
   ],
   "source": [
    "extractor.display_all(invoices)"
   ]
  },
  {
   "cell_type": "code",
   "execution_count": null,
   "metadata": {},
   "outputs": [],
   "source": []
  }
 ],
 "metadata": {
  "kernelspec": {
   "display_name": "gemini",
   "language": "python",
   "name": "python3"
  },
  "language_info": {
   "codemirror_mode": {
    "name": "ipython",
    "version": 3
   },
   "file_extension": ".py",
   "mimetype": "text/x-python",
   "name": "python",
   "nbconvert_exporter": "python",
   "pygments_lexer": "ipython3",
   "version": "3.11.10"
  }
 },
 "nbformat": 4,
 "nbformat_minor": 2
}
