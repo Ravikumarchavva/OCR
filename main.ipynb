{
 "cells": [
  {
   "cell_type": "code",
   "execution_count": 1,
   "metadata": {},
   "outputs": [
    {
     "name": "stderr",
     "output_type": "stream",
     "text": [
      "c:\\Users\\chavv\\anaconda\\envs\\gemini\\Lib\\site-packages\\tqdm\\auto.py:21: TqdmWarning: IProgress not found. Please update jupyter and ipywidgets. See https://ipywidgets.readthedocs.io/en/stable/user_install.html\n",
      "  from .autonotebook import tqdm as notebook_tqdm\n"
     ]
    }
   ],
   "source": [
    "import google.generativeai as genai\n",
    "#import env\n",
    "import os\n",
    "from dotenv import load_dotenv\n",
    "load_dotenv()\n",
    "\n",
    "GCP_KEY = os.getenv(\"GCP_KEY\")\n",
    "\n",
    "\n",
    "genai.configure(api_key=GCP_KEY)\n",
    "model = genai.GenerativeModel(\"gemini-1.5-flash\")"
   ]
  },
  {
   "cell_type": "code",
   "execution_count": 13,
   "metadata": {},
   "outputs": [
    {
     "name": "stdout",
     "output_type": "stream",
     "text": [
      "Summary for D:/github/OCR/Invoice-635286.pdf:\n",
      "This is an invoice from IT Works to ACME Systems Inc. for concierge services.  The invoice number is 635286 and the date is 2017-12-06.  One concierge service was provided at a cost of 226351 EUR, resulting in a subtotal of 188626 EUR, a tax of 37725.2 EUR, and a total of 226351 EUR.  The invoice is payable within 20 days of the issue date.  ACME Systems Inc.'s address is Somewhere Road 59, Bucharest, Romania.  IT Works' address is Via Prossima 12, Torino, Italy.\n",
      "================================================================================\n",
      "Summary for D:/github/OCR/Invoice-640419.pdf:\n",
      "This is an invoice from Clipboard Papers to ACME Systems Inc. for concierge services. The invoice number is 640419, and the date is June 18, 2017.  One concierge service was provided at a cost of 187,124 RON.  Including tax (37,424.8 RON), the total invoice amount is 224,549 RON.  Payment is due seven days after receipt of the invoice.\n",
      "================================================================================\n",
      "Summary for D:/github/OCR/wordpress-pdf-invoice-plugin-sample.pdf:\n",
      "This is an invoice from Sliced Invoices (DEMO) to Test Business for web design services. The invoice number is INV-3337, the order number is 12345, and the invoice date is January 25, 2016.  The total due is $93.50, which is due January 31, 2016.  The invoice details one service: Web Design (1 hour at $85.00).  Tax of $8.50 is also included.  Payment is due within 30 days, with a 5% late fee per month.  The Sliced Invoices contact information is provided, as well as their bank details.\n",
      "================================================================================\n"
     ]
    }
   ],
   "source": [
    "import base64\n",
    "\n",
    "# Function to read and base64 encode the PDF\n",
    "def encode_pdf(file_path):\n",
    "    with open(file_path, \"rb\") as pdf_file:\n",
    "        pdf_data = pdf_file.read()\n",
    "    return base64.standard_b64encode(pdf_data).decode(\"utf-8\")\n",
    "\n",
    "# Replace with your local PDF file paths\n",
    "pdf_files = [\n",
    "    \"D:/github/OCR/Invoice-635286.pdf\",\n",
    "    \"D:/github/OCR/Invoice-640419.pdf\",\n",
    "    \"D:/github/OCR/wordpress-pdf-invoice-plugin-sample.pdf\"\n",
    "]\n",
    "\n",
    "# Summarize each PDF\n",
    "for pdf_file in pdf_files:\n",
    "    encoded_pdf = encode_pdf(pdf_file)\n",
    "    prompt = \"Summarize this document\"\n",
    "\n",
    "    response = model.generate_content(\n",
    "        [{'mime_type': 'application/pdf', 'data': encoded_pdf},\n",
    "        prompt]\n",
    "    )\n",
    "    \n",
    "    print(f\"Summary for {pdf_file}:\")\n",
    "    print(response.text)\n",
    "    print(\"=\" * 80)"
   ]
  },
  {
   "cell_type": "code",
   "execution_count": null,
   "metadata": {},
   "outputs": [],
   "source": []
  }
 ],
 "metadata": {
  "kernelspec": {
   "display_name": "gemini",
   "language": "python",
   "name": "python3"
  },
  "language_info": {
   "codemirror_mode": {
    "name": "ipython",
    "version": 3
   },
   "file_extension": ".py",
   "mimetype": "text/x-python",
   "name": "python",
   "nbconvert_exporter": "python",
   "pygments_lexer": "ipython3",
   "version": "3.11.10"
  }
 },
 "nbformat": 4,
 "nbformat_minor": 2
}
