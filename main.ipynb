{
 "cells": [
  {
   "cell_type": "markdown",
   "metadata": {},
   "source": [
    "# Table of contents\n",
    "1. [Introduction](#introduction)\n",
    "2. [Gemini API](#gemini-api)\n",
    "3. [PDF to Text](#pdf-to-text)\n",
    "4. [Save as JSON](#save-as-json)"
   ]
  },
  {
   "cell_type": "markdown",
   "metadata": {},
   "source": [
    "## Introduction\n",
    "The notebook is used to extract text from PDF files and save it as JSON files. The JSON files will be used to annotate the data."
   ]
  },
  {
   "cell_type": "markdown",
   "metadata": {},
   "source": [
    "## Gemini API\n",
    "The Gemini API is used to extract text from PDF files. The API is free to use and can be accessed [here](https://ai.google.dev/gemini-api/docs/models/gemini)."
   ]
  },
  {
   "cell_type": "code",
   "execution_count": 1,
   "metadata": {},
   "outputs": [],
   "source": [
    "import google.generativeai as genai\n",
    "#import env\n",
    "import os\n",
    "from dotenv import load_dotenv\n",
    "load_dotenv()\n",
    "\n",
    "GCP_KEY = os.getenv(\"GCP_KEY\")\n",
    "\n",
    "\n",
    "genai.configure(api_key=GCP_KEY)\n",
    "model = genai.GenerativeModel(\"gemini-1.5-flash\")"
   ]
  },
  {
   "cell_type": "markdown",
   "metadata": {},
   "source": [
    "## PDF to Text\n",
    "The PDF files are converted to text using the Gemini API. The API returns the text."
   ]
  },
  {
   "cell_type": "code",
   "execution_count": 2,
   "metadata": {},
   "outputs": [
    {
     "name": "stdout",
     "output_type": "stream",
     "text": [
      "Summary for D:/github/OCR/Invoice-635286.pdf:\n",
      "This is an invoice from IT Works to ACME Systems Inc. for concierge services. The invoice number is 635286, and the date is 2017-12-06.  One concierge service was provided at a cost of 226351 EUR, resulting in a subtotal of 188626 EUR, tax of 37725.2 EUR, and a total of 226351 EUR.  The invoice is due within 20 days of the issue date.  The client's address is Somewhere Road 59, Bucharest, Romania and the vendor's address is Via Prossima 12, Torino, Italy.\n",
      "================================================================================\n",
      "Summary for D:/github/OCR/Invoice-640419.pdf:\n",
      "This is an invoice from Clipboard Papers to ACME Systems Inc. for concierge services. The invoice number is 640419 and the date is June 18, 2017.  One concierge service was provided at a cost of 187,124 RON.  After adding tax (37,424.8 RON), the total amount due is 224,549 RON.  Payment is due within seven days of receipt.\n",
      "================================================================================\n",
      "Summary for D:/github/OCR/wordpress-pdf-invoice-plugin-sample.pdf:\n",
      "This is an invoice from Sliced Invoices (DEMO) to Test Business for web design services.  The invoice number is INV-3337, the order number is 12345, and the invoice date is January 25, 2016.  The total due is $93.50, due January 31, 2016.  The invoice details one service: Web Design (1 hour at $85.00), with a tax of $8.50.  Payment is due within 30 days, with a 5% late fee per month.  Contact information for both the sender and recipient is provided, as well as bank details for payment.\n",
      "================================================================================\n"
     ]
    }
   ],
   "source": [
    "import base64\n",
    "\n",
    "# Function to read and base64 encode the PDF\n",
    "def encode_pdf(file_path):\n",
    "    with open(file_path, \"rb\") as pdf_file:\n",
    "        pdf_data = pdf_file.read()\n",
    "    return base64.standard_b64encode(pdf_data).decode(\"utf-8\")\n",
    "\n",
    "\n",
    "# PDF file paths\n",
    "pdf_files = [\n",
    "    \"D:/github/OCR/Invoice-635286.pdf\",\n",
    "    \"D:/github/OCR/Invoice-640419.pdf\",\n",
    "    \"D:/github/OCR/wordpress-pdf-invoice-plugin-sample.pdf\"\n",
    "]\n",
    "\n",
    "responses = {pdf_file: None for pdf_file in pdf_files}\n",
    "\n",
    "# Summarize each PDF\n",
    "for pdf_file in pdf_files:\n",
    "    encoded_pdf = encode_pdf(pdf_file)\n",
    "    prompt = \"Summarize this document\"\n",
    "\n",
    "    response = model.generate_content(\n",
    "        [{'mime_type': 'application/pdf', 'data': encoded_pdf},\n",
    "        prompt]\n",
    "    )\n",
    "    responses[pdf_file] = response\n",
    "    \n",
    "    print(f\"Summary for {pdf_file}:\")\n",
    "    print(response.text)\n",
    "    print(\"=\" * 80)"
   ]
  },
  {
   "cell_type": "markdown",
   "metadata": {},
   "source": [
    "## Save as JSON\n",
    "The text is saved as JSON files. The JSON files are used to annotate the data."
   ]
  },
  {
   "cell_type": "code",
   "execution_count": 24,
   "metadata": {},
   "outputs": [],
   "source": [
    "# Save as json\n",
    "import json\n",
    "\n",
    "for pdf_file, response in responses.items():\n",
    "    response_json = response.to_dict()\n",
    "    with open(f\"{pdf_file}.json\", \"w\") as json_file:\n",
    "        json.dump(response_json, json_file, indent=4)"
   ]
  }
 ],
 "metadata": {
  "kernelspec": {
   "display_name": "gemini",
   "language": "python",
   "name": "python3"
  },
  "language_info": {
   "codemirror_mode": {
    "name": "ipython",
    "version": 3
   },
   "file_extension": ".py",
   "mimetype": "text/x-python",
   "name": "python",
   "nbconvert_exporter": "python",
   "pygments_lexer": "ipython3",
   "version": "3.11.10"
  }
 },
 "nbformat": 4,
 "nbformat_minor": 2
}
