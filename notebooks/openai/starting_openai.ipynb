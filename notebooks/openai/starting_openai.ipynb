{
 "cells": [
  {
   "cell_type": "code",
   "execution_count": 31,
   "metadata": {},
   "outputs": [
    {
     "data": {
      "text/plain": [
       "WindowsPath('d:/github/OCR/notebooks/openai/../../data/mark/Fw__Examples_of_QC_reports_for_setting_up_templates_in_Leadtools/PO 177650 Fresh All Green Egypt Strawberries Intake Report.pdf')"
      ]
     },
     "execution_count": 31,
     "metadata": {},
     "output_type": "execute_result"
    }
   ],
   "source": [
    "import sys\n",
    "sys.path.append('../..')\n",
    "from config.configs import ROOT_DIR\n",
    "import os\n",
    "\n",
    "file_path = ROOT_DIR / 'data' / 'mark' / 'Fw__Examples_of_QC_reports_for_setting_up_templates_in_Leadtools' / 'PO 177650 Fresh All Green Egypt Strawberries Intake Report.pdf'\n",
    "file_path"
   ]
  },
  {
   "cell_type": "code",
   "execution_count": 35,
   "metadata": {},
   "outputs": [],
   "source": [
    "from openai import OpenAI\n",
    "\n",
    "# Create a client\n",
    "client = OpenAI()\n",
    "\n",
    "# Upload the PDF file\n",
    "file = client.files.create(\n",
    "    file=open(file_path, \"rb\"),\n",
    "    purpose=\"assistants\"\n",
    ")"
   ]
  },
  {
   "cell_type": "code",
   "execution_count": null,
   "metadata": {},
   "outputs": [],
   "source": [
    "assistant = client.beta.assistants.create(\n",
    "    name=\"PDF Summarizer\",\n",
    "    description=\"You are adept at summarizing PDF reports. You analyze data present in .pdf files, understand trends, and provide concise summaries.\",\n",
    "    model=\"gpt-4o\",\n",
    "    tools=[{\"type\": \"file_search\"}]\n",
    ")"
   ]
  },
  {
   "cell_type": "code",
   "execution_count": 39,
   "metadata": {},
   "outputs": [
    {
     "data": {
      "text/plain": [
       "Assistant(id='asst_pGTouHhRPgAHdbtc8hAltgSw', created_at=1738859194, description='You are adept at summarizing PDF reports. You analyze data present in .pdf files, understand trends, and provide concise summaries.', instructions=None, metadata={}, model='gpt-4o', name='PDF Summarizer', object='assistant', tools=[FileSearchTool(type='file_search', file_search=FileSearch(max_num_results=None, ranking_options=FileSearchRankingOptions(score_threshold=0.0, ranker='default_2024_08_21')))], response_format='auto', temperature=1.0, tool_resources=ToolResources(code_interpreter=None, file_search=ToolResourcesFileSearch(vector_store_ids=[])), top_p=1.0, reasoning_effort=None)"
      ]
     },
     "execution_count": 39,
     "metadata": {},
     "output_type": "execute_result"
    }
   ],
   "source": [
    "assistant"
   ]
  },
  {
   "cell_type": "code",
   "execution_count": null,
   "metadata": {},
   "outputs": [],
   "source": []
  }
 ],
 "metadata": {
  "kernelspec": {
   "display_name": "gemini",
   "language": "python",
   "name": "python3"
  },
  "language_info": {
   "codemirror_mode": {
    "name": "ipython",
    "version": 3
   },
   "file_extension": ".py",
   "mimetype": "text/x-python",
   "name": "python",
   "nbconvert_exporter": "python",
   "pygments_lexer": "ipython3",
   "version": "3.11.10"
  }
 },
 "nbformat": 4,
 "nbformat_minor": 2
}
