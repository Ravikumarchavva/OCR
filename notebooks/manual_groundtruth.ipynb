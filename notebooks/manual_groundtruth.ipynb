{
 "cells": [
  {
   "cell_type": "code",
   "execution_count": 170,
   "metadata": {},
   "outputs": [
    {
     "name": "stderr",
     "output_type": "stream",
     "text": [
      "Could not determine dtype for column 18, falling back to string\n"
     ]
    },
    {
     "data": {
      "text/html": [
       "<div><style>\n",
       ".dataframe > thead > tr,\n",
       ".dataframe > tbody > tr {\n",
       "  text-align: right;\n",
       "  white-space: pre-wrap;\n",
       "}\n",
       "</style>\n",
       "<small>shape: (5, 15)</small><table border=\"1\" class=\"dataframe\"><thead><tr><th>filename</th><th>Invoice_Number</th><th>net_amount</th><th>vat_amount</th><th>invoice_date</th><th>Total_Amount</th><th>Supplier_Name</th><th>Order_No</th><th>item_vat_code</th><th>item_description</th><th>item_no</th><th>invoice_total</th><th>invoice_quantity</th><th>invoice_price</th><th>Item_Position</th></tr><tr><td>str</td><td>str</td><td>str</td><td>f64</td><td>date</td><td>f64</td><td>str</td><td>i64</td><td>f64</td><td>str</td><td>i64</td><td>f64</td><td>f64</td><td>f64</td><td>i64</td></tr></thead><tbody><tr><td>&quot;DT241.pdf&quot;</td><td>&quot;8250242225&quot;</td><td>&quot;1602.56&quot;</td><td>271.56</td><td>2024-02-28</td><td>1874.12</td><td>&quot;SPAR UK - AMC NATURAL DRINKS&quot;</td><td>998694</td><td>16.94</td><td>&quot;SPAR JUICE ORANGE&nbsp;&nbsp;250ML&nbsp;&nbsp;&nbsp;&nbsp;8&quot;</td><td>null</td><td>784.8</td><td>180.0</td><td>4.36</td><td>1</td></tr><tr><td>&quot;DT241.pdf&quot;</td><td>&quot;8250242225&quot;</td><td>&quot;1602.56&quot;</td><td>271.56</td><td>2024-02-28</td><td>1874.12</td><td>&quot;SPAR UK - AMC NATURAL DRINKS&quot;</td><td>998694</td><td>16.94</td><td>&quot;SPAR JUICE APPLE&nbsp;&nbsp;250ML&nbsp;&nbsp;&nbsp;&nbsp;8&quot;</td><td>null</td><td>573.0</td><td>150.0</td><td>3.82</td><td>2</td></tr><tr><td>&quot;DT241.pdf&quot;</td><td>&quot;8250242225&quot;</td><td>&quot;1602.56&quot;</td><td>271.56</td><td>2024-02-28</td><td>1874.12</td><td>&quot;SPAR UK - AMC NATURAL DRINKS&quot;</td><td>998694</td><td>16.94</td><td>&quot;SPAR CAFFE LATTE&nbsp;&nbsp;250ML&nbsp;&nbsp;&nbsp;12&quot;</td><td>null</td><td>244.76</td><td>29.0</td><td>8.44</td><td>3</td></tr><tr><td>&quot;DT2410.pdf&quot;</td><td>&quot;90633842&quot;</td><td>&quot;375&quot;</td><td>0.0</td><td>2024-03-02</td><td>375.0</td><td>&quot;PORK FARMS QUEENS DRIVE&quot;</td><td>996991</td><td>0.0</td><td>&quot;P/FARMS CRISPY BACON&nbsp;&nbsp;&nbsp;50G&nbsp;&nbsp;&nbsp;&nbsp;…</td><td>268843</td><td>375.0</td><td>30.0</td><td>12.5</td><td>1</td></tr><tr><td>&quot;DT24100.pdf&quot;</td><td>&quot;ID1987562&quot;</td><td>&quot;151.9&quot;</td><td>0.0</td><td>2024-01-13</td><td>151.9</td><td>&quot;RIBBLE FARM FARE - HMR&quot;</td><td>986880</td><td>0.0</td><td>&quot;SLICED WHITE ONION 3MM (65)&nbsp;&nbsp;&nbsp;…</td><td>248095</td><td>4.2</td><td>3.0</td><td>1.4</td><td>2</td></tr></tbody></table></div>"
      ],
      "text/plain": [
       "shape: (5, 15)\n",
       "┌───────────┬───────────┬───────────┬───────────┬───┬───────────┬───────────┬───────────┬──────────┐\n",
       "│ filename  ┆ Invoice_N ┆ net_amoun ┆ vat_amoun ┆ … ┆ invoice_t ┆ invoice_q ┆ invoice_p ┆ Item_Pos │\n",
       "│ ---       ┆ umber     ┆ t         ┆ t         ┆   ┆ otal      ┆ uantity   ┆ rice      ┆ ition    │\n",
       "│ str       ┆ ---       ┆ ---       ┆ ---       ┆   ┆ ---       ┆ ---       ┆ ---       ┆ ---      │\n",
       "│           ┆ str       ┆ str       ┆ f64       ┆   ┆ f64       ┆ f64       ┆ f64       ┆ i64      │\n",
       "╞═══════════╪═══════════╪═══════════╪═══════════╪═══╪═══════════╪═══════════╪═══════════╪══════════╡\n",
       "│ DT241.pdf ┆ 825024222 ┆ 1602.56   ┆ 271.56    ┆ … ┆ 784.8     ┆ 180.0     ┆ 4.36      ┆ 1        │\n",
       "│           ┆ 5         ┆           ┆           ┆   ┆           ┆           ┆           ┆          │\n",
       "│ DT241.pdf ┆ 825024222 ┆ 1602.56   ┆ 271.56    ┆ … ┆ 573.0     ┆ 150.0     ┆ 3.82      ┆ 2        │\n",
       "│           ┆ 5         ┆           ┆           ┆   ┆           ┆           ┆           ┆          │\n",
       "│ DT241.pdf ┆ 825024222 ┆ 1602.56   ┆ 271.56    ┆ … ┆ 244.76    ┆ 29.0      ┆ 8.44      ┆ 3        │\n",
       "│           ┆ 5         ┆           ┆           ┆   ┆           ┆           ┆           ┆          │\n",
       "│ DT2410.pd ┆ 90633842  ┆ 375       ┆ 0.0       ┆ … ┆ 375.0     ┆ 30.0      ┆ 12.5      ┆ 1        │\n",
       "│ f         ┆           ┆           ┆           ┆   ┆           ┆           ┆           ┆          │\n",
       "│ DT24100.p ┆ ID1987562 ┆ 151.9     ┆ 0.0       ┆ … ┆ 4.2       ┆ 3.0       ┆ 1.4       ┆ 2        │\n",
       "│ df        ┆           ┆           ┆           ┆   ┆           ┆           ┆           ┆          │\n",
       "└───────────┴───────────┴───────────┴───────────┴───┴───────────┴───────────┴───────────┴──────────┘"
      ]
     },
     "execution_count": 170,
     "metadata": {},
     "output_type": "execute_result"
    }
   ],
   "source": [
    "import sys\n",
    "sys.path.append('..')\n",
    "from configs import ROOT_DIR\n",
    "import os\n",
    "\n",
    "import polars as pl\n",
    "MANUAL_DATA_DIR = os.path.join(ROOT_DIR, 'data', 'manual_data')\n",
    "gt = pl.read_excel(os.path.join(MANUAL_DATA_DIR, '100files 1.xlsx')).drop(['UniqueFileCount', 'LineItem', 'Item_Vat_Amount', 'Item_Order_No'])\n",
    "gt.head()"
   ]
  },
  {
   "cell_type": "code",
   "execution_count": 171,
   "metadata": {},
   "outputs": [
    {
     "data": {
      "text/html": [
       "<div><style>\n",
       ".dataframe > thead > tr,\n",
       ".dataframe > tbody > tr {\n",
       "  text-align: right;\n",
       "  white-space: pre-wrap;\n",
       "}\n",
       "</style>\n",
       "<small>shape: (5, 15)</small><table border=\"1\" class=\"dataframe\"><thead><tr><th>filename</th><th>invNo</th><th>amountNet</th><th>amountVat</th><th>invDate</th><th>amountTotal</th><th>suppName</th><th>orderNo</th><th>ItemVatRate</th><th>Description</th><th>ProductCode</th><th>TotalAmount</th><th>Quantity</th><th>UnitPrice</th><th>ItemPosition</th></tr><tr><td>str</td><td>str</td><td>str</td><td>f64</td><td>str</td><td>f64</td><td>str</td><td>i64</td><td>f64</td><td>str</td><td>i64</td><td>f64</td><td>f64</td><td>f64</td><td>i64</td></tr></thead><tbody><tr><td>&quot;DT241.pdf&quot;</td><td>&quot;8250242225&quot;</td><td>&quot;1602.56&quot;</td><td>271.56</td><td>&quot;2024-02-28&quot;</td><td>1874.12</td><td>&quot;SPAR UK - AMC NATURAL DRINKS&quot;</td><td>998694</td><td>16.94</td><td>&quot;SPAR JUICE ORANGE&nbsp;&nbsp;250ML&nbsp;&nbsp;&nbsp;&nbsp;8&quot;</td><td>null</td><td>784.8</td><td>180.0</td><td>4.36</td><td>1</td></tr><tr><td>&quot;DT241.pdf&quot;</td><td>&quot;8250242225&quot;</td><td>&quot;1602.56&quot;</td><td>271.56</td><td>&quot;2024-02-28&quot;</td><td>1874.12</td><td>&quot;SPAR UK - AMC NATURAL DRINKS&quot;</td><td>998694</td><td>16.94</td><td>&quot;SPAR JUICE APPLE&nbsp;&nbsp;250ML&nbsp;&nbsp;&nbsp;&nbsp;8&quot;</td><td>null</td><td>573.0</td><td>150.0</td><td>3.82</td><td>2</td></tr><tr><td>&quot;DT241.pdf&quot;</td><td>&quot;8250242225&quot;</td><td>&quot;1602.56&quot;</td><td>271.56</td><td>&quot;2024-02-28&quot;</td><td>1874.12</td><td>&quot;SPAR UK - AMC NATURAL DRINKS&quot;</td><td>998694</td><td>16.94</td><td>&quot;SPAR CAFFE LATTE&nbsp;&nbsp;250ML&nbsp;&nbsp;&nbsp;12&quot;</td><td>null</td><td>244.76</td><td>29.0</td><td>8.44</td><td>3</td></tr><tr><td>&quot;DT2410.pdf&quot;</td><td>&quot;90633842&quot;</td><td>&quot;375&quot;</td><td>0.0</td><td>&quot;2024-03-02&quot;</td><td>375.0</td><td>&quot;PORK FARMS QUEENS DRIVE&quot;</td><td>996991</td><td>0.0</td><td>&quot;P/FARMS CRISPY BACON&nbsp;&nbsp;&nbsp;50G&nbsp;&nbsp;&nbsp;&nbsp;…</td><td>268843</td><td>375.0</td><td>30.0</td><td>12.5</td><td>1</td></tr><tr><td>&quot;DT24100.pdf&quot;</td><td>&quot;ID1987562&quot;</td><td>&quot;151.9&quot;</td><td>0.0</td><td>&quot;2024-01-13&quot;</td><td>151.9</td><td>&quot;RIBBLE FARM FARE - HMR&quot;</td><td>986880</td><td>0.0</td><td>&quot;SLICED WHITE ONION 3MM (65)&nbsp;&nbsp;&nbsp;…</td><td>248095</td><td>4.2</td><td>3.0</td><td>1.4</td><td>2</td></tr></tbody></table></div>"
      ],
      "text/plain": [
       "shape: (5, 15)\n",
       "┌───────────┬───────────┬───────────┬───────────┬───┬───────────┬──────────┬───────────┬───────────┐\n",
       "│ filename  ┆ invNo     ┆ amountNet ┆ amountVat ┆ … ┆ TotalAmou ┆ Quantity ┆ UnitPrice ┆ ItemPosit │\n",
       "│ ---       ┆ ---       ┆ ---       ┆ ---       ┆   ┆ nt        ┆ ---      ┆ ---       ┆ ion       │\n",
       "│ str       ┆ str       ┆ str       ┆ f64       ┆   ┆ ---       ┆ f64      ┆ f64       ┆ ---       │\n",
       "│           ┆           ┆           ┆           ┆   ┆ f64       ┆          ┆           ┆ i64       │\n",
       "╞═══════════╪═══════════╪═══════════╪═══════════╪═══╪═══════════╪══════════╪═══════════╪═══════════╡\n",
       "│ DT241.pdf ┆ 825024222 ┆ 1602.56   ┆ 271.56    ┆ … ┆ 784.8     ┆ 180.0    ┆ 4.36      ┆ 1         │\n",
       "│           ┆ 5         ┆           ┆           ┆   ┆           ┆          ┆           ┆           │\n",
       "│ DT241.pdf ┆ 825024222 ┆ 1602.56   ┆ 271.56    ┆ … ┆ 573.0     ┆ 150.0    ┆ 3.82      ┆ 2         │\n",
       "│           ┆ 5         ┆           ┆           ┆   ┆           ┆          ┆           ┆           │\n",
       "│ DT241.pdf ┆ 825024222 ┆ 1602.56   ┆ 271.56    ┆ … ┆ 244.76    ┆ 29.0     ┆ 8.44      ┆ 3         │\n",
       "│           ┆ 5         ┆           ┆           ┆   ┆           ┆          ┆           ┆           │\n",
       "│ DT2410.pd ┆ 90633842  ┆ 375       ┆ 0.0       ┆ … ┆ 375.0     ┆ 30.0     ┆ 12.5      ┆ 1         │\n",
       "│ f         ┆           ┆           ┆           ┆   ┆           ┆          ┆           ┆           │\n",
       "│ DT24100.p ┆ ID1987562 ┆ 151.9     ┆ 0.0       ┆ … ┆ 4.2       ┆ 3.0      ┆ 1.4       ┆ 2         │\n",
       "│ df        ┆           ┆           ┆           ┆   ┆           ┆          ┆           ┆           │\n",
       "└───────────┴───────────┴───────────┴───────────┴───┴───────────┴──────────┴───────────┴───────────┘"
      ]
     },
     "execution_count": 171,
     "metadata": {},
     "output_type": "execute_result"
    }
   ],
   "source": [
    "# Define header-level and line-item fields\n",
    "header_cols = [\n",
    "    \"filename\",\n",
    "    \"invNo\",\n",
    "    \"amountNet\",\n",
    "    \"amountVat\",\n",
    "    \"invDate\",\n",
    "    \"amountTotal\",\n",
    "    \"suppName\",\n",
    "    \"orderNo\",\n",
    "]\n",
    "lineitem_cols = [\n",
    "    \"ItemVatRate\",\n",
    "    \"Description\",\n",
    "    \"ProductCode\",\n",
    "    \"TotalAmount\",\n",
    "    \"Quantity\",\n",
    "    \"UnitPrice\",\n",
    "    \"ItemPosition\",\n",
    "]\n",
    "\n",
    "gt.columns = header_cols + lineitem_cols\n",
    "\n",
    "# Convert `invoice_date` to string format (fix Timestamp issue)\n",
    "gt = gt.with_columns([\n",
    "    (pl.col(\"invDate\").cast(pl.String))\n",
    "])\n",
    "\n",
    "gt.head()"
   ]
  },
  {
   "cell_type": "code",
   "execution_count": 172,
   "metadata": {},
   "outputs": [
    {
     "data": {
      "text/html": [
       "<div><style>\n",
       ".dataframe > thead > tr,\n",
       ".dataframe > tbody > tr {\n",
       "  text-align: right;\n",
       "  white-space: pre-wrap;\n",
       "}\n",
       "</style>\n",
       "<small>shape: (138, 8)</small><table border=\"1\" class=\"dataframe\"><thead><tr><th>filename</th><th>invNo</th><th>amountNet</th><th>amountVat</th><th>invDate</th><th>amountTotal</th><th>suppName</th><th>orderNo</th></tr><tr><td>str</td><td>str</td><td>str</td><td>f64</td><td>str</td><td>f64</td><td>str</td><td>i64</td></tr></thead><tbody><tr><td>&quot;DT241.pdf&quot;</td><td>&quot;8250242225&quot;</td><td>&quot;1602.56&quot;</td><td>271.56</td><td>&quot;2024-02-28&quot;</td><td>1874.12</td><td>&quot;SPAR UK - AMC NATURAL DRINKS&quot;</td><td>998694</td></tr><tr><td>&quot;DT2410.pdf&quot;</td><td>&quot;90633842&quot;</td><td>&quot;375&quot;</td><td>0.0</td><td>&quot;2024-03-02&quot;</td><td>375.0</td><td>&quot;PORK FARMS QUEENS DRIVE&quot;</td><td>996991</td></tr><tr><td>&quot;DT24100.pdf&quot;</td><td>&quot;ID1987562&quot;</td><td>&quot;151.9&quot;</td><td>0.0</td><td>&quot;2024-01-13&quot;</td><td>151.9</td><td>&quot;RIBBLE FARM FARE - HMR&quot;</td><td>986880</td></tr><tr><td>&quot;DT24100.pdf&quot;</td><td>&quot;ID1987562&quot;</td><td>&quot;1a51.900000&quot;</td><td>0.0</td><td>&quot;2024-01-13&quot;</td><td>151.9</td><td>&quot;RIBBLE FARM FARE - HMR&quot;</td><td>986880</td></tr><tr><td>&quot;DT241000.pdf&quot;</td><td>&quot;5877&quot;</td><td>&quot;377.55&quot;</td><td>75.51</td><td>&quot;2024-03-14&quot;</td><td>453.06</td><td>&quot;BRINDLE DISTILLERY LIMITED&quot;</td><td>2455</td></tr><tr><td>&hellip;</td><td>&hellip;</td><td>&hellip;</td><td>&hellip;</td><td>&hellip;</td><td>&hellip;</td><td>&hellip;</td><td>&hellip;</td></tr><tr><td>&quot;DT2444725.pdf&quot;</td><td>&quot;9786&quot;</td><td>&quot;5843.28&quot;</td><td>0.0</td><td>&quot;2025-02-18&quot;</td><td>5843.28</td><td>&quot;ZAFRON FOODS LTD&quot;</td><td>92334</td></tr><tr><td>&quot;DT2446040.pdf&quot;</td><td>&quot;10031&quot;</td><td>&quot;6646.88&quot;</td><td>0.0</td><td>&quot;2025-02-27&quot;</td><td>6646.88</td><td>&quot;ZAFRON FOODS LTD&quot;</td><td>94794</td></tr><tr><td>&quot;DT2446978.pdf&quot;</td><td>&quot;10222&quot;</td><td>&quot;10496.14&quot;</td><td>0.0</td><td>&quot;2025-03-06&quot;</td><td>10496.14</td><td>&quot;ZAFRON FOODS LTD&quot;</td><td>96655</td></tr><tr><td>&quot;DT2442766.pdf&quot;</td><td>&quot;12973&quot;</td><td>&quot;4820.32&quot;</td><td>964.06</td><td>&quot;2025-01-30&quot;</td><td>5784.38</td><td>&quot;J CHANDLER &amp; CO BUCKFAST LTD&quot;</td><td>88416</td></tr><tr><td>&quot;DT2440508.pdf&quot;</td><td>&quot;37653&quot;</td><td>&quot;494.05&quot;</td><td>98.81</td><td>&quot;2024-12-24&quot;</td><td>592.86</td><td>&quot;SPAR (UK)&nbsp;&nbsp;LTD EXPENSES&quot;</td><td>null</td></tr></tbody></table></div>"
      ],
      "text/plain": [
       "shape: (138, 8)\n",
       "┌────────────┬────────────┬────────────┬───────────┬────────────┬────────────┬───────────┬─────────┐\n",
       "│ filename   ┆ invNo      ┆ amountNet  ┆ amountVat ┆ invDate    ┆ amountTota ┆ suppName  ┆ orderNo │\n",
       "│ ---        ┆ ---        ┆ ---        ┆ ---       ┆ ---        ┆ l          ┆ ---       ┆ ---     │\n",
       "│ str        ┆ str        ┆ str        ┆ f64       ┆ str        ┆ ---        ┆ str       ┆ i64     │\n",
       "│            ┆            ┆            ┆           ┆            ┆ f64        ┆           ┆         │\n",
       "╞════════════╪════════════╪════════════╪═══════════╪════════════╪════════════╪═══════════╪═════════╡\n",
       "│ DT241.pdf  ┆ 8250242225 ┆ 1602.56    ┆ 271.56    ┆ 2024-02-28 ┆ 1874.12    ┆ SPAR UK - ┆ 998694  │\n",
       "│            ┆            ┆            ┆           ┆            ┆            ┆ AMC       ┆         │\n",
       "│            ┆            ┆            ┆           ┆            ┆            ┆ NATURAL   ┆         │\n",
       "│            ┆            ┆            ┆           ┆            ┆            ┆ DRINKS    ┆         │\n",
       "│ DT2410.pdf ┆ 90633842   ┆ 375        ┆ 0.0       ┆ 2024-03-02 ┆ 375.0      ┆ PORK      ┆ 996991  │\n",
       "│            ┆            ┆            ┆           ┆            ┆            ┆ FARMS     ┆         │\n",
       "│            ┆            ┆            ┆           ┆            ┆            ┆ QUEENS    ┆         │\n",
       "│            ┆            ┆            ┆           ┆            ┆            ┆ DRIVE     ┆         │\n",
       "│ DT24100.pd ┆ ID1987562  ┆ 151.9      ┆ 0.0       ┆ 2024-01-13 ┆ 151.9      ┆ RIBBLE    ┆ 986880  │\n",
       "│ f          ┆            ┆            ┆           ┆            ┆            ┆ FARM FARE ┆         │\n",
       "│            ┆            ┆            ┆           ┆            ┆            ┆ - HMR     ┆         │\n",
       "│ DT24100.pd ┆ ID1987562  ┆ 1a51.90000 ┆ 0.0       ┆ 2024-01-13 ┆ 151.9      ┆ RIBBLE    ┆ 986880  │\n",
       "│ f          ┆            ┆ 0          ┆           ┆            ┆            ┆ FARM FARE ┆         │\n",
       "│            ┆            ┆            ┆           ┆            ┆            ┆ - HMR     ┆         │\n",
       "│ DT241000.p ┆ 5877       ┆ 377.55     ┆ 75.51     ┆ 2024-03-14 ┆ 453.06     ┆ BRINDLE   ┆ 2455    │\n",
       "│ df         ┆            ┆            ┆           ┆            ┆            ┆ DISTILLER ┆         │\n",
       "│            ┆            ┆            ┆           ┆            ┆            ┆ Y LIMITED ┆         │\n",
       "│ …          ┆ …          ┆ …          ┆ …         ┆ …          ┆ …          ┆ …         ┆ …       │\n",
       "│ DT2444725. ┆ 9786       ┆ 5843.28    ┆ 0.0       ┆ 2025-02-18 ┆ 5843.28    ┆ ZAFRON    ┆ 92334   │\n",
       "│ pdf        ┆            ┆            ┆           ┆            ┆            ┆ FOODS LTD ┆         │\n",
       "│ DT2446040. ┆ 10031      ┆ 6646.88    ┆ 0.0       ┆ 2025-02-27 ┆ 6646.88    ┆ ZAFRON    ┆ 94794   │\n",
       "│ pdf        ┆            ┆            ┆           ┆            ┆            ┆ FOODS LTD ┆         │\n",
       "│ DT2446978. ┆ 10222      ┆ 10496.14   ┆ 0.0       ┆ 2025-03-06 ┆ 10496.14   ┆ ZAFRON    ┆ 96655   │\n",
       "│ pdf        ┆            ┆            ┆           ┆            ┆            ┆ FOODS LTD ┆         │\n",
       "│ DT2442766. ┆ 12973      ┆ 4820.32    ┆ 964.06    ┆ 2025-01-30 ┆ 5784.38    ┆ J         ┆ 88416   │\n",
       "│ pdf        ┆            ┆            ┆           ┆            ┆            ┆ CHANDLER  ┆         │\n",
       "│            ┆            ┆            ┆           ┆            ┆            ┆ & CO      ┆         │\n",
       "│            ┆            ┆            ┆           ┆            ┆            ┆ BUCKFAST  ┆         │\n",
       "│            ┆            ┆            ┆           ┆            ┆            ┆ LTD       ┆         │\n",
       "│ DT2440508. ┆ 37653      ┆ 494.05     ┆ 98.81     ┆ 2024-12-24 ┆ 592.86     ┆ SPAR (UK) ┆ null    │\n",
       "│ pdf        ┆            ┆            ┆           ┆            ┆            ┆ LTD       ┆         │\n",
       "│            ┆            ┆            ┆           ┆            ┆            ┆ EXPENSES  ┆         │\n",
       "└────────────┴────────────┴────────────┴───────────┴────────────┴────────────┴───────────┴─────────┘"
      ]
     },
     "execution_count": 172,
     "metadata": {},
     "output_type": "execute_result"
    }
   ],
   "source": [
    "headers_df = gt.select(header_cols)\n",
    "\n",
    "# Convert headers to dictionaries\n",
    "headers_df = headers_df.unique(maintain_order=True)\n",
    "headers_df"
   ]
  },
  {
   "cell_type": "code",
   "execution_count": 173,
   "metadata": {},
   "outputs": [
    {
     "data": {
      "text/html": [
       "<div><style>\n",
       ".dataframe > thead > tr,\n",
       ".dataframe > tbody > tr {\n",
       "  text-align: right;\n",
       "  white-space: pre-wrap;\n",
       "}\n",
       "</style>\n",
       "<small>shape: (1_310, 8)</small><table border=\"1\" class=\"dataframe\"><thead><tr><th>filename</th><th>ItemVatRate</th><th>Description</th><th>ProductCode</th><th>TotalAmount</th><th>Quantity</th><th>UnitPrice</th><th>ItemPosition</th></tr><tr><td>str</td><td>f64</td><td>str</td><td>i64</td><td>f64</td><td>f64</td><td>f64</td><td>i64</td></tr></thead><tbody><tr><td>&quot;DT241.pdf&quot;</td><td>16.94</td><td>&quot;SPAR JUICE ORANGE&nbsp;&nbsp;250ML&nbsp;&nbsp;&nbsp;&nbsp;8&quot;</td><td>null</td><td>784.8</td><td>180.0</td><td>4.36</td><td>1</td></tr><tr><td>&quot;DT241.pdf&quot;</td><td>16.94</td><td>&quot;SPAR JUICE APPLE&nbsp;&nbsp;250ML&nbsp;&nbsp;&nbsp;&nbsp;8&quot;</td><td>null</td><td>573.0</td><td>150.0</td><td>3.82</td><td>2</td></tr><tr><td>&quot;DT241.pdf&quot;</td><td>16.94</td><td>&quot;SPAR CAFFE LATTE&nbsp;&nbsp;250ML&nbsp;&nbsp;&nbsp;12&quot;</td><td>null</td><td>244.76</td><td>29.0</td><td>8.44</td><td>3</td></tr><tr><td>&quot;DT2410.pdf&quot;</td><td>0.0</td><td>&quot;P/FARMS CRISPY BACON&nbsp;&nbsp;&nbsp;50G&nbsp;&nbsp;&nbsp;&nbsp;…</td><td>268843</td><td>375.0</td><td>30.0</td><td>12.5</td><td>1</td></tr><tr><td>&quot;DT24100.pdf&quot;</td><td>0.0</td><td>&quot;SLICED WHITE ONION 3MM (65)&nbsp;&nbsp;&nbsp;…</td><td>248095</td><td>4.2</td><td>3.0</td><td>1.4</td><td>2</td></tr><tr><td>&hellip;</td><td>&hellip;</td><td>&hellip;</td><td>&hellip;</td><td>&hellip;</td><td>&hellip;</td><td>&hellip;</td><td>&hellip;</td></tr><tr><td>&quot;DT2446978.pdf&quot;</td><td>0.0</td><td>&quot;H/S PULL PORK/BBQ S/FILL&nbsp;&nbsp;&nbsp;1KG…</td><td>238012</td><td>670.8</td><td>78.0</td><td>8.6</td><td>8</td></tr><tr><td>&quot;DT2446978.pdf&quot;</td><td>0.0</td><td>&quot;H/S SPCY BF MEATBLL S/FIL&nbsp;&nbsp;&nbsp;1K…</td><td>238011</td><td>323.52</td><td>48.0</td><td>6.74</td><td>9</td></tr><tr><td>&quot;DT2442766.pdf&quot;</td><td>20.0</td><td>&quot;BUCKFAST TONIC WINE&nbsp;&nbsp;&nbsp;75CL&nbsp;&nbsp;&nbsp;1…</td><td>303990</td><td>4338.88</td><td>56.0</td><td>77.48</td><td>1</td></tr><tr><td>&quot;DT2442766.pdf&quot;</td><td>20.0</td><td>&quot;BUCKFAST TONIC WINE&nbsp;&nbsp;&nbsp;35CL&nbsp;&nbsp;&nbsp;1…</td><td>487944</td><td>481.44</td><td>12.0</td><td>40.12</td><td>2</td></tr><tr><td>&quot;DT2440508.pdf&quot;</td><td>20.0</td><td>&quot;Logik Meeting Attendance Recha…</td><td>null</td><td>494.05</td><td>1.0</td><td>494.05</td><td>null</td></tr></tbody></table></div>"
      ],
      "text/plain": [
       "shape: (1_310, 8)\n",
       "┌────────────┬────────────┬────────────┬────────────┬───────────┬──────────┬───────────┬───────────┐\n",
       "│ filename   ┆ ItemVatRat ┆ Descriptio ┆ ProductCod ┆ TotalAmou ┆ Quantity ┆ UnitPrice ┆ ItemPosit │\n",
       "│ ---        ┆ e          ┆ n          ┆ e          ┆ nt        ┆ ---      ┆ ---       ┆ ion       │\n",
       "│ str        ┆ ---        ┆ ---        ┆ ---        ┆ ---       ┆ f64      ┆ f64       ┆ ---       │\n",
       "│            ┆ f64        ┆ str        ┆ i64        ┆ f64       ┆          ┆           ┆ i64       │\n",
       "╞════════════╪════════════╪════════════╪════════════╪═══════════╪══════════╪═══════════╪═══════════╡\n",
       "│ DT241.pdf  ┆ 16.94      ┆ SPAR JUICE ┆ null       ┆ 784.8     ┆ 180.0    ┆ 4.36      ┆ 1         │\n",
       "│            ┆            ┆ ORANGE     ┆            ┆           ┆          ┆           ┆           │\n",
       "│            ┆            ┆ 250ML    8 ┆            ┆           ┆          ┆           ┆           │\n",
       "│ DT241.pdf  ┆ 16.94      ┆ SPAR JUICE ┆ null       ┆ 573.0     ┆ 150.0    ┆ 3.82      ┆ 2         │\n",
       "│            ┆            ┆ APPLE      ┆            ┆           ┆          ┆           ┆           │\n",
       "│            ┆            ┆ 250ML    8 ┆            ┆           ┆          ┆           ┆           │\n",
       "│ DT241.pdf  ┆ 16.94      ┆ SPAR CAFFE ┆ null       ┆ 244.76    ┆ 29.0     ┆ 8.44      ┆ 3         │\n",
       "│            ┆            ┆ LATTE      ┆            ┆           ┆          ┆           ┆           │\n",
       "│            ┆            ┆ 250ML   12 ┆            ┆           ┆          ┆           ┆           │\n",
       "│ DT2410.pdf ┆ 0.0        ┆ P/FARMS    ┆ 268843     ┆ 375.0     ┆ 30.0     ┆ 12.5      ┆ 1         │\n",
       "│            ┆            ┆ CRISPY     ┆            ┆           ┆          ┆           ┆           │\n",
       "│            ┆            ┆ BACON      ┆            ┆           ┆          ┆           ┆           │\n",
       "│            ┆            ┆ 50G    …   ┆            ┆           ┆          ┆           ┆           │\n",
       "│ DT24100.pd ┆ 0.0        ┆ SLICED     ┆ 248095     ┆ 4.2       ┆ 3.0      ┆ 1.4       ┆ 2         │\n",
       "│ f          ┆            ┆ WHITE      ┆            ┆           ┆          ┆           ┆           │\n",
       "│            ┆            ┆ ONION 3MM  ┆            ┆           ┆          ┆           ┆           │\n",
       "│            ┆            ┆ (65)   …   ┆            ┆           ┆          ┆           ┆           │\n",
       "│ …          ┆ …          ┆ …          ┆ …          ┆ …         ┆ …        ┆ …         ┆ …         │\n",
       "│ DT2446978. ┆ 0.0        ┆ H/S PULL   ┆ 238012     ┆ 670.8     ┆ 78.0     ┆ 8.6       ┆ 8         │\n",
       "│ pdf        ┆            ┆ PORK/BBQ   ┆            ┆           ┆          ┆           ┆           │\n",
       "│            ┆            ┆ S/FILL     ┆            ┆           ┆          ┆           ┆           │\n",
       "│            ┆            ┆ 1KG…       ┆            ┆           ┆          ┆           ┆           │\n",
       "│ DT2446978. ┆ 0.0        ┆ H/S SPCY   ┆ 238011     ┆ 323.52    ┆ 48.0     ┆ 6.74      ┆ 9         │\n",
       "│ pdf        ┆            ┆ BF MEATBLL ┆            ┆           ┆          ┆           ┆           │\n",
       "│            ┆            ┆ S/FIL      ┆            ┆           ┆          ┆           ┆           │\n",
       "│            ┆            ┆ 1K…        ┆            ┆           ┆          ┆           ┆           │\n",
       "│ DT2442766. ┆ 20.0       ┆ BUCKFAST   ┆ 303990     ┆ 4338.88   ┆ 56.0     ┆ 77.48     ┆ 1         │\n",
       "│ pdf        ┆            ┆ TONIC WINE ┆            ┆           ┆          ┆           ┆           │\n",
       "│            ┆            ┆ 75CL   1…  ┆            ┆           ┆          ┆           ┆           │\n",
       "│ DT2442766. ┆ 20.0       ┆ BUCKFAST   ┆ 487944     ┆ 481.44    ┆ 12.0     ┆ 40.12     ┆ 2         │\n",
       "│ pdf        ┆            ┆ TONIC WINE ┆            ┆           ┆          ┆           ┆           │\n",
       "│            ┆            ┆ 35CL   1…  ┆            ┆           ┆          ┆           ┆           │\n",
       "│ DT2440508. ┆ 20.0       ┆ Logik      ┆ null       ┆ 494.05    ┆ 1.0      ┆ 494.05    ┆ null      │\n",
       "│ pdf        ┆            ┆ Meeting    ┆            ┆           ┆          ┆           ┆           │\n",
       "│            ┆            ┆ Attendance ┆            ┆           ┆          ┆           ┆           │\n",
       "│            ┆            ┆ Recha…     ┆            ┆           ┆          ┆           ┆           │\n",
       "└────────────┴────────────┴────────────┴────────────┴───────────┴──────────┴───────────┴───────────┘"
      ]
     },
     "execution_count": 173,
     "metadata": {},
     "output_type": "execute_result"
    }
   ],
   "source": [
    "lineitems_df = gt.select([\"filename\"] + lineitem_cols)\n",
    "\n",
    "# Convert line items to dictionaries\n",
    "lineitems = lineitems_df.to_dicts()\n",
    "lineitems_df"
   ]
  },
  {
   "cell_type": "code",
   "execution_count": 174,
   "metadata": {},
   "outputs": [
    {
     "name": "stdout",
     "output_type": "stream",
     "text": [
      "['DT2410053.pdf', 'DT2410032.pdf', 'DT241005.pdf', 'DT2410055.pdf', 'DT2410043.pdf', 'DT2410061.pdf', 'DT2410025.pdf', 'DT2410084.pdf', 'DT2418538.pdf', 'DT2410044.pdf', 'DT2410042.pdf', 'DT2410085.pdf', 'DT2431785.pdf', 'DT2410051.pdf', 'DT2410077.pdf', 'DT2410015.pdf', 'DT2432482.pdf', 'DT2426125.pdf', 'DT2410010.pdf', 'DT2410049.pdf', 'DT2410050.pdf', 'DT2410031.pdf', 'DT241000.pdf', 'DT2410039.pdf', 'DT2444350.pdf', 'DT2410083.pdf', 'DT2433386.pdf', 'DT2410033.pdf', 'DT2417069.pdf', 'DT2410028.pdf', 'DT2410027.pdf', 'DT2410011.pdf', 'DT2439677.pdf', 'DT2416649.pdf', 'DT2442766.pdf', 'DT24100.pdf', 'DT2410046.pdf', 'DT2418826.pdf', 'DT2410078.pdf', 'DT2437435.pdf', 'DT2434828.pdf', 'DT2410062.pdf', 'DT2410008.pdf', 'DT2410056.pdf', 'DT2410023.pdf', 'DT2410012.pdf', 'DT2410000.pdf', 'DT2442778.pdf', 'DT2446978.pdf', 'DT2417551.pdf', 'DT2435790.pdf', 'DT2410086.pdf', 'DT2410026.pdf', 'DT2410003.pdf', 'DT2418821.pdf', 'DT2419751.pdf', 'DT2440766.pdf', 'DT2410007.pdf', 'DT2410060.pdf', 'DT2440086.pdf', 'DT2419241.pdf', 'DT2424598.pdf', 'DT2410054.pdf', 'DT2422465.pdf', 'DT2410006.pdf', 'DT2444349.pdf', 'DT2410037.pdf', 'DT2410065.pdf', 'DT2440959.pdf', 'DT2422462.pdf', 'DT2410038.pdf', 'DT2410068.pdf', 'DT2418824.pdf', 'DT2442963.pdf', 'DT2444725.pdf', 'DT241003.pdf', 'DT2410070.pdf', 'DT2410066.pdf', 'DT2410087.pdf', 'DT2423632.pdf', 'DT2410047.pdf', 'DT2410041.pdf', 'DT2428245.pdf', 'DT2410072.pdf', 'DT2415315.pdf', 'DT2410.pdf', 'DT2410082.pdf', 'DT2410020.pdf', 'DT2410002.pdf', 'DT2410045.pdf', 'DT2417969.pdf', 'DT2410052.pdf', 'DT2420403.pdf', 'DT2425811.pdf', 'DT2410069.pdf', 'DT2434829.pdf', 'DT2436053.pdf', 'DT2436686.pdf', 'DT2410014.pdf', 'DT2410024.pdf', 'DT2410064.pdf', 'DT2410009.pdf', 'DT2410081.pdf', 'DT2446040.pdf', 'DT2410013.pdf', 'DT2410005.pdf', 'DT2428246.pdf', 'DT2410021.pdf', 'DT2410034.pdf', 'DT2410074.pdf', 'DT2410073.pdf', 'DT2410067.pdf', 'DT2410048.pdf', 'DT2410079.pdf', 'DT2416653.pdf', 'DT2440508.pdf', 'DT241.pdf', 'DT2410001.pdf', 'DT2418825.pdf', 'DT2410017.pdf', 'DT2429764.pdf', 'DT2410018.pdf', 'DT2432243.pdf', 'DT2410059.pdf', 'DT2438750.pdf', 'DT241001.pdf', 'DT2435229.pdf', 'DT2410030.pdf', 'DT2428243.pdf', 'DT2410019.pdf', 'DT241002.pdf', 'DT2410058.pdf', 'DT2410075.pdf', 'DT2418827.pdf', 'DT2410016.pdf', 'DT2410022.pdf', 'DT2439201.pdf']\n"
     ]
    }
   ],
   "source": [
    "files = headers_df[\"filename\"].unique().to_list()\n",
    "print(files)"
   ]
  },
  {
   "cell_type": "code",
   "execution_count": 175,
   "metadata": {},
   "outputs": [],
   "source": [
    "import polars as pl\n",
    "import json\n",
    "\n",
    "header_cols = [\n",
    "    \"filename\",\n",
    "    \"invNo\",\n",
    "    \"invDate\",\n",
    "    \"orderNo\",\n",
    "    \"amountNet\",\n",
    "    \"amountVat\",\n",
    "    \"amountTotal\",\n",
    "    \"suppName\",\n",
    "]\n",
    "\n",
    "lineitem_cols = [\n",
    "    \"ItemPosition\",\n",
    "    \"ProductCode\",\n",
    "    \"Description\",\n",
    "    \"Quantity\",\n",
    "    \"UnitPrice\",\n",
    "    \"ItemVatRate\",\n",
    "    \"TotalAmount\",\n",
    "]\n",
    "\n",
    "def return_dicts(file):\n",
    "    # Extract header as a single dictionary (not as lists)\n",
    "    header_row = headers_df.filter(pl.col(\"filename\") == file).select(header_cols).row(0, named=True)\n",
    "\n",
    "    # Extract line items and convert to list of dictionaries\n",
    "    lineitems = lineitems_df.filter(pl.col(\"filename\") == file).select(lineitem_cols).to_dicts()\n",
    "\n",
    "    return header_row, lineitems"
   ]
  },
  {
   "cell_type": "code",
   "execution_count": 176,
   "metadata": {},
   "outputs": [
    {
     "data": {
      "application/vnd.jupyter.widget-view+json": {
       "model_id": "1b4a6ed6a39c414e898395f49c816f88",
       "version_major": 2,
       "version_minor": 0
      },
      "text/plain": [
       "  0%|          | 0/137 [00:00<?, ?it/s]"
      ]
     },
     "metadata": {},
     "output_type": "display_data"
    }
   ],
   "source": [
    "from tqdm.auto import tqdm\n",
    "\n",
    "for file in tqdm(files):\n",
    "    header, lineitems = return_dicts(file)\n",
    "    invoice = {\"headers\": header, \"line_items\": lineitems}\n",
    "    with open(ROOT_DIR / 'benchmarks' / 'groundtruths' / f\"{file.split('.')[0]}.json\", \"w\") as f:\n",
    "        json.dump(invoice, f, indent=4)"
   ]
  },
  {
   "cell_type": "code",
   "execution_count": null,
   "metadata": {},
   "outputs": [],
   "source": []
  }
 ],
 "metadata": {
  "kernelspec": {
   "display_name": "gemini",
   "language": "python",
   "name": "python3"
  },
  "language_info": {
   "codemirror_mode": {
    "name": "ipython",
    "version": 3
   },
   "file_extension": ".py",
   "mimetype": "text/x-python",
   "name": "python",
   "nbconvert_exporter": "python",
   "pygments_lexer": "ipython3",
   "version": "3.9.21"
  }
 },
 "nbformat": 4,
 "nbformat_minor": 2
}
