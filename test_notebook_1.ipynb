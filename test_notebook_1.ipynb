{
 "cells": [
  {
   "cell_type": "code",
   "execution_count": 1,
   "metadata": {},
   "outputs": [],
   "source": [
    "import google.generativeai as genai\n",
    "import os\n",
    "from dotenv import load_dotenv\n",
    "load_dotenv()\n",
    "\n",
    "GCP_KEY = os.getenv(\"GCP_KEY\")\n",
    "\n",
    "genai.configure(api_key=GCP_KEY)\n",
    "model = genai.GenerativeModel(\"gemini-2.0-flash-exp\")"
   ]
  },
  {
   "cell_type": "code",
   "execution_count": 2,
   "metadata": {},
   "outputs": [
    {
     "data": {
      "application/vnd.jupyter.widget-view+json": {
       "model_id": "9533a9be8d424648bb996e3e5b878d1f",
       "version_major": 2,
       "version_minor": 0
      },
      "text/plain": [
       "  0%|          | 0/7 [00:00<?, ?it/s]"
      ]
     },
     "metadata": {},
     "output_type": "display_data"
    },
    {
     "ename": "ResourceExhausted",
     "evalue": "429 Resource has been exhausted (e.g. check quota).",
     "output_type": "error",
     "traceback": [
      "\u001b[1;31m---------------------------------------------------------------------------\u001b[0m",
      "\u001b[1;31mResourceExhausted\u001b[0m                         Traceback (most recent call last)",
      "Cell \u001b[1;32mIn[2], line 5\u001b[0m\n\u001b[0;32m      3\u001b[0m project_root \u001b[38;5;241m=\u001b[39m Path()\u001b[38;5;241m.\u001b[39mresolve()\n\u001b[0;32m      4\u001b[0m extractor \u001b[38;5;241m=\u001b[39m InvoiceExtractor(model)\n\u001b[1;32m----> 5\u001b[0m invoices \u001b[38;5;241m=\u001b[39m \u001b[43mextractor\u001b[49m\u001b[38;5;241;43m.\u001b[39;49m\u001b[43mextract_all\u001b[49m\u001b[43m(\u001b[49m\u001b[43mproject_root\u001b[49m\u001b[43m \u001b[49m\u001b[38;5;241;43m/\u001b[39;49m\u001b[43m \u001b[49m\u001b[38;5;124;43m'\u001b[39;49m\u001b[38;5;124;43mtest_data\u001b[39;49m\u001b[38;5;124;43m'\u001b[39;49m\u001b[43m)\u001b[49m\n",
      "File \u001b[1;32md:\\github\\OCR\\main_logic.py:121\u001b[0m, in \u001b[0;36mInvoiceExtractor.extract_all\u001b[1;34m(self, pdf_dir, limit)\u001b[0m\n\u001b[0;32m    118\u001b[0m     pdfs \u001b[38;5;241m=\u001b[39m pdfs[:limit]      \n\u001b[0;32m    120\u001b[0m \u001b[38;5;28;01mfor\u001b[39;00m pdf_path \u001b[38;5;129;01min\u001b[39;00m tqdm(pdfs):\n\u001b[1;32m--> 121\u001b[0m     invoice \u001b[38;5;241m=\u001b[39m \u001b[38;5;28;43mself\u001b[39;49m\u001b[38;5;241;43m.\u001b[39;49m\u001b[43mextract\u001b[49m\u001b[43m(\u001b[49m\u001b[43mpdf_path\u001b[49m\u001b[43m)\u001b[49m\n\u001b[0;32m    122\u001b[0m     invoices\u001b[38;5;241m.\u001b[39mappend(invoice)\n\u001b[0;32m    123\u001b[0m \u001b[38;5;28;01mreturn\u001b[39;00m invoices\n",
      "File \u001b[1;32md:\\github\\OCR\\main_logic.py:101\u001b[0m, in \u001b[0;36mInvoiceExtractor.extract\u001b[1;34m(self, pdf_path)\u001b[0m\n\u001b[0;32m     37\u001b[0m prompt \u001b[38;5;241m=\u001b[39m (\n\u001b[0;32m     38\u001b[0m         \u001b[38;5;124m\"\u001b[39m\u001b[38;5;124mExtract structured invoice details from this PDF. Return all fields exactly as they appear in the document. \u001b[39m\u001b[38;5;124m\"\u001b[39m\n\u001b[0;32m     39\u001b[0m         \u001b[38;5;124m\"\u001b[39m\u001b[38;5;124mFollow this strict JSON format:\u001b[39m\u001b[38;5;130;01m\\n\u001b[39;00m\u001b[38;5;124m\"\u001b[39m\n\u001b[1;32m   (...)\u001b[0m\n\u001b[0;32m     96\u001b[0m         \u001b[38;5;66;03m# \"- If the due date is not provided but the number of due days is available, calculate the due date by adding the due days to the invoice date and use the result as the due date.\\n\"  # resource exhusting\u001b[39;00m\n\u001b[0;32m     97\u001b[0m     )\n\u001b[0;32m     99\u001b[0m \u001b[38;5;66;03m# prompt = \"extract invoice details from this PDF file in JSON format\"\u001b[39;00m\n\u001b[1;32m--> 101\u001b[0m response \u001b[38;5;241m=\u001b[39m \u001b[38;5;28;43mself\u001b[39;49m\u001b[38;5;241;43m.\u001b[39;49m\u001b[43mmodel\u001b[49m\u001b[38;5;241;43m.\u001b[39;49m\u001b[43mgenerate_content\u001b[49m\u001b[43m(\u001b[49m\u001b[43m[\u001b[49m\u001b[43m{\u001b[49m\n\u001b[0;32m    102\u001b[0m \u001b[43m                \u001b[49m\u001b[38;5;124;43m'\u001b[39;49m\u001b[38;5;124;43mmime_type\u001b[39;49m\u001b[38;5;124;43m'\u001b[39;49m\u001b[43m:\u001b[49m\u001b[43m \u001b[49m\u001b[38;5;124;43m'\u001b[39;49m\u001b[38;5;124;43mapplication/pdf\u001b[39;49m\u001b[38;5;124;43m'\u001b[39;49m\u001b[43m,\u001b[49m\n\u001b[0;32m    103\u001b[0m \u001b[43m                \u001b[49m\u001b[38;5;124;43m'\u001b[39;49m\u001b[38;5;124;43mdata\u001b[39;49m\u001b[38;5;124;43m'\u001b[39;49m\u001b[43m:\u001b[49m\u001b[43m \u001b[49m\u001b[43mtransformed_pdf\u001b[49m\n\u001b[0;32m    104\u001b[0m \u001b[43m            \u001b[49m\u001b[43m}\u001b[49m\u001b[43m,\u001b[49m\u001b[43mprompt\u001b[49m\u001b[43m]\u001b[49m\u001b[43m)\u001b[49m\n\u001b[0;32m    106\u001b[0m response_text \u001b[38;5;241m=\u001b[39m response\u001b[38;5;241m.\u001b[39mtext\n\u001b[0;32m    107\u001b[0m invoice_data \u001b[38;5;241m=\u001b[39m \u001b[38;5;28mself\u001b[39m\u001b[38;5;241m.\u001b[39mextract_json(response_text)\n",
      "File \u001b[1;32mc:\\Users\\chavv\\anaconda\\envs\\gemini\\Lib\\site-packages\\google\\generativeai\\generative_models.py:331\u001b[0m, in \u001b[0;36mGenerativeModel.generate_content\u001b[1;34m(self, contents, generation_config, safety_settings, stream, tools, tool_config, request_options)\u001b[0m\n\u001b[0;32m    329\u001b[0m         \u001b[38;5;28;01mreturn\u001b[39;00m generation_types\u001b[38;5;241m.\u001b[39mGenerateContentResponse\u001b[38;5;241m.\u001b[39mfrom_iterator(iterator)\n\u001b[0;32m    330\u001b[0m     \u001b[38;5;28;01melse\u001b[39;00m:\n\u001b[1;32m--> 331\u001b[0m         response \u001b[38;5;241m=\u001b[39m \u001b[38;5;28;43mself\u001b[39;49m\u001b[38;5;241;43m.\u001b[39;49m\u001b[43m_client\u001b[49m\u001b[38;5;241;43m.\u001b[39;49m\u001b[43mgenerate_content\u001b[49m\u001b[43m(\u001b[49m\n\u001b[0;32m    332\u001b[0m \u001b[43m            \u001b[49m\u001b[43mrequest\u001b[49m\u001b[43m,\u001b[49m\n\u001b[0;32m    333\u001b[0m \u001b[43m            \u001b[49m\u001b[38;5;241;43m*\u001b[39;49m\u001b[38;5;241;43m*\u001b[39;49m\u001b[43mrequest_options\u001b[49m\u001b[43m,\u001b[49m\n\u001b[0;32m    334\u001b[0m \u001b[43m        \u001b[49m\u001b[43m)\u001b[49m\n\u001b[0;32m    335\u001b[0m         \u001b[38;5;28;01mreturn\u001b[39;00m generation_types\u001b[38;5;241m.\u001b[39mGenerateContentResponse\u001b[38;5;241m.\u001b[39mfrom_response(response)\n\u001b[0;32m    336\u001b[0m \u001b[38;5;28;01mexcept\u001b[39;00m google\u001b[38;5;241m.\u001b[39mapi_core\u001b[38;5;241m.\u001b[39mexceptions\u001b[38;5;241m.\u001b[39mInvalidArgument \u001b[38;5;28;01mas\u001b[39;00m e:\n",
      "File \u001b[1;32mc:\\Users\\chavv\\anaconda\\envs\\gemini\\Lib\\site-packages\\google\\ai\\generativelanguage_v1beta\\services\\generative_service\\client.py:830\u001b[0m, in \u001b[0;36mGenerativeServiceClient.generate_content\u001b[1;34m(self, request, model, contents, retry, timeout, metadata)\u001b[0m\n\u001b[0;32m    827\u001b[0m \u001b[38;5;28mself\u001b[39m\u001b[38;5;241m.\u001b[39m_validate_universe_domain()\n\u001b[0;32m    829\u001b[0m \u001b[38;5;66;03m# Send the request.\u001b[39;00m\n\u001b[1;32m--> 830\u001b[0m response \u001b[38;5;241m=\u001b[39m \u001b[43mrpc\u001b[49m\u001b[43m(\u001b[49m\n\u001b[0;32m    831\u001b[0m \u001b[43m    \u001b[49m\u001b[43mrequest\u001b[49m\u001b[43m,\u001b[49m\n\u001b[0;32m    832\u001b[0m \u001b[43m    \u001b[49m\u001b[43mretry\u001b[49m\u001b[38;5;241;43m=\u001b[39;49m\u001b[43mretry\u001b[49m\u001b[43m,\u001b[49m\n\u001b[0;32m    833\u001b[0m \u001b[43m    \u001b[49m\u001b[43mtimeout\u001b[49m\u001b[38;5;241;43m=\u001b[39;49m\u001b[43mtimeout\u001b[49m\u001b[43m,\u001b[49m\n\u001b[0;32m    834\u001b[0m \u001b[43m    \u001b[49m\u001b[43mmetadata\u001b[49m\u001b[38;5;241;43m=\u001b[39;49m\u001b[43mmetadata\u001b[49m\u001b[43m,\u001b[49m\n\u001b[0;32m    835\u001b[0m \u001b[43m\u001b[49m\u001b[43m)\u001b[49m\n\u001b[0;32m    837\u001b[0m \u001b[38;5;66;03m# Done; return the response.\u001b[39;00m\n\u001b[0;32m    838\u001b[0m \u001b[38;5;28;01mreturn\u001b[39;00m response\n",
      "File \u001b[1;32mc:\\Users\\chavv\\anaconda\\envs\\gemini\\Lib\\site-packages\\google\\api_core\\gapic_v1\\method.py:131\u001b[0m, in \u001b[0;36m_GapicCallable.__call__\u001b[1;34m(self, timeout, retry, compression, *args, **kwargs)\u001b[0m\n\u001b[0;32m    128\u001b[0m \u001b[38;5;28;01mif\u001b[39;00m \u001b[38;5;28mself\u001b[39m\u001b[38;5;241m.\u001b[39m_compression \u001b[38;5;129;01mis\u001b[39;00m \u001b[38;5;129;01mnot\u001b[39;00m \u001b[38;5;28;01mNone\u001b[39;00m:\n\u001b[0;32m    129\u001b[0m     kwargs[\u001b[38;5;124m\"\u001b[39m\u001b[38;5;124mcompression\u001b[39m\u001b[38;5;124m\"\u001b[39m] \u001b[38;5;241m=\u001b[39m compression\n\u001b[1;32m--> 131\u001b[0m \u001b[38;5;28;01mreturn\u001b[39;00m \u001b[43mwrapped_func\u001b[49m\u001b[43m(\u001b[49m\u001b[38;5;241;43m*\u001b[39;49m\u001b[43margs\u001b[49m\u001b[43m,\u001b[49m\u001b[43m \u001b[49m\u001b[38;5;241;43m*\u001b[39;49m\u001b[38;5;241;43m*\u001b[39;49m\u001b[43mkwargs\u001b[49m\u001b[43m)\u001b[49m\n",
      "File \u001b[1;32mc:\\Users\\chavv\\anaconda\\envs\\gemini\\Lib\\site-packages\\google\\api_core\\retry\\retry_unary.py:293\u001b[0m, in \u001b[0;36mRetry.__call__.<locals>.retry_wrapped_func\u001b[1;34m(*args, **kwargs)\u001b[0m\n\u001b[0;32m    289\u001b[0m target \u001b[38;5;241m=\u001b[39m functools\u001b[38;5;241m.\u001b[39mpartial(func, \u001b[38;5;241m*\u001b[39margs, \u001b[38;5;241m*\u001b[39m\u001b[38;5;241m*\u001b[39mkwargs)\n\u001b[0;32m    290\u001b[0m sleep_generator \u001b[38;5;241m=\u001b[39m exponential_sleep_generator(\n\u001b[0;32m    291\u001b[0m     \u001b[38;5;28mself\u001b[39m\u001b[38;5;241m.\u001b[39m_initial, \u001b[38;5;28mself\u001b[39m\u001b[38;5;241m.\u001b[39m_maximum, multiplier\u001b[38;5;241m=\u001b[39m\u001b[38;5;28mself\u001b[39m\u001b[38;5;241m.\u001b[39m_multiplier\n\u001b[0;32m    292\u001b[0m )\n\u001b[1;32m--> 293\u001b[0m \u001b[38;5;28;01mreturn\u001b[39;00m \u001b[43mretry_target\u001b[49m\u001b[43m(\u001b[49m\n\u001b[0;32m    294\u001b[0m \u001b[43m    \u001b[49m\u001b[43mtarget\u001b[49m\u001b[43m,\u001b[49m\n\u001b[0;32m    295\u001b[0m \u001b[43m    \u001b[49m\u001b[38;5;28;43mself\u001b[39;49m\u001b[38;5;241;43m.\u001b[39;49m\u001b[43m_predicate\u001b[49m\u001b[43m,\u001b[49m\n\u001b[0;32m    296\u001b[0m \u001b[43m    \u001b[49m\u001b[43msleep_generator\u001b[49m\u001b[43m,\u001b[49m\n\u001b[0;32m    297\u001b[0m \u001b[43m    \u001b[49m\u001b[43mtimeout\u001b[49m\u001b[38;5;241;43m=\u001b[39;49m\u001b[38;5;28;43mself\u001b[39;49m\u001b[38;5;241;43m.\u001b[39;49m\u001b[43m_timeout\u001b[49m\u001b[43m,\u001b[49m\n\u001b[0;32m    298\u001b[0m \u001b[43m    \u001b[49m\u001b[43mon_error\u001b[49m\u001b[38;5;241;43m=\u001b[39;49m\u001b[43mon_error\u001b[49m\u001b[43m,\u001b[49m\n\u001b[0;32m    299\u001b[0m \u001b[43m\u001b[49m\u001b[43m)\u001b[49m\n",
      "File \u001b[1;32mc:\\Users\\chavv\\anaconda\\envs\\gemini\\Lib\\site-packages\\google\\api_core\\retry\\retry_unary.py:153\u001b[0m, in \u001b[0;36mretry_target\u001b[1;34m(target, predicate, sleep_generator, timeout, on_error, exception_factory, **kwargs)\u001b[0m\n\u001b[0;32m    149\u001b[0m \u001b[38;5;66;03m# pylint: disable=broad-except\u001b[39;00m\n\u001b[0;32m    150\u001b[0m \u001b[38;5;66;03m# This function explicitly must deal with broad exceptions.\u001b[39;00m\n\u001b[0;32m    151\u001b[0m \u001b[38;5;28;01mexcept\u001b[39;00m \u001b[38;5;167;01mException\u001b[39;00m \u001b[38;5;28;01mas\u001b[39;00m exc:\n\u001b[0;32m    152\u001b[0m     \u001b[38;5;66;03m# defer to shared logic for handling errors\u001b[39;00m\n\u001b[1;32m--> 153\u001b[0m     \u001b[43m_retry_error_helper\u001b[49m\u001b[43m(\u001b[49m\n\u001b[0;32m    154\u001b[0m \u001b[43m        \u001b[49m\u001b[43mexc\u001b[49m\u001b[43m,\u001b[49m\n\u001b[0;32m    155\u001b[0m \u001b[43m        \u001b[49m\u001b[43mdeadline\u001b[49m\u001b[43m,\u001b[49m\n\u001b[0;32m    156\u001b[0m \u001b[43m        \u001b[49m\u001b[43msleep\u001b[49m\u001b[43m,\u001b[49m\n\u001b[0;32m    157\u001b[0m \u001b[43m        \u001b[49m\u001b[43merror_list\u001b[49m\u001b[43m,\u001b[49m\n\u001b[0;32m    158\u001b[0m \u001b[43m        \u001b[49m\u001b[43mpredicate\u001b[49m\u001b[43m,\u001b[49m\n\u001b[0;32m    159\u001b[0m \u001b[43m        \u001b[49m\u001b[43mon_error\u001b[49m\u001b[43m,\u001b[49m\n\u001b[0;32m    160\u001b[0m \u001b[43m        \u001b[49m\u001b[43mexception_factory\u001b[49m\u001b[43m,\u001b[49m\n\u001b[0;32m    161\u001b[0m \u001b[43m        \u001b[49m\u001b[43mtimeout\u001b[49m\u001b[43m,\u001b[49m\n\u001b[0;32m    162\u001b[0m \u001b[43m    \u001b[49m\u001b[43m)\u001b[49m\n\u001b[0;32m    163\u001b[0m     \u001b[38;5;66;03m# if exception not raised, sleep before next attempt\u001b[39;00m\n\u001b[0;32m    164\u001b[0m     time\u001b[38;5;241m.\u001b[39msleep(sleep)\n",
      "File \u001b[1;32mc:\\Users\\chavv\\anaconda\\envs\\gemini\\Lib\\site-packages\\google\\api_core\\retry\\retry_base.py:212\u001b[0m, in \u001b[0;36m_retry_error_helper\u001b[1;34m(exc, deadline, next_sleep, error_list, predicate_fn, on_error_fn, exc_factory_fn, original_timeout)\u001b[0m\n\u001b[0;32m    206\u001b[0m \u001b[38;5;28;01mif\u001b[39;00m \u001b[38;5;129;01mnot\u001b[39;00m predicate_fn(exc):\n\u001b[0;32m    207\u001b[0m     final_exc, source_exc \u001b[38;5;241m=\u001b[39m exc_factory_fn(\n\u001b[0;32m    208\u001b[0m         error_list,\n\u001b[0;32m    209\u001b[0m         RetryFailureReason\u001b[38;5;241m.\u001b[39mNON_RETRYABLE_ERROR,\n\u001b[0;32m    210\u001b[0m         original_timeout,\n\u001b[0;32m    211\u001b[0m     )\n\u001b[1;32m--> 212\u001b[0m     \u001b[38;5;28;01mraise\u001b[39;00m final_exc \u001b[38;5;28;01mfrom\u001b[39;00m \u001b[38;5;21;01msource_exc\u001b[39;00m\n\u001b[0;32m    213\u001b[0m \u001b[38;5;28;01mif\u001b[39;00m on_error_fn \u001b[38;5;129;01mis\u001b[39;00m \u001b[38;5;129;01mnot\u001b[39;00m \u001b[38;5;28;01mNone\u001b[39;00m:\n\u001b[0;32m    214\u001b[0m     on_error_fn(exc)\n",
      "File \u001b[1;32mc:\\Users\\chavv\\anaconda\\envs\\gemini\\Lib\\site-packages\\google\\api_core\\retry\\retry_unary.py:144\u001b[0m, in \u001b[0;36mretry_target\u001b[1;34m(target, predicate, sleep_generator, timeout, on_error, exception_factory, **kwargs)\u001b[0m\n\u001b[0;32m    142\u001b[0m \u001b[38;5;28;01mfor\u001b[39;00m sleep \u001b[38;5;129;01min\u001b[39;00m sleep_generator:\n\u001b[0;32m    143\u001b[0m     \u001b[38;5;28;01mtry\u001b[39;00m:\n\u001b[1;32m--> 144\u001b[0m         result \u001b[38;5;241m=\u001b[39m \u001b[43mtarget\u001b[49m\u001b[43m(\u001b[49m\u001b[43m)\u001b[49m\n\u001b[0;32m    145\u001b[0m         \u001b[38;5;28;01mif\u001b[39;00m inspect\u001b[38;5;241m.\u001b[39misawaitable(result):\n\u001b[0;32m    146\u001b[0m             warnings\u001b[38;5;241m.\u001b[39mwarn(_ASYNC_RETRY_WARNING)\n",
      "File \u001b[1;32mc:\\Users\\chavv\\anaconda\\envs\\gemini\\Lib\\site-packages\\google\\api_core\\timeout.py:120\u001b[0m, in \u001b[0;36mTimeToDeadlineTimeout.__call__.<locals>.func_with_timeout\u001b[1;34m(*args, **kwargs)\u001b[0m\n\u001b[0;32m    117\u001b[0m     \u001b[38;5;66;03m# Avoid setting negative timeout\u001b[39;00m\n\u001b[0;32m    118\u001b[0m     kwargs[\u001b[38;5;124m\"\u001b[39m\u001b[38;5;124mtimeout\u001b[39m\u001b[38;5;124m\"\u001b[39m] \u001b[38;5;241m=\u001b[39m \u001b[38;5;28mmax\u001b[39m(\u001b[38;5;241m0\u001b[39m, \u001b[38;5;28mself\u001b[39m\u001b[38;5;241m.\u001b[39m_timeout \u001b[38;5;241m-\u001b[39m time_since_first_attempt)\n\u001b[1;32m--> 120\u001b[0m \u001b[38;5;28;01mreturn\u001b[39;00m \u001b[43mfunc\u001b[49m\u001b[43m(\u001b[49m\u001b[38;5;241;43m*\u001b[39;49m\u001b[43margs\u001b[49m\u001b[43m,\u001b[49m\u001b[43m \u001b[49m\u001b[38;5;241;43m*\u001b[39;49m\u001b[38;5;241;43m*\u001b[39;49m\u001b[43mkwargs\u001b[49m\u001b[43m)\u001b[49m\n",
      "File \u001b[1;32mc:\\Users\\chavv\\anaconda\\envs\\gemini\\Lib\\site-packages\\google\\api_core\\grpc_helpers.py:78\u001b[0m, in \u001b[0;36m_wrap_unary_errors.<locals>.error_remapped_callable\u001b[1;34m(*args, **kwargs)\u001b[0m\n\u001b[0;32m     76\u001b[0m     \u001b[38;5;28;01mreturn\u001b[39;00m callable_(\u001b[38;5;241m*\u001b[39margs, \u001b[38;5;241m*\u001b[39m\u001b[38;5;241m*\u001b[39mkwargs)\n\u001b[0;32m     77\u001b[0m \u001b[38;5;28;01mexcept\u001b[39;00m grpc\u001b[38;5;241m.\u001b[39mRpcError \u001b[38;5;28;01mas\u001b[39;00m exc:\n\u001b[1;32m---> 78\u001b[0m     \u001b[38;5;28;01mraise\u001b[39;00m exceptions\u001b[38;5;241m.\u001b[39mfrom_grpc_error(exc) \u001b[38;5;28;01mfrom\u001b[39;00m \u001b[38;5;21;01mexc\u001b[39;00m\n",
      "\u001b[1;31mResourceExhausted\u001b[0m: 429 Resource has been exhausted (e.g. check quota)."
     ]
    }
   ],
   "source": [
    "from main_logic import InvoiceExtractor\n",
    "from pathlib import Path\n",
    "project_root = Path().resolve()\n",
    "extractor = InvoiceExtractor(model)\n",
    "invoices = extractor.extract_all(project_root / 'test_data')"
   ]
  },
  {
   "cell_type": "code",
   "execution_count": 3,
   "metadata": {},
   "outputs": [
    {
     "data": {
      "text/html": [
       "<table border=\"1\"><tr><th>line_items</th><td><table border=\"1\"><thead><tr><th>product_code</th><th>description</th><th>quantity</th><th>price_per_unit</th><th>vat_percent</th><th>total_price</th></tr></thead><tbody><tr><td>13.0802HK</td><td>RHP Legro Blackberry/Raspberry\n",
       "Optima PLUS</td><td>111,80</td><td>57,75</td><td>None</td><td>6.456,45</td></tr><tr><td>19.1001N</td><td>Pack up in big-bale</td><td>26</td><td>18,00</td><td>None</td><td>468,00</td></tr><tr><td>48.3000</td><td>Pallet 100x120 HT Export</td><td>26</td><td>11,00</td><td>None</td><td>286,00</td></tr><tr><td>19.2002</td><td>Customs charges</td><td>1</td><td>54,00</td><td>None</td><td>54,00</td></tr><tr><td>19.2015</td><td>Transportcost Pallets FTL</td><td>1</td><td>1.973,60</td><td>None</td><td>1.973,60</td></tr></tbody></table></td></tr><tr><th>total_amount</th><td><table border=\"1\"><tr><th>total_items</th><td>5</td></tr><tr><th>total_tax</th><td>0,00</td></tr><tr><th>total_price</th><td>9.238,05</td></tr></table></td></tr><tr><th>due_date</th><td>None</td></tr><tr><th>payment_date</th><td>None</td></tr><tr><th>invoice_date</th><td>2023-11-09</td></tr><tr><th>invoice_number</th><td>S2312132</td></tr><tr><th>purchase_order</th><td>3247</td></tr><tr><th>reference_numbers</th><td><ul><li>MK 7006</li></ul></td></tr><tr><th>locale</th><td>None</td></tr><tr><th>country</th><td>United Kingdom</td></tr><tr><th>currency</th><td>EUR</td></tr><tr><th>payment_details</th><td><table border=\"1\"><tr><th>iban</th><td>NL48 INGB 00016905 45</td></tr><tr><th>swift</th><td>None</td></tr><tr><th>bic</th><td>INGBNL2A</td></tr><tr><th>account_number</th><td>None</td></tr></table></td></tr><tr><th>vat_number</th><td>GB125476511</td></tr><tr><th>supplier_name</th><td>LEGRO</td></tr><tr><th>taxes_details</th><td><table border=\"1\"><thead><tr><th>rate</th><th>amount</th></tr></thead><tbody><tr><td>0,00</td><td>0,00</td></tr></tbody></table></td></tr><tr><th>total_amount_including_taxes</th><td>9.238,05</td></tr><tr><th>total_net_amount_excluding_taxes</th><td>9.238,05</td></tr><tr><th>customer_address</th><td>4 Conqueror Court, Water mark\n",
       "ME10 5BH Sittingbourne\n",
       "United Kingdom</td></tr><tr><th>shipping_address</th><td>The Glasshouse Wicks Farm Ford Lane\n",
       "BN18 ODF ARUNDEL (WEST SUSSEX)\n",
       "United Kingdom</td></tr><tr><th>billing_address</th><td>None</td></tr><tr><th>customer_company_registrations</th><td><table border=\"1\"><tr><th>vat_number</th><td>None</td></tr></table></td></tr><tr><th>customer_name</th><td>Berry Farming Ltd.</td></tr><tr><th>supplier_address</th><td>P.O. Box 93\n",
       "Gerstdijk 20\n",
       "5720 AB Asten\n",
       "5704 RG Helmond\n",
       "The Netherlands</td></tr></table>"
      ],
      "text/plain": [
       "<IPython.core.display.HTML object>"
      ]
     },
     "metadata": {},
     "output_type": "display_data"
    },
    {
     "name": "stdout",
     "output_type": "stream",
     "text": [
      "\n",
      "\n"
     ]
    },
    {
     "data": {
      "text/html": [
       "<table border=\"1\"><tr><th>line_items</th><td><table border=\"1\"><thead><tr><th>product_code</th><th>description</th><th>quantity</th><th>price_per_unit</th><th>vat_percent</th><th>total_price</th></tr></thead><tbody><tr><td>None</td><td>ISS SP - Picking: 12/11/2023 - 18/11/2023 Teynham</td><td>178,082</td><td>0.090</td><td>None</td><td>10,641.96</td></tr><tr><td>None</td><td>ISS SP - Picking: 12/11/2023 - 18/11/2023 Linton</td><td>105,084</td><td>0.090</td><td>None</td><td>2,856.15</td></tr><tr><td>None</td><td>ISS SP - Picking: 12/11/2023 - 18/11/2023 Sittingbourne</td><td>36,065</td><td>0.090</td><td>None</td><td>1,762.74</td></tr></tbody></table></td></tr><tr><th>total_amount</th><td><table border=\"1\"><tr><th>total_items</th><td>None</td></tr><tr><th>total_tax</th><td>3,052.17</td></tr><tr><th>total_price</th><td>18,313.02</td></tr></table></td></tr><tr><th>due_date</th><td>None</td></tr><tr><th>payment_date</th><td>None</td></tr><tr><th>invoice_date</th><td>22/11/2023</td></tr><tr><th>invoice_number</th><td>22806</td></tr><tr><th>purchase_order</th><td>None</td></tr><tr><th>reference_numbers</th><td></td></tr><tr><th>locale</th><td>None</td></tr><tr><th>country</th><td>None</td></tr><tr><th>currency</th><td>£</td></tr><tr><th>payment_details</th><td><table border=\"1\"><tr><th>iban</th><td>None</td></tr><tr><th>swift</th><td>None</td></tr><tr><th>bic</th><td>None</td></tr><tr><th>account_number</th><td>2236 6789</td></tr></table></td></tr><tr><th>vat_number</th><td>184 6959 49</td></tr><tr><th>supplier_name</th><td>INTEGRATED SERVICE SOLUTIONS</td></tr><tr><th>taxes_details</th><td><table border=\"1\"><thead><tr><th>rate</th><th>amount</th></tr></thead><tbody><tr><td>None</td><td>3,052.17</td></tr></tbody></table></td></tr><tr><th>total_amount_including_taxes</th><td>18,313.02</td></tr><tr><th>total_net_amount_excluding_taxes</th><td>15,260.85</td></tr><tr><th>customer_address</th><td>57-63 Church Street\n",
       "Wimbledon\n",
       "SW19 5DQ</td></tr><tr><th>shipping_address</th><td>None</td></tr><tr><th>billing_address</th><td>None</td></tr><tr><th>customer_company_registrations</th><td><table border=\"1\"><tr><th>vat_number</th><td>None</td></tr></table></td></tr><tr><th>customer_name</th><td>Direct Produce Supplies LTD</td></tr><tr><th>supplier_address</th><td>C/O Fowler Welch, London Road, Teynham, Sittingbourne, ME9 9PR</td></tr></table>"
      ],
      "text/plain": [
       "<IPython.core.display.HTML object>"
      ]
     },
     "metadata": {},
     "output_type": "display_data"
    },
    {
     "name": "stdout",
     "output_type": "stream",
     "text": [
      "\n",
      "\n"
     ]
    },
    {
     "data": {
      "text/html": [
       "<table border=\"1\"><tr><th>line_items</th><td><table border=\"1\"><thead><tr><th>product_code</th><th>description</th><th>quantity</th><th>price_per_unit</th><th>vat_percent</th><th>total_price</th></tr></thead><tbody><tr><td>None</td><td>Orange Strapping Tape 19MMX66M</td><td>384.00</td><td>1.06</td><td>20%</td><td>407.04</td></tr><tr><td>None</td><td>12mm Blue Vinyl Tape</td><td>240.00</td><td>1.06</td><td>20%</td><td>254.40</td></tr></tbody></table></td></tr><tr><th>total_amount</th><td><table border=\"1\"><tr><th>total_items</th><td>2</td></tr><tr><th>total_tax</th><td>132.29</td></tr><tr><th>total_price</th><td>793.73</td></tr></table></td></tr><tr><th>due_date</th><td>2023-11-25</td></tr><tr><th>payment_date</th><td>None</td></tr><tr><th>invoice_date</th><td>2023-10-13</td></tr><tr><th>invoice_number</th><td>INV-7478</td></tr><tr><th>purchase_order</th><td>3106</td></tr><tr><th>reference_numbers</th><td><ul><li>MP38</li></ul></td></tr><tr><th>locale</th><td>None</td></tr><tr><th>country</th><td>UNITED KINGDOM</td></tr><tr><th>currency</th><td>GBP</td></tr><tr><th>payment_details</th><td><table border=\"1\"><tr><th>iban</th><td>None</td></tr><tr><th>swift</th><td>None</td></tr><tr><th>bic</th><td>None</td></tr><tr><th>account_number</th><td>19745860</td></tr></table></td></tr><tr><th>vat_number</th><td>188505042</td></tr><tr><th>supplier_name</th><td>New Forest Growers Ltd</td></tr><tr><th>taxes_details</th><td><table border=\"1\"><thead><tr><th>rate</th><th>amount</th></tr></thead><tbody><tr><td>20%</td><td>132.29</td></tr></tbody></table></td></tr><tr><th>total_amount_including_taxes</th><td>793.73</td></tr><tr><th>total_net_amount_excluding_taxes</th><td>661.44</td></tr><tr><th>customer_address</th><td>The Glasshouse\n",
       "Wicks Farm\n",
       "Ford Lane, Arundel\n",
       "West Sussex\n",
       "BN18 0DQ\n",
       "UNITED KINGDOM</td></tr><tr><th>shipping_address</th><td>None</td></tr><tr><th>billing_address</th><td>None</td></tr><tr><th>customer_company_registrations</th><td><table border=\"1\"><tr><th>vat_number</th><td>GB125476511</td></tr></table></td></tr><tr><th>customer_name</th><td>Berry Farming Ltd</td></tr><tr><th>supplier_address</th><td>New Forest Growers\n",
       "Pitmore Lane\n",
       "Sway\n",
       "Lymington\n",
       "Hampshire\n",
       "SO41 6BX\n",
       "GBR</td></tr></table>"
      ],
      "text/plain": [
       "<IPython.core.display.HTML object>"
      ]
     },
     "metadata": {},
     "output_type": "display_data"
    },
    {
     "name": "stdout",
     "output_type": "stream",
     "text": [
      "\n",
      "\n"
     ]
    },
    {
     "data": {
      "text/html": [
       "<table border=\"1\"><tr><th>line_items</th><td><table border=\"1\"><thead><tr><th>product_code</th><th>description</th><th>quantity</th><th>price_per_unit</th><th>vat_percent</th><th>total_price</th></tr></thead><tbody><tr><td>None</td><td>K37F/40mm Punnets + &quot;100% PAPER&quot; Black Soak Pad x 950\n",
       "pcs w2\n",
       "DDT 82303766 - 13/06/23 x 192 ctns\n",
       "DDT 82305223 - 02/08/23 x 96 ctns</td><td>288.00</td><td>45.39</td><td>20.00</td><td>13,072.32</td></tr></tbody></table></td></tr><tr><th>total_amount</th><td><table border=\"1\"><tr><th>total_items</th><td>None</td></tr><tr><th>total_tax</th><td>2,614.46</td></tr><tr><th>total_price</th><td>15,686.78</td></tr></table></td></tr><tr><th>due_date</th><td>None</td></tr><tr><th>payment_date</th><td>None</td></tr><tr><th>invoice_date</th><td>2023-08-30</td></tr><tr><th>invoice_number</th><td>1025991</td></tr><tr><th>purchase_order</th><td>12183</td></tr><tr><th>reference_numbers</th><td><ul><li>MK69</li><li>BERRY004</li></ul></td></tr><tr><th>locale</th><td>None</td></tr><tr><th>country</th><td>England</td></tr><tr><th>currency</th><td>£</td></tr><tr><th>payment_details</th><td><table border=\"1\"><tr><th>iban</th><td>GB20 BARC 2022 7550 7848 34</td></tr><tr><th>swift</th><td>BARCGB22</td></tr><tr><th>bic</th><td>None</td></tr><tr><th>account_number</th><td>50784834</td></tr></table></td></tr><tr><th>vat_number</th><td>700088278</td></tr><tr><th>supplier_name</th><td>Infia UK Limited</td></tr><tr><th>taxes_details</th><td><table border=\"1\"><thead><tr><th>rate</th><th>amount</th></tr></thead><tbody><tr><td>20.00</td><td>2,614.46</td></tr></tbody></table></td></tr><tr><th>total_amount_including_taxes</th><td>15,686.78</td></tr><tr><th>total_net_amount_excluding_taxes</th><td>13,072.32</td></tr><tr><th>customer_address</th><td>Unit 4\n",
       "Conqueror Court\n",
       "Sittingbourne\n",
       "Kent\n",
       "ΜΕ10 5BH</td></tr><tr><th>shipping_address</th><td>Triple Ash Nursery\n",
       "75A Lockgate Road\n",
       "Sidlesham Common\n",
       "West Sussex\n",
       "PO20 7QQ</td></tr><tr><th>billing_address</th><td>Berry Farming Ltd\n",
       "Unit 4\n",
       "Conqueror Court\n",
       "Sittingbourne\n",
       "Kent\n",
       "ΜΕ10 5BH</td></tr><tr><th>customer_company_registrations</th><td><table border=\"1\"><tr><th>vat_number</th><td>None</td></tr></table></td></tr><tr><th>customer_name</th><td>Berry Farming Ltd</td></tr><tr><th>supplier_address</th><td>Beech Gate\n",
       "Peterborough Road\n",
       "Whittlesey\n",
       "Cambridgeshire\n",
       "PE7 1PD</td></tr></table>"
      ],
      "text/plain": [
       "<IPython.core.display.HTML object>"
      ]
     },
     "metadata": {},
     "output_type": "display_data"
    },
    {
     "name": "stdout",
     "output_type": "stream",
     "text": [
      "\n",
      "\n"
     ]
    },
    {
     "data": {
      "text/html": [
       "<table border=\"1\"><tr><th>line_items</th><td><table border=\"1\"><thead><tr><th>product_code</th><th>description</th><th>quantity</th><th>price_per_unit</th><th>vat_percent</th><th>total_price</th></tr></thead><tbody><tr><td>None</td><td>FRESH MANGOES</td><td>5,544</td><td>5.25</td><td>None</td><td>29,106.00</td></tr></tbody></table></td></tr><tr><th>total_amount</th><td><table border=\"1\"><tr><th>total_items</th><td>1</td></tr><tr><th>total_tax</th><td>None</td></tr><tr><th>total_price</th><td>29,106.00</td></tr></table></td></tr><tr><th>due_date</th><td>None</td></tr><tr><th>payment_date</th><td>None</td></tr><tr><th>invoice_date</th><td>20/08/2023</td></tr><tr><th>invoice_number</th><td>5424</td></tr><tr><th>purchase_order</th><td>PO139090</td></tr><tr><th>reference_numbers</th><td><ul><li>1-3026640-9</li></ul></td></tr><tr><th>locale</th><td>None</td></tr><tr><th>country</th><td>Dominicana</td></tr><tr><th>currency</th><td>US$</td></tr><tr><th>payment_details</th><td><table border=\"1\"><tr><th>iban</th><td>None</td></tr><tr><th>swift</th><td>None</td></tr><tr><th>bic</th><td>None</td></tr><tr><th>account_number</th><td>None</td></tr></table></td></tr><tr><th>vat_number</th><td>None</td></tr><tr><th>supplier_name</th><td>Dot Fruits, S.R.L.</td></tr><tr><th>taxes_details</th><td></td></tr><tr><th>total_amount_including_taxes</th><td>None</td></tr><tr><th>total_net_amount_excluding_taxes</th><td>None</td></tr><tr><th>customer_address</th><td>None</td></tr><tr><th>shipping_address</th><td>None</td></tr><tr><th>billing_address</th><td>None</td></tr><tr><th>customer_company_registrations</th><td><table border=\"1\"><tr><th>vat_number</th><td>None</td></tr></table></td></tr><tr><th>customer_name</th><td>Direct Produce Supplies LTD</td></tr><tr><th>supplier_address</th><td>Catalina, Baní, República Dominicana</td></tr></table>"
      ],
      "text/plain": [
       "<IPython.core.display.HTML object>"
      ]
     },
     "metadata": {},
     "output_type": "display_data"
    },
    {
     "name": "stdout",
     "output_type": "stream",
     "text": [
      "\n",
      "\n"
     ]
    },
    {
     "data": {
      "text/html": [
       "<table border=\"1\"><tr><th>line_items</th><td><table border=\"1\"><thead><tr><th>product_code</th><th>description</th><th>quantity</th><th>price_per_unit</th><th>vat_percent</th><th>total_price</th></tr></thead><tbody><tr><td>11001533</td><td>FRA CAR 18X250 GEN VD DES K62H40 NG PAP</td><td>2.340,00</td><td>32,40</td><td>None</td><td>4.211,58</td></tr><tr><td>11001533</td><td>FRA CAR 18X250 GEN VD DES K62H40 NG PAP</td><td>5.886,00</td><td>9,60</td><td>None</td><td>3.138,87</td></tr><tr><td>11001533</td><td>FRA CAR 18X250 GEN VD DES K62H40 NG PAP</td><td>3.564,00</td><td>2,47</td><td>None</td><td>489,1</td></tr><tr><td>11001533</td><td>FRA CAR 18X250 GEN VD DES K62H40 NG PAP</td><td>7.146,00</td><td>4,44</td><td>None</td><td>1.763,53</td></tr><tr><td>11001533</td><td>FRA CAR 18X250 GEN VD DES K62H40 NG PAP</td><td>6.120,00</td><td>6,88</td><td>None</td><td>2.339,4</td></tr><tr><td>11001533</td><td>FRA CAR 18X250 GEN VD DES K62H40 NG PAP</td><td>10.710,00</td><td>7,94</td><td>None</td><td>4.726,77</td></tr><tr><td>11001533</td><td>FRA CAR 18X250 GEN VD DES K62H40 NG PAP</td><td>7.650,00</td><td>4,25</td><td>None</td><td>1.804,37</td></tr><tr><td>11001533</td><td>FRA CAR 18X250 GEN VD DES K62H40 NG PAP</td><td>9.180,00</td><td>2,55</td><td>None</td><td>1.299,03</td></tr><tr><td>11001533</td><td>FRA CAR 18X250 GEN VD DES K62H40 NG PAP</td><td>6.120,00</td><td>2,49</td><td>None</td><td>847,25</td></tr></tbody></table></td></tr><tr><th>total_amount</th><td><table border=\"1\"><tr><th>total_items</th><td>9</td></tr><tr><th>total_tax</th><td>None</td></tr><tr><th>total_price</th><td>20.619,90</td></tr></table></td></tr><tr><th>due_date</th><td>None</td></tr><tr><th>payment_date</th><td>None</td></tr><tr><th>invoice_date</th><td>09/11/2023</td></tr><tr><th>invoice_number</th><td>503003382</td></tr><tr><th>purchase_order</th><td>None</td></tr><tr><th>reference_numbers</th><td><ul><li>141800</li><li>141801</li><li>141802</li><li>141803</li><li>141804</li><li>141805</li><li>141799</li><li>142010</li><li>142097</li></ul></td></tr><tr><th>locale</th><td>None</td></tr><tr><th>country</th><td>United Kingdom</td></tr><tr><th>currency</th><td>EUR</td></tr><tr><th>payment_details</th><td><table border=\"1\"><tr><th>iban</th><td>GB68EBUR23122876803326</td></tr><tr><th>swift</th><td>EBURGBA1XXX</td></tr><tr><th>bic</th><td>None</td></tr><tr><th>account_number</th><td>None</td></tr></table></td></tr><tr><th>vat_number</th><td>GB328693957</td></tr><tr><th>supplier_name</th><td>Surexport UK LTD</td></tr><tr><th>taxes_details</th><td><table border=\"1\"><thead><tr><th>rate</th><th>amount</th></tr></thead><tbody><tr><td>0,00%</td><td>0,00</td></tr></tbody></table></td></tr><tr><th>total_amount_including_taxes</th><td>20.619,86</td></tr><tr><th>total_net_amount_excluding_taxes</th><td>20.619,86</td></tr><tr><th>customer_address</th><td>57-63 CHURCH ROAD\n",
       "SW19 5SB WIMBLEDON\n",
       "United Kingdom</td></tr><tr><th>shipping_address</th><td>None</td></tr><tr><th>billing_address</th><td>None</td></tr><tr><th>customer_company_registrations</th><td><table border=\"1\"><tr><th>vat_number</th><td>GB125476511</td></tr></table></td></tr><tr><th>customer_name</th><td>DPS LTD</td></tr><tr><th>supplier_address</th><td>Great Queen Street 16\n",
       "WC2B 5AH London</td></tr></table>"
      ],
      "text/plain": [
       "<IPython.core.display.HTML object>"
      ]
     },
     "metadata": {},
     "output_type": "display_data"
    },
    {
     "name": "stdout",
     "output_type": "stream",
     "text": [
      "\n",
      "\n"
     ]
    },
    {
     "data": {
      "text/html": [
       "<table border=\"1\"><tr><th>line_items</th><td><table border=\"1\"><thead><tr><th>product_code</th><th>description</th><th>quantity</th><th>price_per_unit</th><th>vat_percent</th><th>total_price</th></tr></thead><tbody><tr><td>None</td><td>AIRLINE HANDLING</td><td>None</td><td>0.28</td><td>0.00</td><td>393.12</td></tr><tr><td>None</td><td>CUSTOMS ENTRY</td><td>None</td><td>35.00</td><td>0.00</td><td>35.00</td></tr><tr><td>None</td><td>FUEL SURCHARGE @ 8%</td><td>None</td><td>8.00</td><td>0.00</td><td>9.12</td></tr><tr><td>None</td><td>DELIVERY</td><td>None</td><td>25.41</td><td>0.00</td><td>50.82</td></tr><tr><td>None</td><td>SUPPLY OF PALLET CHARGE</td><td>None</td><td>4.50</td><td>0.00</td><td>9.00</td></tr><tr><td>None</td><td>PULL BACK</td><td>None</td><td>0.045</td><td>0.00</td><td>63.18</td></tr><tr><td>None</td><td>WAREHOUSE HANDLING CHARGE</td><td>None</td><td>0.04</td><td>0.00</td><td>56.16</td></tr></tbody></table></td></tr><tr><th>total_amount</th><td><table border=\"1\"><tr><th>total_items</th><td>7</td></tr><tr><th>total_tax</th><td>0.00</td></tr><tr><th>total_price</th><td>616.40</td></tr></table></td></tr><tr><th>due_date</th><td>None</td></tr><tr><th>payment_date</th><td>None</td></tr><tr><th>invoice_date</th><td>15/11/2023</td></tr><tr><th>invoice_number</th><td>SI187262</td></tr><tr><th>purchase_order</th><td>143189</td></tr><tr><th>reference_numbers</th><td><ul><li>LHAIJ337840</li><li>125-56290566/</li></ul></td></tr><tr><th>locale</th><td>None</td></tr><tr><th>country</th><td>UNITED KINGDOM</td></tr><tr><th>currency</th><td>GBP</td></tr><tr><th>payment_details</th><td><table border=\"1\"><tr><th>iban</th><td>GB30NWBK60084676738132</td></tr><tr><th>swift</th><td>None</td></tr><tr><th>bic</th><td>NWBKGB2L</td></tr><tr><th>account_number</th><td>76738132</td></tr></table></td></tr><tr><th>vat_number</th><td>GB823723242</td></tr><tr><th>supplier_name</th><td>PERISHABLE MOVEMENTS LTD</td></tr><tr><th>taxes_details</th><td><table border=\"1\"><thead><tr><th>rate</th><th>amount</th></tr></thead><tbody><tr><td>0.00</td><td>0.00</td></tr></tbody></table></td></tr><tr><th>total_amount_including_taxes</th><td>616.40</td></tr><tr><th>total_net_amount_excluding_taxes</th><td>616.40</td></tr><tr><th>customer_address</th><td>FOA: DPS LOGISTICS TEAM 4 CONQUEROR COURT\n",
       "STAPLEHURST ROAD SITTINGBOURNE\n",
       "KENT\n",
       "ΜΕ10 5BH</td></tr><tr><th>shipping_address</th><td>None</td></tr><tr><th>billing_address</th><td>None</td></tr><tr><th>customer_company_registrations</th><td><table border=\"1\"><tr><th>vat_number</th><td>GB125476511000</td></tr></table></td></tr><tr><th>customer_name</th><td>DIRECT PRODUCE SUPPLIES PLC</td></tr><tr><th>supplier_address</th><td>UNITS 1-6 SKYPORT HEATHROW\n",
       "ARMADALE ROAD FELTHAM\n",
       "MIDDLESEX TW14 0LW\n",
       "UNITED KINGDOM</td></tr></table>"
      ],
      "text/plain": [
       "<IPython.core.display.HTML object>"
      ]
     },
     "metadata": {},
     "output_type": "display_data"
    },
    {
     "name": "stdout",
     "output_type": "stream",
     "text": [
      "\n",
      "\n"
     ]
    }
   ],
   "source": [
    "extractor.display_all(invoices)"
   ]
  },
  {
   "cell_type": "code",
   "execution_count": 4,
   "metadata": {},
   "outputs": [],
   "source": [
    "extractor.save_all(invoices, project_root / 'test_output_invoices')"
   ]
  },
  {
   "cell_type": "code",
   "execution_count": null,
   "metadata": {},
   "outputs": [],
   "source": []
  }
 ],
 "metadata": {
  "kernelspec": {
   "display_name": "gemini",
   "language": "python",
   "name": "python3"
  },
  "language_info": {
   "codemirror_mode": {
    "name": "ipython",
    "version": 3
   },
   "file_extension": ".py",
   "mimetype": "text/x-python",
   "name": "python",
   "nbconvert_exporter": "python",
   "pygments_lexer": "ipython3",
   "version": "3.11.10"
  }
 },
 "nbformat": 4,
 "nbformat_minor": 2
}
